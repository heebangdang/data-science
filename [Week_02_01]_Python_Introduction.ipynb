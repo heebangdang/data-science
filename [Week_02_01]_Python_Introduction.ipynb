{
 "cells": [
  {
   "cell_type": "markdown",
   "metadata": {
    "colab_type": "text",
    "id": "F5mvaZIP07dS"
   },
   "source": [
    "<!--NAVIGATION-->\n",
    "| [Contents](Index.ipynb) | [Week-02-02-Python-Introduction-2](Week-02-02-Python-Introduction-2.ipynb)  >\n",
    "\n",
    "\n"
   ]
  },
  {
   "cell_type": "markdown",
   "metadata": {
    "colab_type": "text",
    "id": "38rzs2kH_n9k"
   },
   "source": [
    "### Launching the Jupyter Notebook\n",
    "\n",
    "The Jupyter notebook is a browser-based graphical interface to the IPython shell, and builds on it a rich set of dynamic display capabilities.\n",
    "As well as executing Python/IPython statements, the notebook allows the user to include formatted text, static and dynamic visualizations, mathematical equations, JavaScript widgets, and much more.\n",
    "Furthermore, these documents can be saved in a way that lets other people open them and execute the code on their own systems.\n",
    "\n",
    "Though the IPython notebook is viewed and edited through your web browser window, it must connect to a running Python process in order to execute code.\n",
    "This process (known as a \"kernel\") can be started by running the following command in your system shell:\n",
    "\n",
    "```\n",
    "$ jupyter notebook\n",
    "```\n",
    "\n",
    "This command will launch a local web server that will be visible to your browser.\n",
    "It immediately spits out a log showing what it is doing; that log will look something like this:\n",
    "\n",
    "```\n",
    "$ jupyter notebook\n",
    "[NotebookApp] Serving notebooks from local directory: /Users/user/xxxxxxx\n",
    "[NotebookApp] 0 active kernels \n",
    "[NotebookApp] The IPython Notebook is running at: http://localhost:8888/\n",
    "[NotebookApp] Use Control-C to stop this server and shut down all kernels (twice to skip confirmation).\n",
    "```\n",
    "\n",
    "Upon issuing the command, your default browser should automatically open and navigate to the listed local URL;\n",
    "the exact address will depend on your system.\n",
    "If the browser does not open automatically, you can open a window and manually open this address (*http://localhost:8888/* in this example)."
   ]
  },
  {
   "cell_type": "markdown",
   "metadata": {
    "colab_type": "text",
    "id": "J89V8NRv_tA6"
   },
   "source": [
    "### Launching the Jupyter Notebook using JupyterLab\n",
    "\n",
    "JupyterLab is the next-generation user interface for Project Jupyter offering all the familiar building blocks of the classic Jupyter Notebook (notebook, terminal, text editor, file browser, rich outputs, etc.) in a flexible and powerful user interface. JupyterLab will eventually replace the classic Jupyter Notebook.\n",
    "\n",
    "```\n",
    "$ jupyter lab\n",
    "```\n",
    "\n",
    "The current JupyterLab releases are suitable for general usage, and the extension APIs will continue to evolve for JupyterLab extension developers."
   ]
  },
  {
   "cell_type": "markdown",
   "metadata": {
    "colab_type": "text",
    "id": "P6ulfY7FXCdQ"
   },
   "source": [
    "# Basic Python"
   ]
  },
  {
   "cell_type": "markdown",
   "metadata": {
    "colab_type": "text",
    "id": "mnn0lg3s4s_0"
   },
   "source": [
    "Key motivations of Basic Python with Jupyter Notebook include:\n",
    "- Write a text in Markdown\n",
    "- Review the basic concept of Programming (Sequential, Selection, and Iteration)\n",
    "- Learn some basic data structure in Python (Variables, List, Dictionary, Tuple, Sets)\n",
    "\n",
    "Related to the area of Basic Python in Jupyter Notebook :\n",
    "- Markdown\n",
    "  - The focus is to write some text. The other text formatting issues will be explained in other section.\n",
    "- Basic Concepts of Programming :\n",
    "  - Statement\n",
    "  - Variable\n",
    "  - Sequential\n",
    "  - Selection (IF-THEN-ELSE)\n",
    "  - Iteration / Repetition (FOR, WHILE)\n",
    "  - Additional Statements\n",
    "  - Learning Check\n",
    "- Basic Data Structure\n",
    "  - Variables\n",
    "  - List\n",
    "  - Tuple\n",
    "  - Dictionary\n",
    "  - Sets\n",
    "  - Learning Check\n",
    "\n"
   ]
  },
  {
   "cell_type": "markdown",
   "metadata": {
    "colab_type": "text",
    "id": "AhY5H9FlXJPe"
   },
   "source": [
    "## Markdown \n",
    "\n",
    "- This section addresses some basic Markdown\n",
    "  - Text Description\n",
    "  - Headings\n",
    "  - Table and Figures\n",
    "\n",
    "To run the cell, you can press Ctrl + Enter\n",
    "\n",
    "To run the cell with additional new line, you can press Shift + Enter\n"
   ]
  },
  {
   "cell_type": "markdown",
   "metadata": {
    "colab_type": "text",
    "id": "G0Igi0vAEuto"
   },
   "source": [
    "## Text Description\n",
    "\n",
    "In the markdown, you need to describe the type of text\n",
    "\n",
    "- **Emphasis**: Use this code: Bold: ```__string__``` (__string__) or ```**string**``` (**string**) Italic: ```_string_``` (_string_) or ```*string*``` (*string*)\n",
    "\n",
    "\n",
    "- **Mathematical symbols**: Use this code: $ mathematical$  $symbols $\n",
    "\n",
    "   $x=\\frac{-b\\pm\\sqrt{b^2-4ac}}{2a}$\n",
    "\n",
    "\n",
    "- **Monospace font**: Surround text with a back single quotation mark. (`) Use monospace for file path and file names and for text users enter or message text users see. \n",
    "\n",
    "\n",
    "- **Line breaks**: Sometimes markdown doesn’t make line breaks when you want them. Use 2 spaces or this code for a manual line break: <br> <br>\n",
    "\n",
    "\n",
    "- **Colors**: Use this code: <font color=blue|red|green|pink|yellow>Text</font> Not all markdown code works within a font tag, so review your colored text carefully!\n",
    "\n",
    "\n",
    "- **Indented quoting**: Use a greater than sign (>) and then a space, then type the text. The text is indented and has a gray horizontal line to the left of it until the next carriage return.\n",
    "\n",
    "\n",
    "- **Bullets**: Use the dash sign (- ) with a space after it, or a space, a dash, and a space ( - ), to create a circular bullet. To create a sub bullet, use a tab followed a dash and a space. You can also use an asterisk instead of a dash, and it works the same.\n",
    "\n",
    "\n",
    "- **Numbered lists**: Start with 1. followed by a space, then it starts numbering for you. Start each line with some number and a period, then a space. Tab to indent to get subnumbering.\n",
    "\n",
    "\n",
    "- **Horizontal lines**: Use three asterisks: ***\n",
    "\n",
    "***\n",
    "\n",
    "- **Internal links**: To link to a section, use this code: [section title](#section-title) For the text in the parentheses, replace spaces and special characters with a hyphen. Make sure to test all the links!\n",
    "Alternatively, you can add an ID for a section right above the section title. \n",
    "\n",
    "- Use this code: <a id=\"section_ID\"></a> Make sure that the section_ID is unique within the notebook.\n",
    "\n",
    "\n",
    "- Use this code for the link and make sure to test all the links! [section title](#section_ID)\n",
    "External links: Use this code and test all links! [link text](http://url)"
   ]
  },
  {
   "cell_type": "markdown",
   "metadata": {
    "colab_type": "text",
    "id": "km_xSyqu8WJP"
   },
   "source": [
    "## Headings\n",
    "\n",
    "In the markdown, you can write text as a description of your code or explanation on something out of the code. \n",
    "\n",
    "While there are many things we can do on Markdown, this lecture will focus only on basic writing such as Headings, Typing (Italic, Bold, Underline), Table and Figures.\n",
    "\n",
    "In the Headings, we can use # as the symbol to distinguish the heading level. \n",
    "\n",
    "# Heading 1\n",
    "\n",
    "## Heading 2\n",
    "\n",
    "### Heading 3\n",
    "\n",
    "#### Heading 4"
   ]
  },
  {
   "cell_type": "markdown",
   "metadata": {
    "colab_type": "text",
    "id": "ldS7kjkTARK1"
   },
   "source": [
    "## Table & Figure\n",
    "\n",
    "- How to create a table\n",
    "  \n",
    "  The code would be like below.\n",
    "```\n",
    "|  Col1   |   Col2   |    Col3  |   Col4   |   Col5   | \n",
    "|---------|----------|----------|----------|----------|\n",
    "| Cell11  | Cell12   | Cell13   | Cell14   | Cell15   |\n",
    "| Cell21  | Cell22   | Cell23   | Cell24   | Cell25   |\n",
    "| Cell31  | Cell32   |  Cell33  | Cell34   | Cell35   |\n",
    "```\n",
    "\n",
    "  The table as the result of the code would be as below.\n",
    "\n",
    "|  Col1   |   Col2   |    Col3  |   Col4   |   Col5   |\n",
    "|---------|----------|----------|----------|----------|\n",
    "| Cell11  | Cell12   | Cell13   | Cell14   | Cell15   |\n",
    "| Cell21  | Cell22   | Cell23   | Cell24   | Cell25   |\n",
    "| Cell31  | Cell32   |  Cell33  | Cell34   | Cell35   |\n",
    "\n",
    "- How to attach a figure\n",
    "\n",
    "- **Figure / Graphics**: You can attach image files directly to a notebook only in Markdown cells. Drag and drop your images to the Mardown cell to attach it to the notebook. To add images to other cell types, you can use only graphics that are hosted on the web. You can’t add captions for graphics at this time. Use this code: <img src=\"url.gif\" alt=\"Alt text that describes the graphic\" title=\"Title text\" />"
   ]
  },
  {
   "cell_type": "markdown",
   "metadata": {
    "colab_type": "text",
    "id": "6hQKiMVUVizn"
   },
   "source": [
    "## Learning Check"
   ]
  },
  {
   "cell_type": "markdown",
   "metadata": {
    "colab_type": "text",
    "id": "rL0CDK-IGiAd"
   },
   "source": [
    "# Basic Concepts of Programming"
   ]
  },
  {
   "cell_type": "markdown",
   "metadata": {
    "colab_type": "text",
    "id": "TcjfN1UsIWRx"
   },
   "source": [
    "You can type a comment in the code section. Comment means a description in a text format that will not be executed during the code execution."
   ]
  },
  {
   "cell_type": "code",
   "execution_count": 1,
   "metadata": {
    "colab": {},
    "colab_type": "code",
    "id": "zjqKWi7WITih"
   },
   "outputs": [],
   "source": [
    "# Comments in a code\n",
    "# You can type anything without any concern to the Python syntax"
   ]
  },
  {
   "cell_type": "markdown",
   "metadata": {
    "colab_type": "text",
    "id": "jDX2sZxuGoHH"
   },
   "source": [
    "## Statement\n",
    "\n",
    "In Python, the statement is straighforward. For example, if we want to print:"
   ]
  },
  {
   "cell_type": "code",
   "execution_count": 2,
   "metadata": {
    "colab": {
     "base_uri": "https://localhost:8080/",
     "height": 34
    },
    "colab_type": "code",
    "id": "kWaLjbePHzCi",
    "outputId": "a493d01a-56e1-46cc-e41c-158a833445f9"
   },
   "outputs": [
    {
     "name": "stdout",
     "output_type": "stream",
     "text": [
      "hello\n"
     ]
    }
   ],
   "source": [
    "print(\"hello\")"
   ]
  },
  {
   "cell_type": "markdown",
   "metadata": {
    "colab_type": "text",
    "id": "IwUD2exRH2DL"
   },
   "source": [
    "If we want to print with other text or number:"
   ]
  },
  {
   "cell_type": "code",
   "execution_count": 3,
   "metadata": {
    "colab": {
     "base_uri": "https://localhost:8080/",
     "height": 34
    },
    "colab_type": "code",
    "id": "Pt7ZS9aJH8OP",
    "outputId": "9946466e-d184-411d-c951-3468975be621"
   },
   "outputs": [
    {
     "name": "stdout",
     "output_type": "stream",
     "text": [
      "hello Bernardo\n"
     ]
    }
   ],
   "source": [
    "print(\"hello\", \"Bernardo\")"
   ]
  },
  {
   "cell_type": "code",
   "execution_count": 4,
   "metadata": {
    "colab": {
     "base_uri": "https://localhost:8080/",
     "height": 34
    },
    "colab_type": "code",
    "id": "6-cC5KV2IAWT",
    "outputId": "faee399a-fb66-498b-9288-4a22f1c46578"
   },
   "outputs": [
    {
     "name": "stdout",
     "output_type": "stream",
     "text": [
      "This is my number 25\n"
     ]
    }
   ],
   "source": [
    "print(\"This is my number\", 25)"
   ]
  },
  {
   "cell_type": "code",
   "execution_count": 5,
   "metadata": {
    "colab": {
     "base_uri": "https://localhost:8080/",
     "height": 68
    },
    "colab_type": "code",
    "id": "5Bg7NCQkIl8y",
    "outputId": "bab9470c-d0c3-42df-fba8-1299163808e3"
   },
   "outputs": [
    {
     "name": "stdout",
     "output_type": "stream",
     "text": [
      "This is my personal message.\n",
      "Please check your Notebook\n",
      "For the detail comments\n"
     ]
    }
   ],
   "source": [
    "# You can print multiple line\n",
    "print('''This is my personal message.\n",
    "Please check your Notebook\n",
    "For the detail comments''')"
   ]
  },
  {
   "cell_type": "markdown",
   "metadata": {
    "colab_type": "text",
    "id": "DqKQ55fLIIHH"
   },
   "source": [
    "Doing an arithmetic operations is also straighforward.\n",
    "\n",
    "The basic math operator \n",
    "\n",
    "| Operator      | Description |\n",
    "|---------------|-------------|\n",
    "| ``+``         | Addition    |\n",
    "| ``-``         | Subtraction   | \n",
    "| ``*``         | Multiplication| \n",
    "| ``/``         | Division      | \n",
    "| ``//``        | Integer division| \n",
    "| ``%``         | Modulus (Remainder)|\n",
    "| ``**``        | Exponent      |\n"
   ]
  },
  {
   "cell_type": "code",
   "execution_count": 6,
   "metadata": {
    "colab": {
     "base_uri": "https://localhost:8080/",
     "height": 34
    },
    "colab_type": "code",
    "id": "GUuUntwUINGl",
    "outputId": "77ea5a9b-6e24-4f66-b0d1-5888fa864c85"
   },
   "outputs": [
    {
     "data": {
      "text/plain": [
       "4"
      ]
     },
     "execution_count": 6,
     "metadata": {},
     "output_type": "execute_result"
    }
   ],
   "source": [
    "2 + 2  #addition"
   ]
  },
  {
   "cell_type": "code",
   "execution_count": 7,
   "metadata": {
    "colab": {},
    "colab_type": "code",
    "id": "io5sxp-MJz7A"
   },
   "outputs": [
    {
     "data": {
      "text/plain": [
       "0"
      ]
     },
     "execution_count": 7,
     "metadata": {},
     "output_type": "execute_result"
    }
   ],
   "source": [
    "2 - 2  #subtraction"
   ]
  },
  {
   "cell_type": "code",
   "execution_count": 8,
   "metadata": {
    "colab": {
     "base_uri": "https://localhost:8080/",
     "height": 34
    },
    "colab_type": "code",
    "id": "uz3ev3UZIHMN",
    "outputId": "3c065b27-c9ba-40a8-cc65-445aa1c1d6dc"
   },
   "outputs": [
    {
     "data": {
      "text/plain": [
       "6"
      ]
     },
     "execution_count": 8,
     "metadata": {},
     "output_type": "execute_result"
    }
   ],
   "source": [
    "2 * 3  #multiplication"
   ]
  },
  {
   "cell_type": "code",
   "execution_count": 9,
   "metadata": {
    "colab": {
     "base_uri": "https://localhost:8080/",
     "height": 34
    },
    "colab_type": "code",
    "id": "S9Jos7IXIPyN",
    "outputId": "a12bc83b-4955-48a9-f69a-86f517438b9f"
   },
   "outputs": [
    {
     "data": {
      "text/plain": [
       "1.3333333333333333"
      ]
     },
     "execution_count": 9,
     "metadata": {},
     "output_type": "execute_result"
    }
   ],
   "source": [
    "4 / 3  #division"
   ]
  },
  {
   "cell_type": "code",
   "execution_count": 10,
   "metadata": {
    "colab": {
     "base_uri": "https://localhost:8080/",
     "height": 34
    },
    "colab_type": "code",
    "id": "WM4B-X-oJhUM",
    "outputId": "afc01410-5763-4f9f-f585-a3b9d4446117"
   },
   "outputs": [
    {
     "data": {
      "text/plain": [
       "1"
      ]
     },
     "execution_count": 10,
     "metadata": {},
     "output_type": "execute_result"
    }
   ],
   "source": [
    "4 // 3 #integer division"
   ]
  },
  {
   "cell_type": "code",
   "execution_count": 11,
   "metadata": {
    "colab": {
     "base_uri": "https://localhost:8080/",
     "height": 34
    },
    "colab_type": "code",
    "id": "DMQBLTBEzAkG",
    "outputId": "ac9fe1aa-ae7f-4733-f837-c7e741667269"
   },
   "outputs": [
    {
     "data": {
      "text/plain": [
       "8"
      ]
     },
     "execution_count": 11,
     "metadata": {},
     "output_type": "execute_result"
    }
   ],
   "source": [
    "2**3 #exponent"
   ]
  },
  {
   "cell_type": "markdown",
   "metadata": {
    "colab_type": "text",
    "id": "3lh-u8CNJkYa"
   },
   "source": [
    "Question: What is the different between ```/``` and ```//```?"
   ]
  },
  {
   "cell_type": "code",
   "execution_count": 12,
   "metadata": {
    "colab": {
     "base_uri": "https://localhost:8080/",
     "height": 34
    },
    "colab_type": "code",
    "id": "5kFbNxHsJvJ8",
    "outputId": "4c7d0698-c248-4786-cdad-7f8465d82abf"
   },
   "outputs": [
    {
     "data": {
      "text/plain": [
       "1"
      ]
     },
     "execution_count": 12,
     "metadata": {},
     "output_type": "execute_result"
    }
   ],
   "source": [
    "10 % 3 #modulo"
   ]
  },
  {
   "cell_type": "markdown",
   "metadata": {
    "colab_type": "text",
    "id": "kFECdOGRJseL"
   },
   "source": [
    "## Variable\n",
    "\n",
    "In Python, we only need to define the variable name without the data type. Unlike the other programming languages (e.g., C, JAVA), Python can automatical recognize the variable value without any definitions such as integer, float, string."
   ]
  },
  {
   "cell_type": "code",
   "execution_count": 13,
   "metadata": {
    "colab": {
     "base_uri": "https://localhost:8080/",
     "height": 34
    },
    "colab_type": "code",
    "id": "dAwhPsFlJtdm",
    "outputId": "c49697e3-63f7-4554-d69c-173fdbced751"
   },
   "outputs": [
    {
     "name": "stdout",
     "output_type": "stream",
     "text": [
      "9\n"
     ]
    }
   ],
   "source": [
    "x = 9 #define a value 9 of a variable x\n",
    "print(x) #print x"
   ]
  },
  {
   "cell_type": "code",
   "execution_count": 14,
   "metadata": {
    "colab": {
     "base_uri": "https://localhost:8080/",
     "height": 34
    },
    "colab_type": "code",
    "id": "GIqLYmaNKh1x",
    "outputId": "21c3ef95-c319-4d0b-c9a9-00154a47e106"
   },
   "outputs": [
    {
     "name": "stdout",
     "output_type": "stream",
     "text": [
      "Park\n"
     ]
    }
   ],
   "source": [
    "name = \"Park\" #define a value of \"Park\" of a variable name\n",
    "print(name) #print name"
   ]
  },
  {
   "cell_type": "code",
   "execution_count": 15,
   "metadata": {
    "colab": {
     "base_uri": "https://localhost:8080/",
     "height": 34
    },
    "colab_type": "code",
    "id": "Mj3fcfAjKs6N",
    "outputId": "45910179-517b-4c25-8230-75fea495c2d6"
   },
   "outputs": [
    {
     "name": "stdout",
     "output_type": "stream",
     "text": [
      "32.3\n"
     ]
    }
   ],
   "source": [
    "temperature = 32.3 #define a value of \"32.3\" of a variable temperature (float)\n",
    "print(temperature) #print temperature"
   ]
  },
  {
   "cell_type": "markdown",
   "metadata": {
    "colab_type": "text",
    "id": "LEFTo-BvLNxB"
   },
   "source": [
    "In the case that we need to get a value from the user, we can use the command ```input```"
   ]
  },
  {
   "cell_type": "code",
   "execution_count": 16,
   "metadata": {
    "colab": {
     "base_uri": "https://localhost:8080/",
     "height": 51
    },
    "colab_type": "code",
    "id": "F99gwATMLMwO",
    "outputId": "c0fa48ea-fbe1-4721-8109-652e7708edc9"
   },
   "outputs": [
    {
     "name": "stdin",
     "output_type": "stream",
     "text": [
      "Enter your school name: HUFS\n"
     ]
    },
    {
     "name": "stdout",
     "output_type": "stream",
     "text": [
      "HUFS\n"
     ]
    }
   ],
   "source": [
    "school = input(\"Enter your school name:\")\n",
    "print(school)"
   ]
  },
  {
   "cell_type": "markdown",
   "metadata": {
    "colab_type": "text",
    "id": "a9CFQToTLZya"
   },
   "source": [
    "If you need to get an integer value, you can use the function ```int``` to convert the input value into integer. Note that the input should be an integer value (not a letter or String). "
   ]
  },
  {
   "cell_type": "code",
   "execution_count": 17,
   "metadata": {
    "colab": {
     "base_uri": "https://localhost:8080/",
     "height": 51
    },
    "colab_type": "code",
    "id": "py9T3D1YK8Gz",
    "outputId": "d8627062-56ba-4eb2-b87f-271514e11467"
   },
   "outputs": [
    {
     "name": "stdin",
     "output_type": "stream",
     "text": [
      "enter any integer number 1\n"
     ]
    },
    {
     "name": "stdout",
     "output_type": "stream",
     "text": [
      "1\n"
     ]
    }
   ],
   "source": [
    "y = int(input(\"enter any integer number\"))\n",
    "print(y)"
   ]
  },
  {
   "cell_type": "code",
   "execution_count": 18,
   "metadata": {
    "colab": {
     "base_uri": "https://localhost:8080/",
     "height": 51
    },
    "colab_type": "code",
    "id": "N6wu0KI9L35H",
    "outputId": "d7c4e01f-3608-4ab9-bdb8-3e2dd894ecce"
   },
   "outputs": [
    {
     "name": "stdin",
     "output_type": "stream",
     "text": [
      "Enter the temperature today:  21\n"
     ]
    },
    {
     "name": "stdout",
     "output_type": "stream",
     "text": [
      "21.0\n"
     ]
    }
   ],
   "source": [
    "z = float(input(\"Enter the temperature today: \"))\n",
    "print(z)"
   ]
  },
  {
   "cell_type": "markdown",
   "metadata": {
    "colab_type": "text",
    "id": "HhXqoMI5Nbm0"
   },
   "source": [
    "## Sequential\n",
    "\n",
    "Sequential is the basic concept of programming that everyone should understand. The sequence of code execution for any programming languages would follow top-to-bottom and left-to-right. \n",
    "\n",
    "In the top-to-bottom, it will be following the sequence of multiple statements.\n",
    "\n"
   ]
  },
  {
   "cell_type": "code",
   "execution_count": 24,
   "metadata": {
    "colab": {
     "base_uri": "https://localhost:8080/",
     "height": 34
    },
    "colab_type": "code",
    "id": "XJX1ww8aN8Vu",
    "outputId": "958a679a-6194-4a4b-8055-2fc2f449dcee"
   },
   "outputs": [
    {
     "name": "stdout",
     "output_type": "stream",
     "text": [
      "100\n"
     ]
    }
   ],
   "source": [
    "# Define a variable\n",
    "x\n",
    "\n",
    "# Insert 20 into the variable x\n",
    "x = 20\n",
    "\n",
    "# multiple variable x with a scalar value of 5 and store in a variable y\n",
    "y = x * 5\n",
    "\n",
    "# print the variable y\n",
    "print(y)"
   ]
  },
  {
   "cell_type": "markdown",
   "metadata": {
    "colab_type": "text",
    "id": "5ETzW5oUN6-Z"
   },
   "source": [
    "In the left-to-right, it is important to understand the precedence rule in arithmetic.\n"
   ]
  },
  {
   "cell_type": "code",
   "execution_count": 17,
   "metadata": {
    "colab": {
     "base_uri": "https://localhost:8080/",
     "height": 34
    },
    "colab_type": "code",
    "id": "CgroI7jjOS6O",
    "outputId": "62803d9a-abd2-4662-8b70-efc59a837c86"
   },
   "outputs": [
    {
     "name": "stdout",
     "output_type": "stream",
     "text": [
      "15\n"
     ]
    }
   ],
   "source": [
    "#Check this arithmetical operations\n",
    "x = 1 + 2 + 3 + 4 + 5 \n",
    "print(x)"
   ]
  },
  {
   "cell_type": "markdown",
   "metadata": {
    "colab_type": "text",
    "id": "kUnGdZC-OdqP"
   },
   "source": [
    "Since the arithmetic operations are all the same, there is unnecessary to check the precedence rule. However, it will affect the result if the arithmetic operations are different."
   ]
  },
  {
   "cell_type": "code",
   "execution_count": 18,
   "metadata": {
    "colab": {
     "base_uri": "https://localhost:8080/",
     "height": 34
    },
    "colab_type": "code",
    "id": "QFunI24YOnal",
    "outputId": "ca7e891a-3f40-45b6-ee33-da56695eb195"
   },
   "outputs": [
    {
     "name": "stdout",
     "output_type": "stream",
     "text": [
      "8.5\n"
     ]
    }
   ],
   "source": [
    "y = 3 + 2 * 4 - 5 / 2\n",
    "print(y)"
   ]
  },
  {
   "cell_type": "markdown",
   "metadata": {
    "colab_type": "text",
    "id": "lznUpFcYOvJo"
   },
   "source": [
    "In that example, ```*``` and ```/``` will be executed first and ```+``` and ```-``` will be subsequently executed. If we put some parentheses, the result would be different"
   ]
  },
  {
   "cell_type": "code",
   "execution_count": 19,
   "metadata": {
    "colab": {
     "base_uri": "https://localhost:8080/",
     "height": 34
    },
    "colab_type": "code",
    "id": "9g5LRBxHOuWI",
    "outputId": "ac11c0bc-93ef-4793-f969-5176690e1bb8"
   },
   "outputs": [
    {
     "name": "stdout",
     "output_type": "stream",
     "text": [
      "17.5\n"
     ]
    }
   ],
   "source": [
    "y = (3 + 2) * 4 - 5 / 2\n",
    "print(y)"
   ]
  },
  {
   "cell_type": "markdown",
   "metadata": {
    "colab_type": "text",
    "id": "k2ULyZQePJRI"
   },
   "source": [
    "## Selection\n",
    "\n",
    "Selection is related to options. In any programming languages, the syntax for selection is \"IF\".\n",
    "If the condition is TRUE, you can print the statement after the colon (:)."
   ]
  },
  {
   "cell_type": "markdown",
   "metadata": {
    "colab_type": "text",
    "id": "NLrfMreW0XNR"
   },
   "source": [
    "First, we need to understand the conditional tests.\n",
    "\n",
    "| Conditions | Operator | Example   |\n",
    "|----------- | ---------| ----------|\n",
    "| Equals     |     ==   |  x == 50  |\n",
    "| Not equal  |    !=    |  x != 50  |\n",
    "| Greater Than     |     >   |  x > 50  |\n",
    "| Greater Than or Equal To  |    >=    |  x >= 50  |\n",
    "| Less Than     |     <   |  x < 50  |\n",
    "| Less Than or Equal To  |    <=    |  x <= 50  |\n"
   ]
  },
  {
   "cell_type": "code",
   "execution_count": 20,
   "metadata": {
    "colab": {
     "base_uri": "https://localhost:8080/",
     "height": 34
    },
    "colab_type": "code",
    "id": "sTVk1aPvRabI",
    "outputId": "3da2ea89-bd06-4c09-815f-ac8119871087"
   },
   "outputs": [
    {
     "name": "stdout",
     "output_type": "stream",
     "text": [
      "2 is greater than 1\n"
     ]
    }
   ],
   "source": [
    "x = 2\n",
    "if x > 1:\n",
    "  print(x , \"is greater than 1\")"
   ]
  },
  {
   "cell_type": "markdown",
   "metadata": {
    "colab_type": "text",
    "id": "z_l4tTSoRTPL"
   },
   "source": [
    "In any case, the condition can be TRUE or FALSE. You can use ELSE statement."
   ]
  },
  {
   "cell_type": "code",
   "execution_count": 21,
   "metadata": {
    "colab": {
     "base_uri": "https://localhost:8080/",
     "height": 34
    },
    "colab_type": "code",
    "id": "Ziy7RXVrRu0A",
    "outputId": "83d401dc-0c84-45a3-8cce-e83e6ccdcf14"
   },
   "outputs": [
    {
     "name": "stdout",
     "output_type": "stream",
     "text": [
      "5 is odd\n"
     ]
    }
   ],
   "source": [
    "x = 5\n",
    "if x % 2 == 0:\n",
    "  print(x, \"is even\")\n",
    "else:\n",
    "  print(x, \"is odd\")"
   ]
  },
  {
   "cell_type": "markdown",
   "metadata": {
    "colab_type": "text",
    "id": "FGSFIvLCR5zk"
   },
   "source": [
    "If there are any more conditions, you can use \"ELIF\" statement."
   ]
  },
  {
   "cell_type": "code",
   "execution_count": 22,
   "metadata": {
    "colab": {
     "base_uri": "https://localhost:8080/",
     "height": 34
    },
    "colab_type": "code",
    "id": "MsJo06BwSAH2",
    "outputId": "b361c3e3-75e4-4a48-ef9f-e530b13956f1"
   },
   "outputs": [
    {
     "name": "stdout",
     "output_type": "stream",
     "text": [
      "0 is zero\n"
     ]
    }
   ],
   "source": [
    "x = 0\n",
    "if x > 0:\n",
    "  print(x, \"is a positive number\")\n",
    "elif x < 0:\n",
    "  print(x, \"is a negative number\")\n",
    "else:\n",
    "  print(x, \"is zero\")"
   ]
  },
  {
   "cell_type": "markdown",
   "metadata": {
    "colab_type": "text",
    "id": "ighHWpgmPMdC"
   },
   "source": [
    "## Iteration\n",
    "\n",
    "Iteration is a programming concept to do some statements until the condition is unmet. For example, we want to print a number from 0 until 5. Then, the statements will be executed if the number is not greater than 5. \n",
    "\n"
   ]
  },
  {
   "cell_type": "code",
   "execution_count": 23,
   "metadata": {
    "colab": {
     "base_uri": "https://localhost:8080/",
     "height": 119
    },
    "colab_type": "code",
    "id": "eObezOm9S7k-",
    "outputId": "fbd6e299-fd66-420f-ba30-64a99a1300db"
   },
   "outputs": [
    {
     "name": "stdout",
     "output_type": "stream",
     "text": [
      "0\n",
      "1\n",
      "2\n",
      "3\n",
      "4\n",
      "5\n"
     ]
    }
   ],
   "source": [
    "for i in range(6):\n",
    "  print(i)"
   ]
  },
  {
   "cell_type": "markdown",
   "metadata": {
    "colab_type": "text",
    "id": "k79_RAxrS6zT"
   },
   "source": [
    "Note that, Python will do the iteration until n-1.  \n",
    "If the statement is range(1,6), then it will print from 1 to 5."
   ]
  },
  {
   "cell_type": "code",
   "execution_count": 34,
   "metadata": {
    "colab": {
     "base_uri": "https://localhost:8080/",
     "height": 102
    },
    "colab_type": "code",
    "id": "DNMdPmF1SlwD",
    "outputId": "fa28de09-5949-4a5f-9932-609dac6aae56"
   },
   "outputs": [
    {
     "name": "stdout",
     "output_type": "stream",
     "text": [
      "1\n",
      "2\n",
      "3\n",
      "4\n",
      "5\n"
     ]
    }
   ],
   "source": [
    "for i in range(1,6):\n",
    "  print(i)"
   ]
  },
  {
   "cell_type": "markdown",
   "metadata": {
    "colab_type": "text",
    "id": "6SkT6QOiUh7k"
   },
   "source": [
    "Alternatively, we can use \"WHILE\" statement for the iteration."
   ]
  },
  {
   "cell_type": "code",
   "execution_count": 35,
   "metadata": {
    "colab": {
     "base_uri": "https://localhost:8080/",
     "height": 102
    },
    "colab_type": "code",
    "id": "pcsybkbLUn66",
    "outputId": "b5c1b2fc-9415-4444-d544-ad278c95bb3e"
   },
   "outputs": [
    {
     "name": "stdout",
     "output_type": "stream",
     "text": [
      "0\n",
      "1\n",
      "2\n",
      "3\n",
      "4\n"
     ]
    }
   ],
   "source": [
    "z = 0\n",
    "while z < 5:\n",
    "  print(z)\n",
    "  z = z + 1"
   ]
  },
  {
   "cell_type": "markdown",
   "metadata": {
    "colab_type": "text",
    "id": "imxbdHYOUwGV"
   },
   "source": [
    "## Additional Statements\n",
    "\n",
    "In order to build a comprehensive statement in Python, there are many terminologies that a user can use. "
   ]
  },
  {
   "cell_type": "markdown",
   "metadata": {
    "colab_type": "text",
    "id": "PSnWjBexBjpt"
   },
   "source": [
    "### Function\n",
    "\n",
    "A function is a collection of statement that can be used in other statement. Rather than repeating some statements, we can make a function and call the function to run some statements in some iterations. \n",
    "\n",
    "There are two types of function. \n",
    "- Function without return value\n",
    "- Function with return value\n",
    "\n",
    "A function without return value is a function to execute the statements without giving any value for the return. \n",
    "Meanwhile, the function with return value is a function that can be used to return a particular value according to the user's requirement."
   ]
  },
  {
   "cell_type": "markdown",
   "metadata": {
    "colab_type": "text",
    "id": "McRY34VmBue0"
   },
   "source": [
    "A function will use ```def``` statement. A function can contain arguments or without arguments in the parentheses. Afterward, we need to write ```:```.\n",
    "In order to run the function, we can just write the function name depending on the arguments."
   ]
  },
  {
   "cell_type": "code",
   "execution_count": 36,
   "metadata": {
    "colab": {
     "base_uri": "https://localhost:8080/",
     "height": 34
    },
    "colab_type": "code",
    "id": "-E1twxDUCHCr",
    "outputId": "6190426c-2e76-415d-a2bc-4f362d12cfee"
   },
   "outputs": [
    {
     "name": "stdout",
     "output_type": "stream",
     "text": [
      "hello function\n"
     ]
    }
   ],
   "source": [
    "# a function without parameter\n",
    "def test_function():\n",
    "  print(\"hello function\")\n",
    "\n",
    "test_function()"
   ]
  },
  {
   "cell_type": "code",
   "execution_count": 37,
   "metadata": {
    "colab": {},
    "colab_type": "code",
    "id": "kAIBJW7cBraQ"
   },
   "outputs": [
    {
     "name": "stdout",
     "output_type": "stream",
     "text": [
      "Bernardo HUFS\n",
      "Park Korea\n",
      "Lee Seoul\n"
     ]
    }
   ],
   "source": [
    "# a function with two parameters\n",
    "def display(name, school):\n",
    "    print(name, school)\n",
    "\n",
    "display(\"Bernardo\", \"HUFS\")\n",
    "display(\"Park\", \"Korea\")\n",
    "display(\"Lee\", \"Seoul\")"
   ]
  },
  {
   "cell_type": "code",
   "execution_count": 30,
   "metadata": {
    "colab": {
     "base_uri": "https://localhost:8080/",
     "height": 50
    },
    "colab_type": "code",
    "id": "PYSj5uuPCg3I",
    "outputId": "edcdff4d-b20b-481b-ac14-ec04f70bead0"
   },
   "outputs": [
    {
     "name": "stdout",
     "output_type": "stream",
     "text": [
      "Bernardo\n"
     ]
    },
    {
     "data": {
      "text/plain": [
       "4"
      ]
     },
     "execution_count": 30,
     "metadata": {},
     "output_type": "execute_result"
    }
   ],
   "source": [
    "# a function with two parameters with different data types\n",
    "list3 = [5,6,7]\n",
    "def display1(name, count):\n",
    "    print(name)\n",
    "    count[1] = count[0] - 1\n",
    "    return count[1]\n",
    "\n",
    "display1(\"Bernardo\", list3)"
   ]
  },
  {
   "cell_type": "markdown",
   "metadata": {
    "colab_type": "text",
    "id": "nb3KamB6U0bn"
   },
   "source": [
    "## Learning Check (Course-based quiz)\n",
    "1. Write a function to show the first 5 even numbers!\n",
    "Function name: even_number(5)\n",
    "\n",
    "Result: 2, 4, 6, 8, 10\n",
    "\n",
    "2. Write a function to check whether a number is an even or odd!\n",
    "input n (with the input built-in function from Python)\n",
    "Function name: check_number(n)\n",
    "Suppose n = 5\n",
    "The result of the function check_number(n) is ```odd```\n",
    "\n",
    "No deadline. You don't need to submit the result."
   ]
  },
  {
   "cell_type": "code",
   "execution_count": 31,
   "metadata": {},
   "outputs": [
    {
     "name": "stdout",
     "output_type": "stream",
     "text": [
      "[2, 4, 6, 8, 10]\n"
     ]
    }
   ],
   "source": [
    "def even_number(x):\n",
    "    num=[]\n",
    "    for a in range(1,x+1):\n",
    "        num.append(a*2)\n",
    "    print(num)\n",
    "even_number(5)"
   ]
  },
  {
   "cell_type": "code",
   "execution_count": 49,
   "metadata": {},
   "outputs": [
    {
     "name": "stdin",
     "output_type": "stream",
     "text": [
      "숫자를 입력하시오 :  5\n"
     ]
    },
    {
     "name": "stdout",
     "output_type": "stream",
     "text": [
      "odd\n"
     ]
    }
   ],
   "source": [
    "def check_number(x):\n",
    "    x = int(input(\"숫자를 입력하시오 : \"))\n",
    "    if x % 2 == 0 :\n",
    "        print(\"even\")\n",
    "    else :\n",
    "        print(\"odd\")\n",
    "check_number(x)"
   ]
  },
  {
   "cell_type": "markdown",
   "metadata": {
    "colab_type": "text",
    "id": "q3SGScrvUgsz"
   },
   "source": [
    "# Basic Data Structure \n",
    "\n",
    "Python provides built-in basic data structure such as Array (i.e., List), Tuple, Dictionary, Sets. Those basic data structure would be the basis for analyzing any data format."
   ]
  },
  {
   "cell_type": "markdown",
   "metadata": {
    "colab_type": "text",
    "id": "fQfv6sd3PIas"
   },
   "source": [
    "## List"
   ]
  },
  {
   "cell_type": "markdown",
   "metadata": {
    "colab_type": "text",
    "id": "STYqnH-xH1Z1"
   },
   "source": [
    "A list stores a series of items in a particular order. The way to define a list is to use square bracket ```[]```. \n",
    "\n",
    "You can access the items using an index, or within a loop. Note that the index of list (in Python) starts from 0 till *n*-1."
   ]
  },
  {
   "cell_type": "code",
   "execution_count": 2,
   "metadata": {
    "colab": {},
    "colab_type": "code",
    "id": "WWPyNCAnUzxf"
   },
   "outputs": [],
   "source": [
    "#make a list\n",
    "colors = [\"red\", \"blue\", \"green\"]"
   ]
  },
  {
   "cell_type": "code",
   "execution_count": 4,
   "metadata": {},
   "outputs": [
    {
     "data": {
      "text/plain": [
       "['red', 'blue', 'green']"
      ]
     },
     "execution_count": 4,
     "metadata": {},
     "output_type": "execute_result"
    }
   ],
   "source": [
    "colors"
   ]
  },
  {
   "cell_type": "code",
   "execution_count": 6,
   "metadata": {
    "colab": {
     "base_uri": "https://localhost:8080/",
     "height": 34
    },
    "colab_type": "code",
    "id": "sPed2yDHx1R3",
    "outputId": "0616083f-79ad-41cb-a0a5-73d3cbfca323"
   },
   "outputs": [
    {
     "name": "stdout",
     "output_type": "stream",
     "text": [
      "red\n"
     ]
    }
   ],
   "source": [
    "# Get the first item in a list\n",
    "first_color = colors[0]\n",
    "print(first_color)"
   ]
  },
  {
   "cell_type": "code",
   "execution_count": 7,
   "metadata": {},
   "outputs": [
    {
     "name": "stdout",
     "output_type": "stream",
     "text": [
      "3\n"
     ]
    }
   ],
   "source": [
    "print(len(colors))"
   ]
  },
  {
   "cell_type": "code",
   "execution_count": 8,
   "metadata": {
    "colab": {
     "base_uri": "https://localhost:8080/",
     "height": 34
    },
    "colab_type": "code",
    "id": "QrDy2dH_yAVw",
    "outputId": "e58c2282-f78e-468c-dfda-9928424307d3"
   },
   "outputs": [
    {
     "name": "stdout",
     "output_type": "stream",
     "text": [
      "green\n"
     ]
    }
   ],
   "source": [
    "# Get the last item in a list\n",
    "last_color = colors[-1]\n",
    "print(last_color)"
   ]
  },
  {
   "cell_type": "code",
   "execution_count": 9,
   "metadata": {
    "colab": {
     "base_uri": "https://localhost:8080/",
     "height": 67
    },
    "colab_type": "code",
    "id": "THQLKj0XyI8G",
    "outputId": "c97323b6-06ce-4600-a698-1a56b402ab7f"
   },
   "outputs": [
    {
     "name": "stdout",
     "output_type": "stream",
     "text": [
      "red\n",
      "blue\n",
      "green\n"
     ]
    }
   ],
   "source": [
    "# Looping through a list\n",
    "# you can define your own variable (\"col\") to iterate on all items\n",
    "for col in colors:\n",
    "  print(col)"
   ]
  },
  {
   "cell_type": "code",
   "execution_count": 11,
   "metadata": {
    "colab": {
     "base_uri": "https://localhost:8080/",
     "height": 34
    },
    "colab_type": "code",
    "id": "ip5JIT1RyVfV",
    "outputId": "c44db273-966a-4b72-8aa5-d19568f44b2a"
   },
   "outputs": [
    {
     "name": "stdout",
     "output_type": "stream",
     "text": [
      "['yellow', 'brown', 'purple']\n"
     ]
    }
   ],
   "source": [
    "# Adding items to a list\n",
    "other_col = []\n",
    "other_col.append('yellow') # add on item\n",
    "other_col.append('brown')\n",
    "other_col.append('purple')\n",
    "print(other_col)"
   ]
  },
  {
   "cell_type": "code",
   "execution_count": 1,
   "metadata": {
    "colab": {
     "base_uri": "https://localhost:8080/",
     "height": 34
    },
    "colab_type": "code",
    "id": "uIhTpqWYywwM",
    "outputId": "ebf48a27-5efa-4d6d-8d89-b30d73ab3afc"
   },
   "outputs": [
    {
     "name": "stdout",
     "output_type": "stream",
     "text": [
      "[1, 4, 9, 16, 25, 36, 49, 64, 81, 100]\n"
     ]
    }
   ],
   "source": [
    "# Making numerical lists\n",
    "squares = [] # blank list\n",
    "for x in range(1,11): # 1~10\n",
    "  squares.append(x**2)\n",
    "\n",
    "print(squares)"
   ]
  },
  {
   "cell_type": "code",
   "execution_count": 2,
   "metadata": {
    "colab": {
     "base_uri": "https://localhost:8080/",
     "height": 34
    },
    "colab_type": "code",
    "id": "O3kjI03jzN7q",
    "outputId": "7eb7e1b6-f2f6-47d2-9fcc-501138947575"
   },
   "outputs": [
    {
     "name": "stdout",
     "output_type": "stream",
     "text": [
      "[1, 4, 9, 16, 25, 36, 49, 64, 81, 100]\n"
     ]
    }
   ],
   "source": [
    "# List comprehensions\n",
    "squares =[x**2 for x in range(1, 11)] # x**2 for every number x in the range of 1 until 10\n",
    "print(squares)"
   ]
  },
  {
   "cell_type": "code",
   "execution_count": 3,
   "metadata": {
    "colab": {
     "base_uri": "https://localhost:8080/",
     "height": 50
    },
    "colab_type": "code",
    "id": "f6c33gKIzZYA",
    "outputId": "7b71a4a4-0b05-426c-a7fe-01660b8b2c1a"
   },
   "outputs": [
    {
     "name": "stdout",
     "output_type": "stream",
     "text": [
      "['park', 'lee']\n",
      "['park', 'lee', 'kim']\n"
     ]
    }
   ],
   "source": [
    "# Slicing a list ( cut the list )\n",
    "top_members = [\"park\", \"lee\", \"kim\", \"choi\", \"cho\", \"kang\"] # [ 0 1 2 3 4 5 ]\n",
    "first_two = top_members[:2]\n",
    "first_three = top_members[:3]\n",
    "print(first_two)\n",
    "print(first_three)"
   ]
  },
  {
   "cell_type": "code",
   "execution_count": 4,
   "metadata": {},
   "outputs": [
    {
     "data": {
      "text/plain": [
       "['kim', 'choi', 'cho']"
      ]
     },
     "execution_count": 4,
     "metadata": {},
     "output_type": "execute_result"
    }
   ],
   "source": [
    "top_members[2:5]"
   ]
  },
  {
   "cell_type": "code",
   "execution_count": 5,
   "metadata": {
    "colab": {
     "base_uri": "https://localhost:8080/",
     "height": 34
    },
    "colab_type": "code",
    "id": "TiUNBe43z5M0",
    "outputId": "743eafce-7d9f-4f66-842d-fa031c13ef96"
   },
   "outputs": [
    {
     "name": "stdout",
     "output_type": "stream",
     "text": [
      "['park', 'lee', 'kim', 'choi', 'cho', 'kang']\n"
     ]
    }
   ],
   "source": [
    "# Copying a list\n",
    "copy_top_members = top_members[:]\n",
    "print(copy_top_members)"
   ]
  },
  {
   "cell_type": "code",
   "execution_count": 6,
   "metadata": {
    "colab": {
     "base_uri": "https://localhost:8080/",
     "height": 34
    },
    "colab_type": "code",
    "id": "WM4W6vrz1OvC",
    "outputId": "8548d98d-72e9-4d77-f118-89a59e1188a9"
   },
   "outputs": [
    {
     "data": {
      "text/plain": [
       "True"
      ]
     },
     "execution_count": 6,
     "metadata": {},
     "output_type": "execute_result"
    }
   ],
   "source": [
    "# Conditional test in lists\n",
    "'park' in top_members"
   ]
  },
  {
   "cell_type": "code",
   "execution_count": 7,
   "metadata": {
    "colab": {
     "base_uri": "https://localhost:8080/",
     "height": 34
    },
    "colab_type": "code",
    "id": "tZn8oHRH1cXb",
    "outputId": "f99028e7-d47d-4796-f345-c8528d093af3"
   },
   "outputs": [
    {
     "data": {
      "text/plain": [
       "False"
      ]
     },
     "execution_count": 7,
     "metadata": {},
     "output_type": "execute_result"
    }
   ],
   "source": [
    "# Conditional test NOT in lists\n",
    "'lee' not in top_members"
   ]
  },
  {
   "cell_type": "markdown",
   "metadata": {
    "colab_type": "text",
    "id": "dkejG3Kj2WJ8"
   },
   "source": [
    "A list can contain multiple items with different data types (String, Integer, Real Number)."
   ]
  },
  {
   "cell_type": "code",
   "execution_count": 8,
   "metadata": {
    "colab": {
     "base_uri": "https://localhost:8080/",
     "height": 34
    },
    "colab_type": "code",
    "id": "saQalLJ-2Jhr",
    "outputId": "f247a299-9198-4d04-f2da-b1fae0226dbc"
   },
   "outputs": [
    {
     "name": "stdout",
     "output_type": "stream",
     "text": [
      "['green', 5, 27.4]\n"
     ]
    }
   ],
   "source": [
    "# Special characteristics of List\n",
    "special_list = [\"green\", 5, 27.4]\n",
    "print(special_list)"
   ]
  },
  {
   "cell_type": "markdown",
   "metadata": {
    "colab_type": "text",
    "id": "1UUn34ol0DI0"
   },
   "source": [
    "## Learning Check (List)"
   ]
  },
  {
   "cell_type": "markdown",
   "metadata": {
    "colab_type": "text",
    "id": "8KlXMSJf2lgY"
   },
   "source": [
    "\n",
    "\n",
    "1.   Create a list of your courses taken in this semester! Can you create the list using input function?\n",
    "2.   Create a list of the powers of two! For example, input a number of 5. The result would [2, 4, 8, 16, 32] \n",
    "\n"
   ]
  },
  {
   "cell_type": "code",
   "execution_count": 19,
   "metadata": {},
   "outputs": [
    {
     "name": "stdin",
     "output_type": "stream",
     "text": [
      "숫자를 넣어라 :  8\n"
     ]
    },
    {
     "name": "stdout",
     "output_type": "stream",
     "text": [
      "[2, 4, 8, 16, 32, 64, 128, 256]\n"
     ]
    }
   ],
   "source": [
    "a = int(input(\"숫자를 넣어라 : \"))\n",
    "lst = []\n",
    "for x in range(1,a+1):\n",
    "    lst.append(2**x)\n",
    "print(lst)"
   ]
  },
  {
   "cell_type": "markdown",
   "metadata": {
    "colab_type": "text",
    "id": "TMiWnBXXUyVG"
   },
   "source": [
    "## Tuple"
   ]
  },
  {
   "cell_type": "markdown",
   "metadata": {
    "colab_type": "text",
    "id": "RFCAGMZu0J0c"
   },
   "source": [
    "Tuples are similar to lists but the items in a tuple cannot be modified. In tuple, we define the variables using brackets ```()```\n"
   ]
  },
  {
   "cell_type": "code",
   "execution_count": 20,
   "metadata": {},
   "outputs": [],
   "source": [
    "copy_top_members[0] = \"Yahya\""
   ]
  },
  {
   "cell_type": "code",
   "execution_count": 21,
   "metadata": {},
   "outputs": [
    {
     "data": {
      "text/plain": [
       "['Yahya', 'lee', 'kim', 'choi', 'cho', 'kang']"
      ]
     },
     "execution_count": 21,
     "metadata": {},
     "output_type": "execute_result"
    }
   ],
   "source": [
    "copy_top_members"
   ]
  },
  {
   "cell_type": "code",
   "execution_count": 22,
   "metadata": {
    "colab": {},
    "colab_type": "code",
    "id": "6OigbYKmxzpZ"
   },
   "outputs": [],
   "source": [
    "top_colors = (\"red\", \"orange\", \"yellow\", \"green\", \"blue\", \"indigo\", \"violet\" ) "
   ]
  },
  {
   "cell_type": "markdown",
   "metadata": {
    "colab_type": "text",
    "id": "ArFB-9Ke5zWD"
   },
   "source": [
    "The same as List, we can select the element using the square bracket and write a number to indicate the location. Note that the tuple also start from 0 to n-1. "
   ]
  },
  {
   "cell_type": "code",
   "execution_count": 23,
   "metadata": {
    "colab": {
     "base_uri": "https://localhost:8080/",
     "height": 34
    },
    "colab_type": "code",
    "id": "Op-IDCE0x0xm",
    "outputId": "259fac65-06dd-44f5-b389-3579ec96e843"
   },
   "outputs": [
    {
     "name": "stdout",
     "output_type": "stream",
     "text": [
      "orange\n"
     ]
    }
   ],
   "source": [
    "print(top_colors[1])"
   ]
  },
  {
   "cell_type": "markdown",
   "metadata": {
    "colab_type": "text",
    "id": "2SNXAMPA6Dj8"
   },
   "source": [
    "While we want to see the last element, we can just type -1."
   ]
  },
  {
   "cell_type": "code",
   "execution_count": 24,
   "metadata": {
    "colab": {
     "base_uri": "https://localhost:8080/",
     "height": 34
    },
    "colab_type": "code",
    "id": "9zdij5B2Ul8R",
    "outputId": "934bebd5-48bc-46a6-f184-f29570f73f67"
   },
   "outputs": [
    {
     "name": "stdout",
     "output_type": "stream",
     "text": [
      "violet\n"
     ]
    }
   ],
   "source": [
    "print(top_colors[-1])"
   ]
  },
  {
   "cell_type": "markdown",
   "metadata": {
    "colab_type": "text",
    "id": "MXX6F3hbUjQ3"
   },
   "source": [
    "## Dictionary"
   ]
  },
  {
   "cell_type": "markdown",
   "metadata": {},
   "source": [
    "A dictionary contains a key and value. You need to use curly brackets to indicate the dictionary ```{}```"
   ]
  },
  {
   "cell_type": "code",
   "execution_count": 25,
   "metadata": {
    "colab": {
     "base_uri": "https://localhost:8080/",
     "height": 34
    },
    "colab_type": "code",
    "id": "lmq4HnvO5uAc",
    "outputId": "cba20c4d-8663-4627-964a-6a4853657694"
   },
   "outputs": [
    {
     "name": "stdout",
     "output_type": "stream",
     "text": [
      "{'name': 'Data Science', 'type': 'online', 'students': 50}\n"
     ]
    }
   ],
   "source": [
    "# A simple dictionary\n",
    "course = {'name': 'Data Science', 'type' : 'online', 'students': 50}\n",
    "print(course)"
   ]
  },
  {
   "cell_type": "code",
   "execution_count": 26,
   "metadata": {
    "colab": {
     "base_uri": "https://localhost:8080/",
     "height": 34
    },
    "colab_type": "code",
    "id": "_sQPMFwa6b-u",
    "outputId": "c0a59570-31ce-4da2-ebd2-6bfb16afbf1f"
   },
   "outputs": [
    {
     "name": "stdout",
     "output_type": "stream",
     "text": [
      "The course name: Data Science\n"
     ]
    }
   ],
   "source": [
    "# Accessing a value by calling the key\n",
    "print(\"The course name: \" + course['name'])"
   ]
  },
  {
   "cell_type": "code",
   "execution_count": 27,
   "metadata": {},
   "outputs": [
    {
     "data": {
      "text/plain": [
       "'online'"
      ]
     },
     "execution_count": 27,
     "metadata": {},
     "output_type": "execute_result"
    }
   ],
   "source": [
    "course['type']"
   ]
  },
  {
   "cell_type": "code",
   "execution_count": 28,
   "metadata": {},
   "outputs": [
    {
     "data": {
      "text/plain": [
       "50"
      ]
     },
     "execution_count": 28,
     "metadata": {},
     "output_type": "execute_result"
    }
   ],
   "source": [
    "course['students']"
   ]
  },
  {
   "cell_type": "code",
   "execution_count": 29,
   "metadata": {
    "colab": {
     "base_uri": "https://localhost:8080/",
     "height": 34
    },
    "colab_type": "code",
    "id": "ebbQKmbP6b8N",
    "outputId": "7dfde357-1717-47e3-d64d-bf15a5e260f4"
   },
   "outputs": [
    {
     "name": "stdout",
     "output_type": "stream",
     "text": [
      "{'name': 'Data Science', 'type': 'online', 'students': 50, 'tool': 'Jupyter Notebook'}\n"
     ]
    }
   ],
   "source": [
    "# Adding a new kay-value pair\n",
    "course['tool'] = \"Jupyter Notebook\"\n",
    "print(course)"
   ]
  },
  {
   "cell_type": "code",
   "execution_count": 30,
   "metadata": {
    "colab": {
     "base_uri": "https://localhost:8080/",
     "height": 84
    },
    "colab_type": "code",
    "id": "9QzQNai064N9",
    "outputId": "dcb4d80f-4d51-4566-d784-4a3c061d9816"
   },
   "outputs": [
    {
     "name": "stdout",
     "output_type": "stream",
     "text": [
      "name :: Data Science\n",
      "type :: online\n",
      "students :: 50\n",
      "tool :: Jupyter Notebook\n"
     ]
    }
   ],
   "source": [
    "# Looping through all key-value pairs\n",
    "# Note that the value should be String. \n",
    "for att, value in course.items():\n",
    "  print(att + \" :: \" + str(value)) "
   ]
  },
  {
   "cell_type": "code",
   "execution_count": 31,
   "metadata": {
    "colab": {
     "base_uri": "https://localhost:8080/",
     "height": 84
    },
    "colab_type": "code",
    "id": "mVzuYl617pnI",
    "outputId": "423c00a8-ef0e-4519-e95f-8e3c21c49171"
   },
   "outputs": [
    {
     "name": "stdout",
     "output_type": "stream",
     "text": [
      "name\n",
      "type\n",
      "students\n",
      "tool\n"
     ]
    }
   ],
   "source": [
    "# Looping through all keys\n",
    "for att in course.keys():\n",
    "  print(att)"
   ]
  },
  {
   "cell_type": "code",
   "execution_count": 32,
   "metadata": {
    "colab": {
     "base_uri": "https://localhost:8080/",
     "height": 84
    },
    "colab_type": "code",
    "id": "dY-wdpnQ71We",
    "outputId": "83486ecc-b11c-49a5-f9d4-d126cc5a87fd"
   },
   "outputs": [
    {
     "name": "stdout",
     "output_type": "stream",
     "text": [
      "Data Science\n",
      "online\n",
      "50\n",
      "Jupyter Notebook\n"
     ]
    }
   ],
   "source": [
    "# Looping through all the values\n",
    "for values in course.values():\n",
    "  print(values)"
   ]
  },
  {
   "cell_type": "markdown",
   "metadata": {
    "colab_type": "text",
    "id": "y_U9O--ATWAF"
   },
   "source": [
    "## Set\n",
    "\n",
    "A set is a collection of unique element on which is unordered and unindexed. In Python sets are written with curly brackets {}."
   ]
  },
  {
   "cell_type": "code",
   "execution_count": 33,
   "metadata": {
    "colab": {},
    "colab_type": "code",
    "id": "kKuswrdy9SQ7"
   },
   "outputs": [
    {
     "name": "stdout",
     "output_type": "stream",
     "text": [
      "{'a', 'b', 'd', 'c'}\n"
     ]
    }
   ],
   "source": [
    "element = {'a', 'b', 'a' ,'c', 'b', 'd'}\n",
    "print(element)"
   ]
  },
  {
   "cell_type": "code",
   "execution_count": 34,
   "metadata": {
    "colab": {
     "base_uri": "https://localhost:8080/",
     "height": 34
    },
    "colab_type": "code",
    "id": "yS_cxZfeAtJ_",
    "outputId": "e1a9d9c9-277f-4318-bafc-a2b1d5c6955b"
   },
   "outputs": [
    {
     "name": "stdout",
     "output_type": "stream",
     "text": [
      "{'a', 'b', 'd', 'c'}\n"
     ]
    }
   ],
   "source": [
    "print(element)"
   ]
  },
  {
   "cell_type": "code",
   "execution_count": 35,
   "metadata": {},
   "outputs": [],
   "source": [
    "s1 = {1, 2, 3}\n",
    "s2 = {3, 4, 5}"
   ]
  },
  {
   "cell_type": "code",
   "execution_count": 36,
   "metadata": {},
   "outputs": [
    {
     "data": {
      "text/plain": [
       "{1, 2, 3, 4, 5}"
      ]
     },
     "execution_count": 36,
     "metadata": {},
     "output_type": "execute_result"
    }
   ],
   "source": [
    "s1 | s2 #union"
   ]
  },
  {
   "cell_type": "code",
   "execution_count": 37,
   "metadata": {},
   "outputs": [
    {
     "data": {
      "text/plain": [
       "{3}"
      ]
     },
     "execution_count": 37,
     "metadata": {},
     "output_type": "execute_result"
    }
   ],
   "source": [
    "s1 & s2 #intersection"
   ]
  },
  {
   "cell_type": "code",
   "execution_count": 38,
   "metadata": {},
   "outputs": [
    {
     "data": {
      "text/plain": [
       "{4, 5}"
      ]
     },
     "execution_count": 38,
     "metadata": {},
     "output_type": "execute_result"
    }
   ],
   "source": [
    "s2 - s1 #complement of s1"
   ]
  },
  {
   "cell_type": "code",
   "execution_count": 39,
   "metadata": {},
   "outputs": [
    {
     "data": {
      "text/plain": [
       "{1, 2, 4, 5}"
      ]
     },
     "execution_count": 39,
     "metadata": {},
     "output_type": "execute_result"
    }
   ],
   "source": [
    "s1 ^ s2 # omit the intersection"
   ]
  },
  {
   "cell_type": "markdown",
   "metadata": {
    "colab_type": "text",
    "id": "Gkmg-I1qVpKC"
   },
   "source": [
    "## Learning Check\n",
    "1. Can you distinguish among the basic Data Structure? (List, Tuple, Dictionary, Set)\n",
    "2. Can we use list to write elements with different data types?"
   ]
  },
  {
   "cell_type": "markdown",
   "metadata": {
    "colab_type": "text",
    "id": "nrPkaxIYTgTH"
   },
   "source": [
    "List [], Tuple (), Dictionary {key:value}, Set {}"
   ]
  },
  {
   "cell_type": "markdown",
   "metadata": {
    "colab": {},
    "colab_type": "code",
    "id": "nrKDHIQ5Uh01"
   },
   "source": [
    "# Remark\n",
    "\n",
    "This basic markdown with Jupyter Notebook is a section to help students to understand how Jupyter Notebook can be used as a way to code as well as presenting the contents in almost similar to documents in a word processing tool.\n",
    "In addition, this section teach the students the basic concepts of programming language as well as the important data structure for the course of Introduction to Data Science.  "
   ]
  }
 ],
 "metadata": {
  "colab": {
   "collapsed_sections": [
    "kFECdOGRJseL",
    "HhXqoMI5Nbm0",
    "k2ULyZQePJRI",
    "ighHWpgmPMdC",
    "imxbdHYOUwGV",
    "nb3KamB6U0bn",
    "fQfv6sd3PIas",
    "1UUn34ol0DI0",
    "TMiWnBXXUyVG",
    "MXX6F3hbUjQ3",
    "y_U9O--ATWAF",
    "Gkmg-I1qVpKC"
   ],
   "name": "[Week_02-01]_Python_Introduction.ipynb",
   "provenance": [],
   "toc_visible": true
  },
  "kernelspec": {
   "display_name": "Python 3",
   "language": "python",
   "name": "python3"
  },
  "language_info": {
   "codemirror_mode": {
    "name": "ipython",
    "version": 3
   },
   "file_extension": ".py",
   "mimetype": "text/x-python",
   "name": "python",
   "nbconvert_exporter": "python",
   "pygments_lexer": "ipython3",
   "version": "3.8.3"
  }
 },
 "nbformat": 4,
 "nbformat_minor": 4
}
