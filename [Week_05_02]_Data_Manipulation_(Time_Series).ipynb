{
 "cells": [
  {
   "cell_type": "markdown",
   "metadata": {},
   "source": [
    "# Working with Time Series"
   ]
  },
  {
   "cell_type": "markdown",
   "metadata": {},
   "source": [
    "Pandas was developed in the context of financial modeling, so as you might expect, it contains a fairly extensive set of tools for working with dates, times, and time-indexed data.\n",
    "Date and time data comes in a few flavors, which we will discuss here:\n",
    "\n",
    "- *Time stamps* reference particular moments in time (e.g., July 4th, 2015 at 7:00am).\n",
    "- *Time intervals* and *periods* reference a length of time between a particular beginning and end point; for example, the year 2015. Periods usually reference a special case of time intervals in which each interval is of uniform length and does not overlap (e.g., 24 hour-long periods comprising days).\n",
    "- *Time deltas* or *durations* reference an exact length of time (e.g., a duration of 22.56 seconds).\n",
    "\n",
    "In this section, we will introduce how to work with each of these types of date/time data in Pandas.\n",
    "This short section is by no means a complete guide to the time series tools available in Python or Pandas, but instead is intended as a broad overview of how you as a user should approach working with time series.\n",
    "We will start with a brief discussion of tools for dealing with dates and times in Python, before moving more specifically to a discussion of the tools provided by Pandas.\n",
    "After listing some resources that go into more depth, we will review some short examples of working with time series data in Pandas."
   ]
  },
  {
   "cell_type": "markdown",
   "metadata": {},
   "source": [
    "## Dates and Times in Python\n",
    "\n",
    "The Python world has a number of available representations of dates, times, deltas, and timespans.\n",
    "While the time series tools provided by Pandas tend to be the most useful for data science applications, it is helpful to see their relationship to other packages used in Python."
   ]
  },
  {
   "cell_type": "markdown",
   "metadata": {},
   "source": [
    "### Native Python dates and times: ``datetime`` and ``dateutil``\n",
    "\n",
    "Python's basic objects for working with dates and times reside in the built-in ``datetime`` module.\n",
    "Along with the third-party ``dateutil`` module, you can use it to quickly perform a host of useful functionalities on dates and times.\n",
    "For example, you can manually build a date using the ``datetime`` type:"
   ]
  },
  {
   "cell_type": "code",
   "execution_count": 80,
   "metadata": {
    "collapsed": false,
    "jupyter": {
     "outputs_hidden": false
    }
   },
   "outputs": [
    {
     "data": {
      "text/plain": [
       "datetime.datetime(2015, 7, 4, 0, 0)"
      ]
     },
     "execution_count": 80,
     "metadata": {},
     "output_type": "execute_result"
    }
   ],
   "source": [
    "from datetime import datetime\n",
    "datetime(year=2015, month=7, day=4) # ( year, month, date, hour, min)\n",
    "# input"
   ]
  },
  {
   "cell_type": "markdown",
   "metadata": {},
   "source": [
    "Or, using the ``dateutil`` module, you can parse dates from a variety of string formats:"
   ]
  },
  {
   "cell_type": "code",
   "execution_count": 81,
   "metadata": {
    "collapsed": false,
    "jupyter": {
     "outputs_hidden": false
    }
   },
   "outputs": [
    {
     "data": {
      "text/plain": [
       "datetime.datetime(2015, 7, 4, 0, 0)"
      ]
     },
     "execution_count": 81,
     "metadata": {},
     "output_type": "execute_result"
    }
   ],
   "source": [
    "from dateutil import parser\n",
    "date = parser.parse(\"4th of July, 2015\")\n",
    "# parse : 문자열로 된 날짜를 parsing 하는 것 (String parser 2015-07-04, 04/07/2015 -this kind of format confusing하므로)\n",
    "date"
   ]
  },
  {
   "cell_type": "markdown",
   "metadata": {},
   "source": [
    "Once you have a ``datetime`` object, you can do things like printing the day of the week:"
   ]
  },
  {
   "cell_type": "code",
   "execution_count": 82,
   "metadata": {
    "collapsed": false,
    "jupyter": {
     "outputs_hidden": false
    }
   },
   "outputs": [
    {
     "data": {
      "text/plain": [
       "'Saturday'"
      ]
     },
     "execution_count": 82,
     "metadata": {},
     "output_type": "execute_result"
    }
   ],
   "source": [
    "date.strftime('%A') # 시간을 문자열로 (2015년 7월 4일의 요일)"
   ]
  },
  {
   "cell_type": "markdown",
   "metadata": {},
   "source": [
    "In the final line, we've used one of the standard string format codes for printing dates (``\"%A\"``), which you can read about in the [strftime section](https://docs.python.org/3/library/datetime.html#strftime-and-strptime-behavior) of Python's [datetime documentation](https://docs.python.org/3/library/datetime.html).\n",
    "Documentation of other useful date utilities can be found in [dateutil's online documentation](http://labix.org/python-dateutil).\n",
    "A related package to be aware of is [``pytz``](http://pytz.sourceforge.net/), which contains tools for working with the most migrane-inducing piece of time series data: time zones.\n",
    "\n",
    "The power of ``datetime`` and ``dateutil`` lie in their flexibility and easy syntax: you can use these objects and their built-in methods to easily perform nearly any operation you might be interested in.\n",
    "Where they break down is when you wish to work with large arrays of dates and times:\n",
    "just as lists of Python numerical variables are suboptimal compared to NumPy-style typed numerical arrays, lists of Python datetime objects are suboptimal compared to typed arrays of encoded dates."
   ]
  },
  {
   "cell_type": "markdown",
   "metadata": {},
   "source": [
    "### Typed arrays of times: NumPy's ``datetime64``\n",
    "\n",
    "The weaknesses of Python's datetime format inspired the NumPy team to add a set of native time series data type to NumPy.\n",
    "The ``datetime64`` dtype encodes dates as 64-bit integers, and thus allows arrays of dates to be represented very compactly.\n",
    "The ``datetime64`` requires a very specific input format:"
   ]
  },
  {
   "cell_type": "code",
   "execution_count": 83,
   "metadata": {
    "collapsed": false,
    "jupyter": {
     "outputs_hidden": false
    }
   },
   "outputs": [
    {
     "data": {
      "text/plain": [
       "array('2015-07-04', dtype='datetime64[D]')"
      ]
     },
     "execution_count": 83,
     "metadata": {},
     "output_type": "execute_result"
    }
   ],
   "source": [
    "import numpy as np\n",
    "date = np.array('2015-07-04', dtype=np.datetime64)\n",
    "date"
   ]
  },
  {
   "cell_type": "markdown",
   "metadata": {},
   "source": [
    "Once we have this date formatted, however, we can quickly do vectorized operations on it:"
   ]
  },
  {
   "cell_type": "code",
   "execution_count": 84,
   "metadata": {
    "collapsed": false,
    "jupyter": {
     "outputs_hidden": false
    }
   },
   "outputs": [
    {
     "data": {
      "text/plain": [
       "array(['2015-07-04', '2015-07-05', '2015-07-06', '2015-07-07',\n",
       "       '2015-07-08', '2015-07-09', '2015-07-10', '2015-07-11',\n",
       "       '2015-07-12', '2015-07-13', '2015-07-14', '2015-07-15'],\n",
       "      dtype='datetime64[D]')"
      ]
     },
     "execution_count": 84,
     "metadata": {},
     "output_type": "execute_result"
    }
   ],
   "source": [
    "date + np.arange(12)"
   ]
  },
  {
   "cell_type": "markdown",
   "metadata": {},
   "source": [
    "Because of the uniform type in NumPy ``datetime64`` arrays, this type of operation can be accomplished much more quickly than if we were working directly with Python's ``datetime`` objects, especially as arrays get large.\n",
    "\n",
    "One detail of the ``datetime64`` and ``timedelta64`` objects is that they are built on a *fundamental time unit*.\n",
    "Because the ``datetime64`` object is limited to 64-bit precision, the range of encodable times is $2^{64}$ times this fundamental unit.\n",
    "In other words, ``datetime64`` imposes a trade-off between *time resolution* and *maximum time span*.\n",
    "\n",
    "For example, if you want a time resolution of one nanosecond, you only have enough information to encode a range of $2^{64}$ nanoseconds, or just under 600 years.\n",
    "NumPy will infer the desired unit from the input; for example, here is a day-based datetime:"
   ]
  },
  {
   "cell_type": "code",
   "execution_count": 89,
   "metadata": {
    "collapsed": false,
    "jupyter": {
     "outputs_hidden": false
    }
   },
   "outputs": [
    {
     "data": {
      "text/plain": [
       "numpy.datetime64('2015-07-04')"
      ]
     },
     "execution_count": 89,
     "metadata": {},
     "output_type": "execute_result"
    }
   ],
   "source": [
    "np.datetime64('2015-07-04') # no hour"
   ]
  },
  {
   "cell_type": "markdown",
   "metadata": {},
   "source": [
    "Here is a minute-based datetime:"
   ]
  },
  {
   "cell_type": "code",
   "execution_count": 86,
   "metadata": {
    "collapsed": false,
    "jupyter": {
     "outputs_hidden": false
    }
   },
   "outputs": [
    {
     "data": {
      "text/plain": [
       "numpy.datetime64('2015-07-04T12:00')"
      ]
     },
     "execution_count": 86,
     "metadata": {},
     "output_type": "execute_result"
    }
   ],
   "source": [
    "np.datetime64('2015-07-04 12:00') # see to hour"
   ]
  },
  {
   "cell_type": "markdown",
   "metadata": {},
   "source": [
    "Notice that the time zone is automatically set to the local time on the computer executing the code.\n",
    "You can force any desired fundamental unit using one of many format codes; for example, here we'll force a nanosecond-based time:"
   ]
  },
  {
   "cell_type": "code",
   "execution_count": 87,
   "metadata": {
    "collapsed": false,
    "jupyter": {
     "outputs_hidden": false
    }
   },
   "outputs": [
    {
     "data": {
      "text/plain": [
       "numpy.datetime64('2015-07-04T12:59:59.500000000')"
      ]
     },
     "execution_count": 87,
     "metadata": {},
     "output_type": "execute_result"
    }
   ],
   "source": [
    "np.datetime64('2015-07-04 12:59:59.50', 'ns') # nano seconds(very detail)"
   ]
  },
  {
   "cell_type": "markdown",
   "metadata": {},
   "source": [
    "The following table, drawn from the [NumPy datetime64 documentation](http://docs.scipy.org/doc/numpy/reference/arrays.datetime.html), lists the available format codes along with the relative and absolute timespans that they can encode:"
   ]
  },
  {
   "cell_type": "markdown",
   "metadata": {},
   "source": [
    "|Code    | Meaning     | Time span (relative) | Time span (absolute)   |\n",
    "|--------|-------------|----------------------|------------------------|\n",
    "| ``Y``  | Year\t       | ± 9.2e18 years       | [9.2e18 BC, 9.2e18 AD] |\n",
    "| ``M``  | Month       | ± 7.6e17 years       | [7.6e17 BC, 7.6e17 AD] |\n",
    "| ``W``  | Week\t       | ± 1.7e17 years       | [1.7e17 BC, 1.7e17 AD] |\n",
    "| ``D``  | Day         | ± 2.5e16 years       | [2.5e16 BC, 2.5e16 AD] |\n",
    "| ``h``  | Hour        | ± 1.0e15 years       | [1.0e15 BC, 1.0e15 AD] |\n",
    "| ``m``  | Minute      | ± 1.7e13 years       | [1.7e13 BC, 1.7e13 AD] |\n",
    "| ``s``  | Second      | ± 2.9e12 years       | [ 2.9e9 BC, 2.9e9 AD]  |\n",
    "| ``ms`` | Millisecond | ± 2.9e9 years        | [ 2.9e6 BC, 2.9e6 AD]  |\n",
    "| ``us`` | Microsecond | ± 2.9e6 years        | [290301 BC, 294241 AD] |\n",
    "| ``ns`` | Nanosecond  | ± 292 years          | [ 1678 AD, 2262 AD]    |\n",
    "| ``ps`` | Picosecond  | ± 106 days           | [ 1969 AD, 1970 AD]    |\n",
    "| ``fs`` | Femtosecond | ± 2.6 hours          | [ 1969 AD, 1970 AD]    |\n",
    "| ``as`` | Attosecond  | ± 9.2 seconds        | [ 1969 AD, 1970 AD]    |"
   ]
  },
  {
   "cell_type": "code",
   "execution_count": 22,
   "metadata": {},
   "outputs": [],
   "source": [
    "# BC : 기원전 , AC : 기원후(지금)"
   ]
  },
  {
   "cell_type": "markdown",
   "metadata": {},
   "source": [
    "For the types of data we see in the real world, a useful default is ``datetime64[ns]``, as it can encode a useful range of modern dates with a suitably fine precision.\n",
    "\n",
    "Finally, we will note that while the ``datetime64`` data type addresses some of the deficiencies of the built-in Python ``datetime`` type, it lacks many of the convenient methods and functions provided by ``datetime`` and especially ``dateutil``.\n",
    "More information can be found in [NumPy's datetime64 documentation](http://docs.scipy.org/doc/numpy/reference/arrays.datetime.html)."
   ]
  },
  {
   "cell_type": "markdown",
   "metadata": {},
   "source": [
    "### Dates and times in pandas: best of both worlds\n",
    "\n",
    "Pandas builds upon all the tools just discussed to provide a ``Timestamp`` object, which combines the ease-of-use of ``datetime`` and ``dateutil`` with the efficient storage and vectorized interface of ``numpy.datetime64``.\n",
    "From a group of these ``Timestamp`` objects, Pandas can construct a ``DatetimeIndex`` that can be used to index data in a ``Series`` or ``DataFrame``; we'll see many examples of this below.\n",
    "\n",
    "For example, we can use Pandas tools to repeat the demonstration from above.\n",
    "We can parse a flexibly formatted string date, and use format codes to output the day of the week:"
   ]
  },
  {
   "cell_type": "code",
   "execution_count": 93,
   "metadata": {
    "collapsed": false,
    "jupyter": {
     "outputs_hidden": false
    }
   },
   "outputs": [
    {
     "data": {
      "text/plain": [
       "Timestamp('2015-07-04 00:00:00')"
      ]
     },
     "execution_count": 93,
     "metadata": {},
     "output_type": "execute_result"
    }
   ],
   "source": [
    "import pandas as pd\n",
    "date = pd.to_datetime(\"4th of July, 2015\")\n",
    "date\n",
    "# 00:00:00 - hour:minutes:seconds"
   ]
  },
  {
   "cell_type": "code",
   "execution_count": 94,
   "metadata": {
    "collapsed": false,
    "jupyter": {
     "outputs_hidden": false
    }
   },
   "outputs": [
    {
     "data": {
      "text/plain": [
       "'Saturday'"
      ]
     },
     "execution_count": 94,
     "metadata": {},
     "output_type": "execute_result"
    }
   ],
   "source": [
    "date.strftime('%A')"
   ]
  },
  {
   "cell_type": "code",
   "execution_count": 95,
   "metadata": {},
   "outputs": [
    {
     "data": {
      "text/plain": [
       "'Sat'"
      ]
     },
     "execution_count": 95,
     "metadata": {},
     "output_type": "execute_result"
    }
   ],
   "source": [
    "date.strftime('%a')"
   ]
  },
  {
   "cell_type": "markdown",
   "metadata": {},
   "source": [
    "Additionally, we can do NumPy-style vectorized operations directly on this same object:"
   ]
  },
  {
   "cell_type": "code",
   "execution_count": 98,
   "metadata": {
    "collapsed": false,
    "jupyter": {
     "outputs_hidden": false
    }
   },
   "outputs": [
    {
     "data": {
      "text/plain": [
       "DatetimeIndex(['2015-07-04', '2015-07-05', '2015-07-06', '2015-07-07',\n",
       "               '2015-07-08', '2015-07-09', '2015-07-10', '2015-07-11',\n",
       "               '2015-07-12', '2015-07-13', '2015-07-14', '2015-07-15'],\n",
       "              dtype='datetime64[ns]', freq=None)"
      ]
     },
     "execution_count": 98,
     "metadata": {},
     "output_type": "execute_result"
    }
   ],
   "source": [
    "date + pd.to_timedelta(np.arange(12), 'D')"
   ]
  },
  {
   "cell_type": "code",
   "execution_count": 99,
   "metadata": {},
   "outputs": [
    {
     "data": {
      "text/plain": [
       "DatetimeIndex(['2015-07-04 00:00:00', '2015-07-04 00:01:00',\n",
       "               '2015-07-04 00:02:00', '2015-07-04 00:03:00',\n",
       "               '2015-07-04 00:04:00', '2015-07-04 00:05:00',\n",
       "               '2015-07-04 00:06:00', '2015-07-04 00:07:00',\n",
       "               '2015-07-04 00:08:00', '2015-07-04 00:09:00',\n",
       "               '2015-07-04 00:10:00', '2015-07-04 00:11:00'],\n",
       "              dtype='datetime64[ns]', freq=None)"
      ]
     },
     "execution_count": 99,
     "metadata": {},
     "output_type": "execute_result"
    }
   ],
   "source": [
    "date + pd.to_timedelta(np.arange(12), 'm')"
   ]
  },
  {
   "cell_type": "markdown",
   "metadata": {},
   "source": [
    "In the next section, we will take a closer look at manipulating time series data with the tools provided by Pandas."
   ]
  },
  {
   "cell_type": "markdown",
   "metadata": {},
   "source": [
    "## Pandas Time Series: Indexing by Time\n",
    "\n",
    "Where the Pandas time series tools really become useful is when you begin to *index data by timestamps*.\n",
    "For example, we can construct a ``Series`` object that has time indexed data:"
   ]
  },
  {
   "cell_type": "code",
   "execution_count": 100,
   "metadata": {
    "collapsed": false,
    "jupyter": {
     "outputs_hidden": false
    }
   },
   "outputs": [
    {
     "data": {
      "text/plain": [
       "2014-07-04    0\n",
       "2014-08-04    1\n",
       "2015-07-04    2\n",
       "2015-08-04    3\n",
       "dtype: int64"
      ]
     },
     "execution_count": 100,
     "metadata": {},
     "output_type": "execute_result"
    }
   ],
   "source": [
    "index = pd.DatetimeIndex(['2014-07-04', '2014-08-04',\n",
    "                          '2015-07-04', '2015-08-04'])\n",
    "data = pd.Series([0, 1, 2, 3], index=index)\n",
    "data"
   ]
  },
  {
   "cell_type": "markdown",
   "metadata": {},
   "source": [
    "Now that we have this data in a ``Series``, we can make use of any of the ``Series`` indexing patterns we discussed in previous sections, passing values that can be coerced into dates:"
   ]
  },
  {
   "cell_type": "code",
   "execution_count": 101,
   "metadata": {
    "collapsed": false,
    "jupyter": {
     "outputs_hidden": false
    }
   },
   "outputs": [
    {
     "data": {
      "text/plain": [
       "2014-07-04    0\n",
       "2014-08-04    1\n",
       "2015-07-04    2\n",
       "dtype: int64"
      ]
     },
     "execution_count": 101,
     "metadata": {},
     "output_type": "execute_result"
    }
   ],
   "source": [
    "data['2014-07-04':'2015-07-04']"
   ]
  },
  {
   "cell_type": "markdown",
   "metadata": {},
   "source": [
    "There are additional special date-only indexing operations, such as passing a year to obtain a slice of all data from that year:"
   ]
  },
  {
   "cell_type": "code",
   "execution_count": 109,
   "metadata": {
    "collapsed": false,
    "jupyter": {
     "outputs_hidden": false
    }
   },
   "outputs": [
    {
     "data": {
      "text/plain": [
       "2015-07-04    2\n",
       "2015-08-04    3\n",
       "dtype: int64"
      ]
     },
     "execution_count": 109,
     "metadata": {},
     "output_type": "execute_result"
    }
   ],
   "source": [
    "data['2015']"
   ]
  },
  {
   "cell_type": "code",
   "execution_count": 110,
   "metadata": {},
   "outputs": [
    {
     "data": {
      "text/plain": [
       "0"
      ]
     },
     "execution_count": 110,
     "metadata": {},
     "output_type": "execute_result"
    }
   ],
   "source": [
    "data[0] # '' 안들어갔으므로 0은 그냥 value값 도출해냄(0번째 value)"
   ]
  },
  {
   "cell_type": "markdown",
   "metadata": {},
   "source": [
    "Later, we will see additional examples of the convenience of dates-as-indices.\n",
    "But first, a closer look at the available time series data structures."
   ]
  },
  {
   "cell_type": "markdown",
   "metadata": {},
   "source": [
    "## Pandas Time Series Data Structures\n",
    "\n",
    "This section will introduce the fundamental Pandas data structures for working with time series data:\n",
    "\n",
    "- For *time stamps*, Pandas provides the ``Timestamp`` type. As mentioned before, it is essentially a replacement for Python's native ``datetime``, but is based on the more efficient ``numpy.datetime64`` data type. The associated Index structure is ``DatetimeIndex``.\n",
    "- For *time Periods*, Pandas provides the ``Period`` type. This encodes a fixed-frequency interval based on ``numpy.datetime64``. The associated index structure is ``PeriodIndex``.\n",
    "- For *time deltas* or *durations*, Pandas provides the ``Timedelta`` type. ``Timedelta`` is a more efficient replacement for Python's native ``datetime.timedelta`` type, and is based on ``numpy.timedelta64``. The associated index structure is ``TimedeltaIndex``."
   ]
  },
  {
   "cell_type": "markdown",
   "metadata": {},
   "source": [
    "The most fundamental of these date/time objects are the ``Timestamp`` and ``DatetimeIndex`` objects.\n",
    "While these class objects can be invoked directly, it is more common to use the ``pd.to_datetime()`` function, which can parse a wide variety of formats.\n",
    "Passing a single date to ``pd.to_datetime()`` yields a ``Timestamp``; passing a series of dates by default yields a ``DatetimeIndex``:"
   ]
  },
  {
   "cell_type": "code",
   "execution_count": 111,
   "metadata": {
    "collapsed": false,
    "jupyter": {
     "outputs_hidden": false
    }
   },
   "outputs": [
    {
     "data": {
      "text/plain": [
       "DatetimeIndex(['2015-07-03', '2015-07-04', '2015-07-06', '2015-07-07',\n",
       "               '2015-07-08'],\n",
       "              dtype='datetime64[ns]', freq=None)"
      ]
     },
     "execution_count": 111,
     "metadata": {},
     "output_type": "execute_result"
    }
   ],
   "source": [
    "dates = pd.to_datetime([datetime(2015, 7, 3), '4th of July, 2015',\n",
    "                       '2015-Jul-6', '07-07-2015', '20150708'])\n",
    "dates\n",
    "# 다른 data format 가진 것들 다 같은 format으로 나타내줌(input은 다르지만) - to_datetime으로"
   ]
  },
  {
   "cell_type": "markdown",
   "metadata": {},
   "source": [
    "Any ``DatetimeIndex`` can be converted to a ``PeriodIndex`` with the ``to_period()`` function with the addition of a frequency code; here we'll use ``'D'`` to indicate daily frequency:"
   ]
  },
  {
   "cell_type": "code",
   "execution_count": 117,
   "metadata": {
    "collapsed": false,
    "jupyter": {
     "outputs_hidden": false
    }
   },
   "outputs": [
    {
     "data": {
      "text/plain": [
       "PeriodIndex(['2015-07-03', '2015-07-04', '2015-07-06', '2015-07-07',\n",
       "             '2015-07-08'],\n",
       "            dtype='period[D]', freq='D')"
      ]
     },
     "execution_count": 117,
     "metadata": {},
     "output_type": "execute_result"
    }
   ],
   "source": [
    "dates.to_period('D')\n",
    "# Day(일)까지 나타내줌"
   ]
  },
  {
   "cell_type": "code",
   "execution_count": 130,
   "metadata": {},
   "outputs": [
    {
     "data": {
      "text/plain": [
       "PeriodIndex(['2015-07-03 00:00:00', '2015-07-04 00:00:00',\n",
       "             '2015-07-06 00:00:00', '2015-07-07 00:00:00',\n",
       "             '2015-07-08 00:00:00'],\n",
       "            dtype='period[S]', freq='S')"
      ]
     },
     "execution_count": 130,
     "metadata": {},
     "output_type": "execute_result"
    }
   ],
   "source": [
    "s = dates.to_period('S')\n",
    "s"
   ]
  },
  {
   "cell_type": "code",
   "execution_count": 131,
   "metadata": {},
   "outputs": [
    {
     "data": {
      "text/plain": [
       "PeriodIndex(['2015-07', '2015-07', '2015-07', '2015-07', '2015-07'], dtype='period[M]', freq='M')"
      ]
     },
     "execution_count": 131,
     "metadata": {},
     "output_type": "execute_result"
    }
   ],
   "source": [
    "datamonth = dates.to_period('m') # Y, M, D - available, H (hour), m(minutes) S(seconds) available\n",
    "datamonth"
   ]
  },
  {
   "cell_type": "markdown",
   "metadata": {},
   "source": [
    "A ``TimedeltaIndex`` is created, for example, when a date is subtracted from another:"
   ]
  },
  {
   "cell_type": "code",
   "execution_count": 132,
   "metadata": {
    "collapsed": false,
    "jupyter": {
     "outputs_hidden": false
    }
   },
   "outputs": [
    {
     "data": {
      "text/plain": [
       "TimedeltaIndex(['0 days', '1 days', '3 days', '4 days', '5 days'], dtype='timedelta64[ns]', freq=None)"
      ]
     },
     "execution_count": 132,
     "metadata": {},
     "output_type": "execute_result"
    }
   ],
   "source": [
    "# 2015-07-03 - 2015-07-03, 2015-07-04 - 2015-07-03 ...\n",
    "dates - dates[0] # dates[0] : 2015-07-03 , dates : 다른 날짜 값"
   ]
  },
  {
   "cell_type": "code",
   "execution_count": 133,
   "metadata": {},
   "outputs": [
    {
     "data": {
      "text/plain": [
       "Index([<0 * MonthEnds>, <0 * MonthEnds>, <0 * MonthEnds>, <0 * MonthEnds>,\n",
       "       <0 * MonthEnds>],\n",
       "      dtype='object')"
      ]
     },
     "execution_count": 133,
     "metadata": {},
     "output_type": "execute_result"
    }
   ],
   "source": [
    "datamonth - datamonth[0]"
   ]
  },
  {
   "cell_type": "code",
   "execution_count": 134,
   "metadata": {},
   "outputs": [
    {
     "data": {
      "text/plain": [
       "Index([     <0 * Seconds>,  <86400 * Seconds>, <259200 * Seconds>,\n",
       "       <345600 * Seconds>, <432000 * Seconds>],\n",
       "      dtype='object')"
      ]
     },
     "execution_count": 134,
     "metadata": {},
     "output_type": "execute_result"
    }
   ],
   "source": [
    "s-s[0]"
   ]
  },
  {
   "cell_type": "markdown",
   "metadata": {},
   "source": [
    "### Regular sequences: ``pd.date_range()``\n",
    "\n",
    "To make the creation of regular date sequences more convenient, Pandas offers a few functions for this purpose: ``pd.date_range()`` for timestamps, ``pd.period_range()`` for periods, and ``pd.timedelta_range()`` for time deltas.\n",
    "We've seen that Python's ``range()`` and NumPy's ``np.arange()`` turn a startpoint, endpoint, and optional stepsize into a sequence.\n",
    "Similarly, ``pd.date_range()`` accepts a start date, an end date, and an optional frequency code to create a regular sequence of dates.\n",
    "By default, the frequency is one day:"
   ]
  },
  {
   "cell_type": "code",
   "execution_count": 135,
   "metadata": {
    "collapsed": false,
    "jupyter": {
     "outputs_hidden": false
    }
   },
   "outputs": [
    {
     "data": {
      "text/plain": [
       "DatetimeIndex(['2015-07-03', '2015-07-04', '2015-07-05', '2015-07-06',\n",
       "               '2015-07-07', '2015-07-08', '2015-07-09', '2015-07-10'],\n",
       "              dtype='datetime64[ns]', freq='D')"
      ]
     },
     "execution_count": 135,
     "metadata": {},
     "output_type": "execute_result"
    }
   ],
   "source": [
    "pd.date_range('2015-07-03', '2015-07-10')"
   ]
  },
  {
   "cell_type": "markdown",
   "metadata": {},
   "source": [
    "Alternatively, the date range can be specified not with a start and endpoint, but with a startpoint and a number of periods:"
   ]
  },
  {
   "cell_type": "markdown",
   "metadata": {},
   "source": [
    "date_range : 일별 이후로 나옴 ( 일별,시간,분 ..)"
   ]
  },
  {
   "cell_type": "markdown",
   "metadata": {},
   "source": [
    "period_range : 월별 이후로 나옴(월별, 일, 시간, 분 ..)"
   ]
  },
  {
   "cell_type": "code",
   "execution_count": 148,
   "metadata": {
    "collapsed": false,
    "jupyter": {
     "outputs_hidden": false
    }
   },
   "outputs": [
    {
     "data": {
      "text/plain": [
       "DatetimeIndex(['2015-07-03', '2015-07-04', '2015-07-05', '2015-07-06',\n",
       "               '2015-07-07', '2015-07-08', '2015-07-09', '2015-07-10'],\n",
       "              dtype='datetime64[ns]', freq='D')"
      ]
     },
     "execution_count": 148,
     "metadata": {},
     "output_type": "execute_result"
    }
   ],
   "source": [
    "pd.date_range('2015-07-03', periods=8) # 8 days"
   ]
  },
  {
   "cell_type": "markdown",
   "metadata": {},
   "source": [
    "The spacing can be modified by altering the ``freq`` argument, which defaults to ``D``.\n",
    "For example, here we will construct a range of hourly timestamps:"
   ]
  },
  {
   "cell_type": "code",
   "execution_count": 149,
   "metadata": {
    "collapsed": false,
    "jupyter": {
     "outputs_hidden": false
    }
   },
   "outputs": [
    {
     "data": {
      "text/plain": [
       "DatetimeIndex(['2015-07-03 00:00:00', '2015-07-03 01:00:00',\n",
       "               '2015-07-03 02:00:00', '2015-07-03 03:00:00',\n",
       "               '2015-07-03 04:00:00', '2015-07-03 05:00:00',\n",
       "               '2015-07-03 06:00:00', '2015-07-03 07:00:00'],\n",
       "              dtype='datetime64[ns]', freq='H')"
      ]
     },
     "execution_count": 149,
     "metadata": {},
     "output_type": "execute_result"
    }
   ],
   "source": [
    "pd.date_range('2015-07-03', periods=8, freq='H') # H : hours"
   ]
  },
  {
   "cell_type": "code",
   "execution_count": 150,
   "metadata": {},
   "outputs": [
    {
     "data": {
      "text/plain": [
       "DatetimeIndex(['2015-07-31', '2015-08-31', '2015-09-30', '2015-10-31',\n",
       "               '2015-11-30', '2015-12-31', '2016-01-31', '2016-02-29'],\n",
       "              dtype='datetime64[ns]', freq='M')"
      ]
     },
     "execution_count": 150,
     "metadata": {},
     "output_type": "execute_result"
    }
   ],
   "source": [
    "pd.date_range('2015-07', periods=8, freq='M') "
   ]
  },
  {
   "cell_type": "markdown",
   "metadata": {},
   "source": [
    "To create regular sequences of ``Period`` or ``Timedelta`` values, the very similar ``pd.period_range()`` and ``pd.timedelta_range()`` functions are useful.\n",
    "Here are some monthly periods:"
   ]
  },
  {
   "cell_type": "code",
   "execution_count": 151,
   "metadata": {
    "collapsed": false,
    "jupyter": {
     "outputs_hidden": false
    }
   },
   "outputs": [
    {
     "data": {
      "text/plain": [
       "PeriodIndex(['2015-07', '2015-08', '2015-09', '2015-10', '2015-11', '2015-12',\n",
       "             '2016-01', '2016-02'],\n",
       "            dtype='period[M]', freq='M')"
      ]
     },
     "execution_count": 151,
     "metadata": {},
     "output_type": "execute_result"
    }
   ],
   "source": [
    "pd.period_range('2015-07', periods=8, freq='M')"
   ]
  },
  {
   "cell_type": "code",
   "execution_count": 153,
   "metadata": {},
   "outputs": [
    {
     "data": {
      "text/plain": [
       "PeriodIndex(['2015-07-01 00:00', '2015-07-01 01:00', '2015-07-01 02:00',\n",
       "             '2015-07-01 03:00', '2015-07-01 04:00', '2015-07-01 05:00',\n",
       "             '2015-07-01 06:00', '2015-07-01 07:00'],\n",
       "            dtype='period[H]', freq='H')"
      ]
     },
     "execution_count": 153,
     "metadata": {},
     "output_type": "execute_result"
    }
   ],
   "source": [
    "pd.period_range('2015-07', periods=8, freq='H')"
   ]
  },
  {
   "cell_type": "code",
   "execution_count": 166,
   "metadata": {},
   "outputs": [
    {
     "data": {
      "text/plain": [
       "TimedeltaIndex(['00:00:00.000000', '01:00:00.000000', '02:00:00.000000',\n",
       "                '03:00:00.000000', '04:00:00.000000', '05:00:00.000000',\n",
       "                '06:00:00.000000', '07:00:00.000000', '08:00:00.000000',\n",
       "                '09:00:00.000000'],\n",
       "               dtype='timedelta64[ns]', freq='H')"
      ]
     },
     "execution_count": 166,
     "metadata": {},
     "output_type": "execute_result"
    }
   ],
   "source": [
    "pd.timedelta_range(1, periods=10, freq='H')"
   ]
  },
  {
   "cell_type": "markdown",
   "metadata": {},
   "source": [
    "And a sequence of durations increasing by an hour:"
   ]
  },
  {
   "cell_type": "code",
   "execution_count": 167,
   "metadata": {
    "collapsed": false,
    "jupyter": {
     "outputs_hidden": false
    }
   },
   "outputs": [
    {
     "data": {
      "text/plain": [
       "TimedeltaIndex(['00:00:00', '01:00:00', '02:00:00', '03:00:00', '04:00:00',\n",
       "                '05:00:00', '06:00:00', '07:00:00', '08:00:00', '09:00:00'],\n",
       "               dtype='timedelta64[ns]', freq='H')"
      ]
     },
     "execution_count": 167,
     "metadata": {},
     "output_type": "execute_result"
    }
   ],
   "source": [
    "pd.timedelta_range(0, periods=10, freq='H')"
   ]
  },
  {
   "cell_type": "markdown",
   "metadata": {},
   "source": [
    "All of these require an understanding of Pandas frequency codes, which we'll summarize in the next section."
   ]
  },
  {
   "cell_type": "markdown",
   "metadata": {},
   "source": [
    "## Frequencies and Offsets\n",
    "\n",
    "Fundamental to these Pandas time series tools is the concept of a frequency or date offset.\n",
    "Just as we saw the ``D`` (day) and ``H`` (hour) codes above, we can use such codes to specify any desired frequency spacing.\n",
    "The following table summarizes the main codes available:"
   ]
  },
  {
   "cell_type": "markdown",
   "metadata": {},
   "source": [
    "| Code   | Description         | Code   | Description          |\n",
    "|--------|---------------------|--------|----------------------|\n",
    "| ``D``  | Calendar day        | ``B``  | Business day         |\n",
    "| ``W``  | Weekly              |        |                      |\n",
    "| ``M``  | Month end           | ``BM`` | Business month end   |\n",
    "| ``Q``  | Quarter end         | ``BQ`` | Business quarter end |\n",
    "| ``A``  | Year end            | ``BA`` | Business year end    |\n",
    "| ``H``  | Hours               | ``BH`` | Business hours       |\n",
    "| ``T``  | Minutes             |        |                      |\n",
    "| ``S``  | Seconds             |        |                      |\n",
    "| ``L``  | Milliseonds         |        |                      |\n",
    "| ``U``  | Microseconds        |        |                      |\n",
    "| ``N``  | nanoseconds         |        |                      |"
   ]
  },
  {
   "cell_type": "markdown",
   "metadata": {},
   "source": [
    "The monthly, quarterly, and annual frequencies are all marked at the end of the specified period.\n",
    "By adding an ``S`` suffix to any of these, they instead will be marked at the beginning:"
   ]
  },
  {
   "cell_type": "markdown",
   "metadata": {},
   "source": [
    "| Code    | Description            |\n",
    "|---------|------------------------|\n",
    "| ``MS``  | Month start            |\n",
    "| ``QS``  | Quarter start          |\n",
    "| ``AS``  | Year start             |\n",
    "|``BMS``  | Business month start   |\n",
    "|``BQS``  | Business quarter start |\n",
    "|``BAS``  | Business year start    |"
   ]
  },
  {
   "cell_type": "markdown",
   "metadata": {},
   "source": [
    "\n",
    "Additionally, you can change the month used to mark any quarterly or annual code by adding a three-letter month code as a suffix:\n",
    "\n",
    "- ``Q-JAN``, ``BQ-FEB``, ``QS-MAR``, ``BQS-APR``, etc.\n",
    "- ``A-JAN``, ``BA-FEB``, ``AS-MAR``, ``BAS-APR``, etc.\n",
    "\n",
    "In the same way, the split-point of the weekly frequency can be modified by adding a three-letter weekday code:\n",
    "\n",
    "- ``W-SUN``, ``W-MON``, ``W-TUE``, ``W-WED``, etc.\n",
    "\n",
    "On top of this, codes can be combined with numbers to specify other frequencies.\n",
    "For example, for a frequency of 2 hours 30 minutes, we can combine the hour (``H``) and minute (``T``) codes as follows:"
   ]
  },
  {
   "cell_type": "code",
   "execution_count": 168,
   "metadata": {
    "collapsed": false,
    "jupyter": {
     "outputs_hidden": false
    }
   },
   "outputs": [
    {
     "data": {
      "text/plain": [
       "TimedeltaIndex(['00:00:00', '02:30:00', '05:00:00', '07:30:00', '10:00:00',\n",
       "                '12:30:00', '15:00:00', '17:30:00', '20:00:00'],\n",
       "               dtype='timedelta64[ns]', freq='150T')"
      ]
     },
     "execution_count": 168,
     "metadata": {},
     "output_type": "execute_result"
    }
   ],
   "source": [
    "pd.timedelta_range(0, periods=9, freq=\"2H30T\") # 2시간 30분 간격으로"
   ]
  },
  {
   "cell_type": "markdown",
   "metadata": {},
   "source": [
    "All of these short codes refer to specific instances of Pandas time series offsets, which can be found in the ``pd.tseries.offsets`` module.\n",
    "For example, we can create a business day offset directly as follows:"
   ]
  },
  {
   "cell_type": "code",
   "execution_count": 169,
   "metadata": {
    "collapsed": false,
    "jupyter": {
     "outputs_hidden": false
    }
   },
   "outputs": [
    {
     "data": {
      "text/plain": [
       "DatetimeIndex(['2015-07-01', '2015-07-02', '2015-07-03', '2015-07-06',\n",
       "               '2015-07-07'],\n",
       "              dtype='datetime64[ns]', freq='B')"
      ]
     },
     "execution_count": 169,
     "metadata": {},
     "output_type": "execute_result"
    }
   ],
   "source": [
    "from pandas.tseries.offsets import BDay\n",
    "pd.date_range('2015-07-01', periods=5, freq=BDay())\n",
    "# 5 Business Day(토요일, 일요일 제외하고 5일)"
   ]
  },
  {
   "cell_type": "markdown",
   "metadata": {},
   "source": [
    "For more discussion of the use of frequencies and offsets, see the [\"DateOffset\" section](http://pandas.pydata.org/pandas-docs/stable/timeseries.html#dateoffset-objects) of the Pandas documentation."
   ]
  },
  {
   "cell_type": "markdown",
   "metadata": {},
   "source": [
    "## Where to Learn More\n",
    "\n",
    "This section has provided only a brief summary of some of the most essential features of time series tools provided by Pandas; for a more complete discussion, you can refer to the [\"Time Series/Date\" section](http://pandas.pydata.org/pandas-docs/stable/timeseries.html) of the Pandas online documentation.\n",
    "\n",
    "Another excellent resource is the textbook [Python for Data Analysis](http://shop.oreilly.com/product/0636920023784.do) by Wes McKinney (OReilly, 2012).\n",
    "Although it is now a few years old, it is an invaluable resource on the use of Pandas.\n",
    "In particular, this book emphasizes time series tools in the context of business and finance, and focuses much more on particular details of business calendars, time zones, and related topics.\n",
    "\n",
    "As always, you can also use the IPython help functionality to explore and try further options available to the functions and methods discussed here. I find this often is the best way to learn a new Python tool."
   ]
  },
  {
   "cell_type": "markdown",
   "metadata": {},
   "source": [
    "## Example: Visualizing Seattle Bicycle Counts\n",
    "\n",
    "As a more involved example of working with some time series data, let's take a look at bicycle counts on Seattle's [Fremont Bridge](http://www.openstreetmap.org/#map=17/47.64813/-122.34965).\n",
    "This data comes from an automated bicycle counter, installed in late 2012, which has inductive sensors on the east and west sidewalks of the bridge.\n",
    "The hourly bicycle counts can be downloaded from http://data.seattle.gov/; here is the [direct link to the dataset](https://data.seattle.gov/Transportation/Fremont-Bridge-Hourly-Bicycle-Counts-by-Month-Octo/65db-xm6k).\n",
    "\n",
    "As of summer 2016, the CSV can be downloaded as follows:"
   ]
  },
  {
   "cell_type": "code",
   "execution_count": 170,
   "metadata": {
    "collapsed": false,
    "jupyter": {
     "outputs_hidden": false
    }
   },
   "outputs": [
    {
     "name": "stderr",
     "output_type": "stream",
     "text": [
      "  % Total    % Received % Xferd  Average Speed   Time    Time     Time  Current\n",
      "                                 Dload  Upload   Total   Spent    Left  Speed\n",
      "\n",
      "  0     0    0     0    0     0      0      0 --:--:-- --:--:-- --:--:--     0\n",
      "  0     0    0     0    0     0      0      0 --:--:-- --:--:-- --:--:--     0\n",
      "100 48304    0 48304    0     0  24152      0 --:--:--  0:00:02 --:--:-- 24152\n",
      "100 1055k    0 1055k    0     0   351k      0 --:--:--  0:00:03 --:--:--  349k\n",
      "100 3870k    0 3870k    0     0  1290k      0 --:--:--  0:00:03 --:--:--  990k\n",
      "100 4248k    0 4248k    0     0  1062k      0 --:--:--  0:00:04 --:--:-- 1041k\n"
     ]
    }
   ],
   "source": [
    "!curl -o FremontBridge.csv https://data.seattle.gov/api/views/65db-xm6k/rows.csv?accessType=DOWNLOAD"
   ]
  },
  {
   "cell_type": "markdown",
   "metadata": {},
   "source": [
    "Once this dataset is downloaded, we can use Pandas to read the CSV output into a ``DataFrame``.\n",
    "We will specify that we want the Date as an index, and we want these dates to be automatically parsed:"
   ]
  },
  {
   "cell_type": "code",
   "execution_count": 174,
   "metadata": {
    "collapsed": false,
    "jupyter": {
     "outputs_hidden": false
    }
   },
   "outputs": [
    {
     "data": {
      "text/html": [
       "<div>\n",
       "<style scoped>\n",
       "    .dataframe tbody tr th:only-of-type {\n",
       "        vertical-align: middle;\n",
       "    }\n",
       "\n",
       "    .dataframe tbody tr th {\n",
       "        vertical-align: top;\n",
       "    }\n",
       "\n",
       "    .dataframe thead th {\n",
       "        text-align: right;\n",
       "    }\n",
       "</style>\n",
       "<table border=\"1\" class=\"dataframe\">\n",
       "  <thead>\n",
       "    <tr style=\"text-align: right;\">\n",
       "      <th></th>\n",
       "      <th>Fremont Bridge East Sidewalk</th>\n",
       "      <th>Fremont Bridge West Sidewalk</th>\n",
       "    </tr>\n",
       "    <tr>\n",
       "      <th>Date</th>\n",
       "      <th></th>\n",
       "      <th></th>\n",
       "    </tr>\n",
       "  </thead>\n",
       "  <tbody>\n",
       "    <tr>\n",
       "      <th>2015-02-24 02:00:00</th>\n",
       "      <td>3.0</td>\n",
       "      <td>3.0</td>\n",
       "    </tr>\n",
       "    <tr>\n",
       "      <th>2019-01-01 00:00:00</th>\n",
       "      <td>0.0</td>\n",
       "      <td>9.0</td>\n",
       "    </tr>\n",
       "    <tr>\n",
       "      <th>2019-01-01 01:00:00</th>\n",
       "      <td>2.0</td>\n",
       "      <td>22.0</td>\n",
       "    </tr>\n",
       "    <tr>\n",
       "      <th>2016-02-15 00:00:00</th>\n",
       "      <td>3.0</td>\n",
       "      <td>3.0</td>\n",
       "    </tr>\n",
       "    <tr>\n",
       "      <th>2019-01-01 02:00:00</th>\n",
       "      <td>1.0</td>\n",
       "      <td>11.0</td>\n",
       "    </tr>\n",
       "  </tbody>\n",
       "</table>\n",
       "</div>"
      ],
      "text/plain": [
       "                     Fremont Bridge East Sidewalk  \\\n",
       "Date                                                \n",
       "2015-02-24 02:00:00                           3.0   \n",
       "2019-01-01 00:00:00                           0.0   \n",
       "2019-01-01 01:00:00                           2.0   \n",
       "2016-02-15 00:00:00                           3.0   \n",
       "2019-01-01 02:00:00                           1.0   \n",
       "\n",
       "                     Fremont Bridge West Sidewalk  \n",
       "Date                                               \n",
       "2015-02-24 02:00:00                           3.0  \n",
       "2019-01-01 00:00:00                           9.0  \n",
       "2019-01-01 01:00:00                          22.0  \n",
       "2016-02-15 00:00:00                           3.0  \n",
       "2019-01-01 02:00:00                          11.0  "
      ]
     },
     "execution_count": 174,
     "metadata": {},
     "output_type": "execute_result"
    }
   ],
   "source": [
    "data = pd.read_csv('data/FremontBridge.csv', index_col='Date', parse_dates=True)\n",
    "#data = pd.read_csv('FremontBridge.csv', index_col='Date', parse_dates=True)\n",
    "data.head()"
   ]
  },
  {
   "cell_type": "markdown",
   "metadata": {},
   "source": [
    "For convenience, we'll further process this dataset by shortening the column names and adding a \"Total\" column:"
   ]
  },
  {
   "cell_type": "code",
   "execution_count": 175,
   "metadata": {
    "collapsed": false,
    "jupyter": {
     "outputs_hidden": false
    }
   },
   "outputs": [],
   "source": [
    "data.columns = ['East', 'West']\n",
    "data['Total'] = data.eval('East + West')\n",
    "# eval : 문자열을 코드로 인식하게 하는 함수"
   ]
  },
  {
   "cell_type": "code",
   "execution_count": 179,
   "metadata": {},
   "outputs": [
    {
     "data": {
      "text/html": [
       "<div>\n",
       "<style scoped>\n",
       "    .dataframe tbody tr th:only-of-type {\n",
       "        vertical-align: middle;\n",
       "    }\n",
       "\n",
       "    .dataframe tbody tr th {\n",
       "        vertical-align: top;\n",
       "    }\n",
       "\n",
       "    .dataframe thead th {\n",
       "        text-align: right;\n",
       "    }\n",
       "</style>\n",
       "<table border=\"1\" class=\"dataframe\">\n",
       "  <thead>\n",
       "    <tr style=\"text-align: right;\">\n",
       "      <th></th>\n",
       "      <th>East</th>\n",
       "      <th>West</th>\n",
       "      <th>Total</th>\n",
       "    </tr>\n",
       "    <tr>\n",
       "      <th>Date</th>\n",
       "      <th></th>\n",
       "      <th></th>\n",
       "      <th></th>\n",
       "    </tr>\n",
       "  </thead>\n",
       "  <tbody>\n",
       "    <tr>\n",
       "      <th>2015-02-24 02:00:00</th>\n",
       "      <td>3.0</td>\n",
       "      <td>3.0</td>\n",
       "      <td>6.0</td>\n",
       "    </tr>\n",
       "    <tr>\n",
       "      <th>2019-01-01 00:00:00</th>\n",
       "      <td>0.0</td>\n",
       "      <td>9.0</td>\n",
       "      <td>9.0</td>\n",
       "    </tr>\n",
       "    <tr>\n",
       "      <th>2019-01-01 01:00:00</th>\n",
       "      <td>2.0</td>\n",
       "      <td>22.0</td>\n",
       "      <td>24.0</td>\n",
       "    </tr>\n",
       "    <tr>\n",
       "      <th>2016-02-15 00:00:00</th>\n",
       "      <td>3.0</td>\n",
       "      <td>3.0</td>\n",
       "      <td>6.0</td>\n",
       "    </tr>\n",
       "    <tr>\n",
       "      <th>2019-01-01 02:00:00</th>\n",
       "      <td>1.0</td>\n",
       "      <td>11.0</td>\n",
       "      <td>12.0</td>\n",
       "    </tr>\n",
       "  </tbody>\n",
       "</table>\n",
       "</div>"
      ],
      "text/plain": [
       "                     East  West  Total\n",
       "Date                                  \n",
       "2015-02-24 02:00:00   3.0   3.0    6.0\n",
       "2019-01-01 00:00:00   0.0   9.0    9.0\n",
       "2019-01-01 01:00:00   2.0  22.0   24.0\n",
       "2016-02-15 00:00:00   3.0   3.0    6.0\n",
       "2019-01-01 02:00:00   1.0  11.0   12.0"
      ]
     },
     "execution_count": 179,
     "metadata": {},
     "output_type": "execute_result"
    }
   ],
   "source": [
    "data.head()"
   ]
  },
  {
   "cell_type": "markdown",
   "metadata": {},
   "source": [
    "Now let's take a look at the summary statistics for this data:"
   ]
  },
  {
   "cell_type": "code",
   "execution_count": 180,
   "metadata": {
    "collapsed": false,
    "jupyter": {
     "outputs_hidden": false
    }
   },
   "outputs": [
    {
     "data": {
      "text/html": [
       "<div>\n",
       "<style scoped>\n",
       "    .dataframe tbody tr th:only-of-type {\n",
       "        vertical-align: middle;\n",
       "    }\n",
       "\n",
       "    .dataframe tbody tr th {\n",
       "        vertical-align: top;\n",
       "    }\n",
       "\n",
       "    .dataframe thead th {\n",
       "        text-align: right;\n",
       "    }\n",
       "</style>\n",
       "<table border=\"1\" class=\"dataframe\">\n",
       "  <thead>\n",
       "    <tr style=\"text-align: right;\">\n",
       "      <th></th>\n",
       "      <th>East</th>\n",
       "      <th>West</th>\n",
       "      <th>Total</th>\n",
       "    </tr>\n",
       "  </thead>\n",
       "  <tbody>\n",
       "    <tr>\n",
       "      <th>count</th>\n",
       "      <td>61287.000000</td>\n",
       "      <td>61287.000000</td>\n",
       "      <td>61287.000000</td>\n",
       "    </tr>\n",
       "    <tr>\n",
       "      <th>mean</th>\n",
       "      <td>52.894790</td>\n",
       "      <td>61.444874</td>\n",
       "      <td>114.339664</td>\n",
       "    </tr>\n",
       "    <tr>\n",
       "      <th>std</th>\n",
       "      <td>67.815951</td>\n",
       "      <td>89.875981</td>\n",
       "      <td>145.211368</td>\n",
       "    </tr>\n",
       "    <tr>\n",
       "      <th>min</th>\n",
       "      <td>0.000000</td>\n",
       "      <td>0.000000</td>\n",
       "      <td>0.000000</td>\n",
       "    </tr>\n",
       "    <tr>\n",
       "      <th>25%</th>\n",
       "      <td>7.000000</td>\n",
       "      <td>7.000000</td>\n",
       "      <td>15.000000</td>\n",
       "    </tr>\n",
       "    <tr>\n",
       "      <th>50%</th>\n",
       "      <td>29.000000</td>\n",
       "      <td>30.000000</td>\n",
       "      <td>62.000000</td>\n",
       "    </tr>\n",
       "    <tr>\n",
       "      <th>75%</th>\n",
       "      <td>71.000000</td>\n",
       "      <td>74.000000</td>\n",
       "      <td>150.000000</td>\n",
       "    </tr>\n",
       "    <tr>\n",
       "      <th>max</th>\n",
       "      <td>698.000000</td>\n",
       "      <td>850.000000</td>\n",
       "      <td>1097.000000</td>\n",
       "    </tr>\n",
       "  </tbody>\n",
       "</table>\n",
       "</div>"
      ],
      "text/plain": [
       "               East          West         Total\n",
       "count  61287.000000  61287.000000  61287.000000\n",
       "mean      52.894790     61.444874    114.339664\n",
       "std       67.815951     89.875981    145.211368\n",
       "min        0.000000      0.000000      0.000000\n",
       "25%        7.000000      7.000000     15.000000\n",
       "50%       29.000000     30.000000     62.000000\n",
       "75%       71.000000     74.000000    150.000000\n",
       "max      698.000000    850.000000   1097.000000"
      ]
     },
     "execution_count": 180,
     "metadata": {},
     "output_type": "execute_result"
    }
   ],
   "source": [
    "data.dropna().describe()"
   ]
  },
  {
   "cell_type": "code",
   "execution_count": 181,
   "metadata": {},
   "outputs": [],
   "source": [
    "data1 = pd.read_csv('FremontBridge.csv', index_col='Date', parse_dates=True)"
   ]
  },
  {
   "cell_type": "code",
   "execution_count": 182,
   "metadata": {},
   "outputs": [
    {
     "data": {
      "text/html": [
       "<div>\n",
       "<style scoped>\n",
       "    .dataframe tbody tr th:only-of-type {\n",
       "        vertical-align: middle;\n",
       "    }\n",
       "\n",
       "    .dataframe tbody tr th {\n",
       "        vertical-align: top;\n",
       "    }\n",
       "\n",
       "    .dataframe thead th {\n",
       "        text-align: right;\n",
       "    }\n",
       "</style>\n",
       "<table border=\"1\" class=\"dataframe\">\n",
       "  <thead>\n",
       "    <tr style=\"text-align: right;\">\n",
       "      <th></th>\n",
       "      <th>Fremont Bridge Total</th>\n",
       "      <th>Fremont Bridge East Sidewalk</th>\n",
       "      <th>Fremont Bridge West Sidewalk</th>\n",
       "    </tr>\n",
       "    <tr>\n",
       "      <th>Date</th>\n",
       "      <th></th>\n",
       "      <th></th>\n",
       "      <th></th>\n",
       "    </tr>\n",
       "  </thead>\n",
       "  <tbody>\n",
       "    <tr>\n",
       "      <th>2012-10-03 00:00:00</th>\n",
       "      <td>13.0</td>\n",
       "      <td>4.0</td>\n",
       "      <td>9.0</td>\n",
       "    </tr>\n",
       "    <tr>\n",
       "      <th>2012-10-03 01:00:00</th>\n",
       "      <td>10.0</td>\n",
       "      <td>4.0</td>\n",
       "      <td>6.0</td>\n",
       "    </tr>\n",
       "    <tr>\n",
       "      <th>2012-10-03 02:00:00</th>\n",
       "      <td>2.0</td>\n",
       "      <td>1.0</td>\n",
       "      <td>1.0</td>\n",
       "    </tr>\n",
       "    <tr>\n",
       "      <th>2012-10-03 03:00:00</th>\n",
       "      <td>5.0</td>\n",
       "      <td>2.0</td>\n",
       "      <td>3.0</td>\n",
       "    </tr>\n",
       "    <tr>\n",
       "      <th>2012-10-03 04:00:00</th>\n",
       "      <td>7.0</td>\n",
       "      <td>6.0</td>\n",
       "      <td>1.0</td>\n",
       "    </tr>\n",
       "  </tbody>\n",
       "</table>\n",
       "</div>"
      ],
      "text/plain": [
       "                     Fremont Bridge Total  Fremont Bridge East Sidewalk  \\\n",
       "Date                                                                      \n",
       "2012-10-03 00:00:00                  13.0                           4.0   \n",
       "2012-10-03 01:00:00                  10.0                           4.0   \n",
       "2012-10-03 02:00:00                   2.0                           1.0   \n",
       "2012-10-03 03:00:00                   5.0                           2.0   \n",
       "2012-10-03 04:00:00                   7.0                           6.0   \n",
       "\n",
       "                     Fremont Bridge West Sidewalk  \n",
       "Date                                               \n",
       "2012-10-03 00:00:00                           9.0  \n",
       "2012-10-03 01:00:00                           6.0  \n",
       "2012-10-03 02:00:00                           1.0  \n",
       "2012-10-03 03:00:00                           3.0  \n",
       "2012-10-03 04:00:00                           1.0  "
      ]
     },
     "execution_count": 182,
     "metadata": {},
     "output_type": "execute_result"
    }
   ],
   "source": [
    "data1.head()"
   ]
  },
  {
   "cell_type": "code",
   "execution_count": 183,
   "metadata": {},
   "outputs": [],
   "source": [
    "data1.columns = ['Total','West', 'East']"
   ]
  },
  {
   "cell_type": "code",
   "execution_count": 184,
   "metadata": {},
   "outputs": [
    {
     "data": {
      "text/html": [
       "<div>\n",
       "<style scoped>\n",
       "    .dataframe tbody tr th:only-of-type {\n",
       "        vertical-align: middle;\n",
       "    }\n",
       "\n",
       "    .dataframe tbody tr th {\n",
       "        vertical-align: top;\n",
       "    }\n",
       "\n",
       "    .dataframe thead th {\n",
       "        text-align: right;\n",
       "    }\n",
       "</style>\n",
       "<table border=\"1\" class=\"dataframe\">\n",
       "  <thead>\n",
       "    <tr style=\"text-align: right;\">\n",
       "      <th></th>\n",
       "      <th>Total</th>\n",
       "      <th>West</th>\n",
       "      <th>East</th>\n",
       "    </tr>\n",
       "  </thead>\n",
       "  <tbody>\n",
       "    <tr>\n",
       "      <th>count</th>\n",
       "      <td>136313.000000</td>\n",
       "      <td>136313.000000</td>\n",
       "      <td>136313.000000</td>\n",
       "    </tr>\n",
       "    <tr>\n",
       "      <th>mean</th>\n",
       "      <td>112.975065</td>\n",
       "      <td>51.514060</td>\n",
       "      <td>61.461005</td>\n",
       "    </tr>\n",
       "    <tr>\n",
       "      <th>std</th>\n",
       "      <td>143.607191</td>\n",
       "      <td>66.214446</td>\n",
       "      <td>89.406687</td>\n",
       "    </tr>\n",
       "    <tr>\n",
       "      <th>min</th>\n",
       "      <td>0.000000</td>\n",
       "      <td>0.000000</td>\n",
       "      <td>0.000000</td>\n",
       "    </tr>\n",
       "    <tr>\n",
       "      <th>25%</th>\n",
       "      <td>14.000000</td>\n",
       "      <td>6.000000</td>\n",
       "      <td>7.000000</td>\n",
       "    </tr>\n",
       "    <tr>\n",
       "      <th>50%</th>\n",
       "      <td>61.000000</td>\n",
       "      <td>28.000000</td>\n",
       "      <td>30.000000</td>\n",
       "    </tr>\n",
       "    <tr>\n",
       "      <th>75%</th>\n",
       "      <td>148.000000</td>\n",
       "      <td>69.000000</td>\n",
       "      <td>75.000000</td>\n",
       "    </tr>\n",
       "    <tr>\n",
       "      <th>max</th>\n",
       "      <td>1097.000000</td>\n",
       "      <td>698.000000</td>\n",
       "      <td>850.000000</td>\n",
       "    </tr>\n",
       "  </tbody>\n",
       "</table>\n",
       "</div>"
      ],
      "text/plain": [
       "               Total           West           East\n",
       "count  136313.000000  136313.000000  136313.000000\n",
       "mean      112.975065      51.514060      61.461005\n",
       "std       143.607191      66.214446      89.406687\n",
       "min         0.000000       0.000000       0.000000\n",
       "25%        14.000000       6.000000       7.000000\n",
       "50%        61.000000      28.000000      30.000000\n",
       "75%       148.000000      69.000000      75.000000\n",
       "max      1097.000000     698.000000     850.000000"
      ]
     },
     "execution_count": 184,
     "metadata": {},
     "output_type": "execute_result"
    }
   ],
   "source": [
    "data1.dropna().describe()"
   ]
  },
  {
   "cell_type": "markdown",
   "metadata": {},
   "source": [
    "### Visualizing the data\n",
    "\n",
    "We can gain some insight into the dataset by visualizing it.\n",
    "Let's start by plotting the raw data:"
   ]
  },
  {
   "cell_type": "code",
   "execution_count": 185,
   "metadata": {
    "collapsed": false,
    "jupyter": {
     "outputs_hidden": false
    }
   },
   "outputs": [],
   "source": [
    "import matplotlib.pyplot as plt # 전부 numerical value이므로 이거 적어줘야함\n",
    "%matplotlib inline\n",
    "import seaborn; seaborn.set()"
   ]
  },
  {
   "cell_type": "code",
   "execution_count": 186,
   "metadata": {
    "collapsed": false,
    "jupyter": {
     "outputs_hidden": false
    }
   },
   "outputs": [
    {
     "data": {
      "image/png": "[encoded data removed]",
      "text/plain": [
       "<Figure size 432x288 with 1 Axes>"
      ]
     },
     "metadata": {},
     "output_type": "display_data"
    }
   ],
   "source": [
    "data.plot()\n",
    "plt.ylabel('Hourly Bicycle Count');"
   ]
  },
  {
   "cell_type": "markdown",
   "metadata": {},
   "source": [
    "The ~25,000 hourly samples are far too dense for us to make much sense of.\n",
    "We can gain more insight by resampling the data to a coarser grid.\n",
    "Let's resample by week:"
   ]
  },
  {
   "cell_type": "code",
   "execution_count": 187,
   "metadata": {},
   "outputs": [
    {
     "data": {
      "text/html": [
       "<div>\n",
       "<style scoped>\n",
       "    .dataframe tbody tr th:only-of-type {\n",
       "        vertical-align: middle;\n",
       "    }\n",
       "\n",
       "    .dataframe tbody tr th {\n",
       "        vertical-align: top;\n",
       "    }\n",
       "\n",
       "    .dataframe thead th {\n",
       "        text-align: right;\n",
       "    }\n",
       "</style>\n",
       "<table border=\"1\" class=\"dataframe\">\n",
       "  <thead>\n",
       "    <tr style=\"text-align: right;\">\n",
       "      <th></th>\n",
       "      <th>East</th>\n",
       "      <th>West</th>\n",
       "      <th>Total</th>\n",
       "    </tr>\n",
       "    <tr>\n",
       "      <th>Date</th>\n",
       "      <th></th>\n",
       "      <th></th>\n",
       "      <th></th>\n",
       "    </tr>\n",
       "  </thead>\n",
       "  <tbody>\n",
       "    <tr>\n",
       "      <th>2012-10-03</th>\n",
       "      <td>1760.0</td>\n",
       "      <td>1761.0</td>\n",
       "      <td>3521.0</td>\n",
       "    </tr>\n",
       "    <tr>\n",
       "      <th>2012-10-04</th>\n",
       "      <td>1708.0</td>\n",
       "      <td>1767.0</td>\n",
       "      <td>3475.0</td>\n",
       "    </tr>\n",
       "    <tr>\n",
       "      <th>2012-10-05</th>\n",
       "      <td>1558.0</td>\n",
       "      <td>1590.0</td>\n",
       "      <td>3148.0</td>\n",
       "    </tr>\n",
       "    <tr>\n",
       "      <th>2012-10-06</th>\n",
       "      <td>1080.0</td>\n",
       "      <td>926.0</td>\n",
       "      <td>2006.0</td>\n",
       "    </tr>\n",
       "    <tr>\n",
       "      <th>2012-10-07</th>\n",
       "      <td>1191.0</td>\n",
       "      <td>951.0</td>\n",
       "      <td>2142.0</td>\n",
       "    </tr>\n",
       "    <tr>\n",
       "      <th>...</th>\n",
       "      <td>...</td>\n",
       "      <td>...</td>\n",
       "      <td>...</td>\n",
       "    </tr>\n",
       "    <tr>\n",
       "      <th>2019-09-26</th>\n",
       "      <td>1494.0</td>\n",
       "      <td>2636.0</td>\n",
       "      <td>4130.0</td>\n",
       "    </tr>\n",
       "    <tr>\n",
       "      <th>2019-09-27</th>\n",
       "      <td>1199.0</td>\n",
       "      <td>2214.0</td>\n",
       "      <td>3413.0</td>\n",
       "    </tr>\n",
       "    <tr>\n",
       "      <th>2019-09-28</th>\n",
       "      <td>848.0</td>\n",
       "      <td>1011.0</td>\n",
       "      <td>1859.0</td>\n",
       "    </tr>\n",
       "    <tr>\n",
       "      <th>2019-09-29</th>\n",
       "      <td>606.0</td>\n",
       "      <td>818.0</td>\n",
       "      <td>1424.0</td>\n",
       "    </tr>\n",
       "    <tr>\n",
       "      <th>2019-09-30</th>\n",
       "      <td>1726.0</td>\n",
       "      <td>3280.0</td>\n",
       "      <td>5006.0</td>\n",
       "    </tr>\n",
       "  </tbody>\n",
       "</table>\n",
       "<p>2554 rows × 3 columns</p>\n",
       "</div>"
      ],
      "text/plain": [
       "              East    West   Total\n",
       "Date                              \n",
       "2012-10-03  1760.0  1761.0  3521.0\n",
       "2012-10-04  1708.0  1767.0  3475.0\n",
       "2012-10-05  1558.0  1590.0  3148.0\n",
       "2012-10-06  1080.0   926.0  2006.0\n",
       "2012-10-07  1191.0   951.0  2142.0\n",
       "...            ...     ...     ...\n",
       "2019-09-26  1494.0  2636.0  4130.0\n",
       "2019-09-27  1199.0  2214.0  3413.0\n",
       "2019-09-28   848.0  1011.0  1859.0\n",
       "2019-09-29   606.0   818.0  1424.0\n",
       "2019-09-30  1726.0  3280.0  5006.0\n",
       "\n",
       "[2554 rows x 3 columns]"
      ]
     },
     "execution_count": 187,
     "metadata": {},
     "output_type": "execute_result"
    }
   ],
   "source": [
    "data.resample('D').sum() \n",
    "# D : Daily(날마다 정렬)"
   ]
  },
  {
   "cell_type": "code",
   "execution_count": 192,
   "metadata": {},
   "outputs": [
    {
     "data": {
      "text/html": [
       "<div>\n",
       "<style scoped>\n",
       "    .dataframe tbody tr th:only-of-type {\n",
       "        vertical-align: middle;\n",
       "    }\n",
       "\n",
       "    .dataframe tbody tr th {\n",
       "        vertical-align: top;\n",
       "    }\n",
       "\n",
       "    .dataframe thead th {\n",
       "        text-align: right;\n",
       "    }\n",
       "</style>\n",
       "<table border=\"1\" class=\"dataframe\">\n",
       "  <thead>\n",
       "    <tr style=\"text-align: right;\">\n",
       "      <th></th>\n",
       "      <th>East</th>\n",
       "      <th>West</th>\n",
       "      <th>Total</th>\n",
       "    </tr>\n",
       "    <tr>\n",
       "      <th>Date</th>\n",
       "      <th></th>\n",
       "      <th></th>\n",
       "      <th></th>\n",
       "    </tr>\n",
       "  </thead>\n",
       "  <tbody>\n",
       "    <tr>\n",
       "      <th>2012-10-07</th>\n",
       "      <td>7297.0</td>\n",
       "      <td>6995.0</td>\n",
       "      <td>14292.0</td>\n",
       "    </tr>\n",
       "    <tr>\n",
       "      <th>2012-10-14</th>\n",
       "      <td>8679.0</td>\n",
       "      <td>8116.0</td>\n",
       "      <td>16795.0</td>\n",
       "    </tr>\n",
       "    <tr>\n",
       "      <th>2012-10-21</th>\n",
       "      <td>7946.0</td>\n",
       "      <td>7563.0</td>\n",
       "      <td>15509.0</td>\n",
       "    </tr>\n",
       "    <tr>\n",
       "      <th>2012-10-28</th>\n",
       "      <td>6901.0</td>\n",
       "      <td>6536.0</td>\n",
       "      <td>13437.0</td>\n",
       "    </tr>\n",
       "    <tr>\n",
       "      <th>2012-11-04</th>\n",
       "      <td>6408.0</td>\n",
       "      <td>5786.0</td>\n",
       "      <td>12194.0</td>\n",
       "    </tr>\n",
       "    <tr>\n",
       "      <th>...</th>\n",
       "      <td>...</td>\n",
       "      <td>...</td>\n",
       "      <td>...</td>\n",
       "    </tr>\n",
       "    <tr>\n",
       "      <th>2019-09-08</th>\n",
       "      <td>10932.0</td>\n",
       "      <td>17622.0</td>\n",
       "      <td>28554.0</td>\n",
       "    </tr>\n",
       "    <tr>\n",
       "      <th>2019-09-15</th>\n",
       "      <td>9489.0</td>\n",
       "      <td>16344.0</td>\n",
       "      <td>25833.0</td>\n",
       "    </tr>\n",
       "    <tr>\n",
       "      <th>2019-09-22</th>\n",
       "      <td>9096.0</td>\n",
       "      <td>16103.0</td>\n",
       "      <td>25199.0</td>\n",
       "    </tr>\n",
       "    <tr>\n",
       "      <th>2019-09-29</th>\n",
       "      <td>9094.0</td>\n",
       "      <td>16034.0</td>\n",
       "      <td>25128.0</td>\n",
       "    </tr>\n",
       "    <tr>\n",
       "      <th>2019-10-06</th>\n",
       "      <td>1726.0</td>\n",
       "      <td>3280.0</td>\n",
       "      <td>5006.0</td>\n",
       "    </tr>\n",
       "  </tbody>\n",
       "</table>\n",
       "<p>366 rows × 3 columns</p>\n",
       "</div>"
      ],
      "text/plain": [
       "               East     West    Total\n",
       "Date                                 \n",
       "2012-10-07   7297.0   6995.0  14292.0\n",
       "2012-10-14   8679.0   8116.0  16795.0\n",
       "2012-10-21   7946.0   7563.0  15509.0\n",
       "2012-10-28   6901.0   6536.0  13437.0\n",
       "2012-11-04   6408.0   5786.0  12194.0\n",
       "...             ...      ...      ...\n",
       "2019-09-08  10932.0  17622.0  28554.0\n",
       "2019-09-15   9489.0  16344.0  25833.0\n",
       "2019-09-22   9096.0  16103.0  25199.0\n",
       "2019-09-29   9094.0  16034.0  25128.0\n",
       "2019-10-06   1726.0   3280.0   5006.0\n",
       "\n",
       "[366 rows x 3 columns]"
      ]
     },
     "execution_count": 192,
     "metadata": {},
     "output_type": "execute_result"
    }
   ],
   "source": [
    "a= data.resample('W').sum() \n",
    "a\n",
    "# resample : 모든 시간 데이터를 'W'기준으로 다시 Week data만 다시 정렬\n",
    "# Week : 일주일씩 정렬 ( Weekly)"
   ]
  },
  {
   "cell_type": "code",
   "execution_count": 196,
   "metadata": {},
   "outputs": [
    {
     "data": {
      "text/html": [
       "<div>\n",
       "<style scoped>\n",
       "    .dataframe tbody tr th:only-of-type {\n",
       "        vertical-align: middle;\n",
       "    }\n",
       "\n",
       "    .dataframe tbody tr th {\n",
       "        vertical-align: top;\n",
       "    }\n",
       "\n",
       "    .dataframe thead th {\n",
       "        text-align: right;\n",
       "    }\n",
       "</style>\n",
       "<table border=\"1\" class=\"dataframe\">\n",
       "  <thead>\n",
       "    <tr style=\"text-align: right;\">\n",
       "      <th></th>\n",
       "      <th>Total</th>\n",
       "    </tr>\n",
       "    <tr>\n",
       "      <th>Date</th>\n",
       "      <th></th>\n",
       "    </tr>\n",
       "  </thead>\n",
       "  <tbody>\n",
       "    <tr>\n",
       "      <th>2012-10-07</th>\n",
       "      <td>14292.0</td>\n",
       "    </tr>\n",
       "    <tr>\n",
       "      <th>2012-10-14</th>\n",
       "      <td>16795.0</td>\n",
       "    </tr>\n",
       "    <tr>\n",
       "      <th>2012-10-21</th>\n",
       "      <td>15509.0</td>\n",
       "    </tr>\n",
       "    <tr>\n",
       "      <th>2012-10-28</th>\n",
       "      <td>13437.0</td>\n",
       "    </tr>\n",
       "    <tr>\n",
       "      <th>2012-11-04</th>\n",
       "      <td>12194.0</td>\n",
       "    </tr>\n",
       "    <tr>\n",
       "      <th>...</th>\n",
       "      <td>...</td>\n",
       "    </tr>\n",
       "    <tr>\n",
       "      <th>2019-09-08</th>\n",
       "      <td>28554.0</td>\n",
       "    </tr>\n",
       "    <tr>\n",
       "      <th>2019-09-15</th>\n",
       "      <td>25833.0</td>\n",
       "    </tr>\n",
       "    <tr>\n",
       "      <th>2019-09-22</th>\n",
       "      <td>25199.0</td>\n",
       "    </tr>\n",
       "    <tr>\n",
       "      <th>2019-09-29</th>\n",
       "      <td>25128.0</td>\n",
       "    </tr>\n",
       "    <tr>\n",
       "      <th>2019-10-06</th>\n",
       "      <td>5006.0</td>\n",
       "    </tr>\n",
       "  </tbody>\n",
       "</table>\n",
       "<p>366 rows × 1 columns</p>\n",
       "</div>"
      ],
      "text/plain": [
       "              Total\n",
       "Date               \n",
       "2012-10-07  14292.0\n",
       "2012-10-14  16795.0\n",
       "2012-10-21  15509.0\n",
       "2012-10-28  13437.0\n",
       "2012-11-04  12194.0\n",
       "...             ...\n",
       "2019-09-08  28554.0\n",
       "2019-09-15  25833.0\n",
       "2019-09-22  25199.0\n",
       "2019-09-29  25128.0\n",
       "2019-10-06   5006.0\n",
       "\n",
       "[366 rows x 1 columns]"
      ]
     },
     "execution_count": 196,
     "metadata": {},
     "output_type": "execute_result"
    }
   ],
   "source": [
    "a.drop(['East','West'],axis=1)"
   ]
  },
  {
   "cell_type": "code",
   "execution_count": 197,
   "metadata": {
    "collapsed": false,
    "jupyter": {
     "outputs_hidden": false
    }
   },
   "outputs": [
    {
     "data": {
      "image/png": "[encoded data removed]",
      "text/plain": [
       "<Figure size 432x288 with 1 Axes>"
      ]
     },
     "metadata": {},
     "output_type": "display_data"
    }
   ],
   "source": [
    "weekly = data.resample('W').sum() #1 year consists of 52 weeks\n",
    "weekly.plot(style=[':', '--', '-']) #separate the plot from the three columns('East','West','Total'순서대로)\n",
    "plt.ylabel('Weekly bicycle count');\n",
    "# Explain \n",
    "# West bridge seems higher on the bike numbers than the East bridge"
   ]
  },
  {
   "cell_type": "markdown",
   "metadata": {},
   "source": [
    "This shows us some interesting seasonal trends: as you might expect, people bicycle more in the summer than in the winter, and even within a particular season the bicycle use varies from week to week (likely dependent on weather; see [In Depth: Linear Regression](05.06-Linear-Regression.ipynb) where we explore this further).\n",
    "\n",
    "Another way that comes in handy for aggregating the data is to use a rolling mean, utilizing the ``pd.rolling_mean()`` function.\n",
    "Here we'll do a 30 day rolling mean of our data, making sure to center the window:"
   ]
  },
  {
   "cell_type": "code",
   "execution_count": 198,
   "metadata": {},
   "outputs": [
    {
     "data": {
      "text/html": [
       "<div>\n",
       "<style scoped>\n",
       "    .dataframe tbody tr th:only-of-type {\n",
       "        vertical-align: middle;\n",
       "    }\n",
       "\n",
       "    .dataframe tbody tr th {\n",
       "        vertical-align: top;\n",
       "    }\n",
       "\n",
       "    .dataframe thead th {\n",
       "        text-align: right;\n",
       "    }\n",
       "</style>\n",
       "<table border=\"1\" class=\"dataframe\">\n",
       "  <thead>\n",
       "    <tr style=\"text-align: right;\">\n",
       "      <th></th>\n",
       "      <th>East</th>\n",
       "      <th>West</th>\n",
       "      <th>Total</th>\n",
       "    </tr>\n",
       "    <tr>\n",
       "      <th>Date</th>\n",
       "      <th></th>\n",
       "      <th></th>\n",
       "      <th></th>\n",
       "    </tr>\n",
       "  </thead>\n",
       "  <tbody>\n",
       "    <tr>\n",
       "      <th>2012-10-03</th>\n",
       "      <td>1760.0</td>\n",
       "      <td>1761.0</td>\n",
       "      <td>3521.0</td>\n",
       "    </tr>\n",
       "    <tr>\n",
       "      <th>2012-10-04</th>\n",
       "      <td>1708.0</td>\n",
       "      <td>1767.0</td>\n",
       "      <td>3475.0</td>\n",
       "    </tr>\n",
       "    <tr>\n",
       "      <th>2012-10-05</th>\n",
       "      <td>1558.0</td>\n",
       "      <td>1590.0</td>\n",
       "      <td>3148.0</td>\n",
       "    </tr>\n",
       "    <tr>\n",
       "      <th>2012-10-06</th>\n",
       "      <td>1080.0</td>\n",
       "      <td>926.0</td>\n",
       "      <td>2006.0</td>\n",
       "    </tr>\n",
       "    <tr>\n",
       "      <th>2012-10-07</th>\n",
       "      <td>1191.0</td>\n",
       "      <td>951.0</td>\n",
       "      <td>2142.0</td>\n",
       "    </tr>\n",
       "    <tr>\n",
       "      <th>...</th>\n",
       "      <td>...</td>\n",
       "      <td>...</td>\n",
       "      <td>...</td>\n",
       "    </tr>\n",
       "    <tr>\n",
       "      <th>2019-09-26</th>\n",
       "      <td>1494.0</td>\n",
       "      <td>2636.0</td>\n",
       "      <td>4130.0</td>\n",
       "    </tr>\n",
       "    <tr>\n",
       "      <th>2019-09-27</th>\n",
       "      <td>1199.0</td>\n",
       "      <td>2214.0</td>\n",
       "      <td>3413.0</td>\n",
       "    </tr>\n",
       "    <tr>\n",
       "      <th>2019-09-28</th>\n",
       "      <td>848.0</td>\n",
       "      <td>1011.0</td>\n",
       "      <td>1859.0</td>\n",
       "    </tr>\n",
       "    <tr>\n",
       "      <th>2019-09-29</th>\n",
       "      <td>606.0</td>\n",
       "      <td>818.0</td>\n",
       "      <td>1424.0</td>\n",
       "    </tr>\n",
       "    <tr>\n",
       "      <th>2019-09-30</th>\n",
       "      <td>1726.0</td>\n",
       "      <td>3280.0</td>\n",
       "      <td>5006.0</td>\n",
       "    </tr>\n",
       "  </tbody>\n",
       "</table>\n",
       "<p>2554 rows × 3 columns</p>\n",
       "</div>"
      ],
      "text/plain": [
       "              East    West   Total\n",
       "Date                              \n",
       "2012-10-03  1760.0  1761.0  3521.0\n",
       "2012-10-04  1708.0  1767.0  3475.0\n",
       "2012-10-05  1558.0  1590.0  3148.0\n",
       "2012-10-06  1080.0   926.0  2006.0\n",
       "2012-10-07  1191.0   951.0  2142.0\n",
       "...            ...     ...     ...\n",
       "2019-09-26  1494.0  2636.0  4130.0\n",
       "2019-09-27  1199.0  2214.0  3413.0\n",
       "2019-09-28   848.0  1011.0  1859.0\n",
       "2019-09-29   606.0   818.0  1424.0\n",
       "2019-09-30  1726.0  3280.0  5006.0\n",
       "\n",
       "[2554 rows x 3 columns]"
      ]
     },
     "execution_count": 198,
     "metadata": {},
     "output_type": "execute_result"
    }
   ],
   "source": [
    "data.resample('D').sum()"
   ]
  },
  {
   "cell_type": "code",
   "execution_count": 199,
   "metadata": {},
   "outputs": [
    {
     "data": {
      "text/html": [
       "<div>\n",
       "<style scoped>\n",
       "    .dataframe tbody tr th:only-of-type {\n",
       "        vertical-align: middle;\n",
       "    }\n",
       "\n",
       "    .dataframe tbody tr th {\n",
       "        vertical-align: top;\n",
       "    }\n",
       "\n",
       "    .dataframe thead th {\n",
       "        text-align: right;\n",
       "    }\n",
       "</style>\n",
       "<table border=\"1\" class=\"dataframe\">\n",
       "  <thead>\n",
       "    <tr style=\"text-align: right;\">\n",
       "      <th></th>\n",
       "      <th>East</th>\n",
       "      <th>West</th>\n",
       "      <th>Total</th>\n",
       "    </tr>\n",
       "    <tr>\n",
       "      <th>Date</th>\n",
       "      <th></th>\n",
       "      <th></th>\n",
       "      <th></th>\n",
       "    </tr>\n",
       "  </thead>\n",
       "  <tbody>\n",
       "    <tr>\n",
       "      <th>2012-10-03</th>\n",
       "      <td>73.333333</td>\n",
       "      <td>73.375000</td>\n",
       "      <td>146.708333</td>\n",
       "    </tr>\n",
       "    <tr>\n",
       "      <th>2012-10-04</th>\n",
       "      <td>71.166667</td>\n",
       "      <td>73.625000</td>\n",
       "      <td>144.791667</td>\n",
       "    </tr>\n",
       "    <tr>\n",
       "      <th>2012-10-05</th>\n",
       "      <td>64.916667</td>\n",
       "      <td>66.250000</td>\n",
       "      <td>131.166667</td>\n",
       "    </tr>\n",
       "    <tr>\n",
       "      <th>2012-10-06</th>\n",
       "      <td>45.000000</td>\n",
       "      <td>38.583333</td>\n",
       "      <td>83.583333</td>\n",
       "    </tr>\n",
       "    <tr>\n",
       "      <th>2012-10-07</th>\n",
       "      <td>49.625000</td>\n",
       "      <td>39.625000</td>\n",
       "      <td>89.250000</td>\n",
       "    </tr>\n",
       "    <tr>\n",
       "      <th>...</th>\n",
       "      <td>...</td>\n",
       "      <td>...</td>\n",
       "      <td>...</td>\n",
       "    </tr>\n",
       "    <tr>\n",
       "      <th>2019-09-26</th>\n",
       "      <td>62.250000</td>\n",
       "      <td>109.833333</td>\n",
       "      <td>172.083333</td>\n",
       "    </tr>\n",
       "    <tr>\n",
       "      <th>2019-09-27</th>\n",
       "      <td>49.958333</td>\n",
       "      <td>92.250000</td>\n",
       "      <td>142.208333</td>\n",
       "    </tr>\n",
       "    <tr>\n",
       "      <th>2019-09-28</th>\n",
       "      <td>35.333333</td>\n",
       "      <td>42.125000</td>\n",
       "      <td>77.458333</td>\n",
       "    </tr>\n",
       "    <tr>\n",
       "      <th>2019-09-29</th>\n",
       "      <td>25.250000</td>\n",
       "      <td>34.083333</td>\n",
       "      <td>59.333333</td>\n",
       "    </tr>\n",
       "    <tr>\n",
       "      <th>2019-09-30</th>\n",
       "      <td>71.916667</td>\n",
       "      <td>136.666667</td>\n",
       "      <td>208.583333</td>\n",
       "    </tr>\n",
       "  </tbody>\n",
       "</table>\n",
       "<p>2554 rows × 3 columns</p>\n",
       "</div>"
      ],
      "text/plain": [
       "                 East        West       Total\n",
       "Date                                         \n",
       "2012-10-03  73.333333   73.375000  146.708333\n",
       "2012-10-04  71.166667   73.625000  144.791667\n",
       "2012-10-05  64.916667   66.250000  131.166667\n",
       "2012-10-06  45.000000   38.583333   83.583333\n",
       "2012-10-07  49.625000   39.625000   89.250000\n",
       "...               ...         ...         ...\n",
       "2019-09-26  62.250000  109.833333  172.083333\n",
       "2019-09-27  49.958333   92.250000  142.208333\n",
       "2019-09-28  35.333333   42.125000   77.458333\n",
       "2019-09-29  25.250000   34.083333   59.333333\n",
       "2019-09-30  71.916667  136.666667  208.583333\n",
       "\n",
       "[2554 rows x 3 columns]"
      ]
     },
     "execution_count": 199,
     "metadata": {},
     "output_type": "execute_result"
    }
   ],
   "source": [
    "data.resample('D').mean() # average"
   ]
  },
  {
   "cell_type": "code",
   "execution_count": 201,
   "metadata": {
    "collapsed": false,
    "jupyter": {
     "outputs_hidden": false
    }
   },
   "outputs": [
    {
     "data": {
      "image/png": "[encoded data removed]",
      "text/plain": [
       "<Figure size 432x288 with 1 Axes>"
      ]
     },
     "metadata": {},
     "output_type": "display_data"
    }
   ],
   "source": [
    "daily = data.resample('D').sum()\n",
    "daily.rolling(30, center=True).sum().plot(style=[':', '--', '-'])\n",
    "# rolling : you want to roll in the 1 months (이동평균-30개씩 계산해라)\n",
    "plt.ylabel('mean hourly count');"
   ]
  },
  {
   "cell_type": "markdown",
   "metadata": {},
   "source": [
    "### Digging into the data\n",
    "\n",
    "While these smoothed data views are useful to get an idea of the general trend in the data, they hide much of the interesting structure.\n",
    "For example, we might want to look at the average traffic as a function of the time of day.\n",
    "We can do this using the GroupBy functionality discussed in the section Aggregation:"
   ]
  },
  {
   "cell_type": "code",
   "execution_count": 202,
   "metadata": {},
   "outputs": [
    {
     "data": {
      "text/html": [
       "<div>\n",
       "<style scoped>\n",
       "    .dataframe tbody tr th:only-of-type {\n",
       "        vertical-align: middle;\n",
       "    }\n",
       "\n",
       "    .dataframe tbody tr th {\n",
       "        vertical-align: top;\n",
       "    }\n",
       "\n",
       "    .dataframe thead th {\n",
       "        text-align: right;\n",
       "    }\n",
       "</style>\n",
       "<table border=\"1\" class=\"dataframe\">\n",
       "  <thead>\n",
       "    <tr style=\"text-align: right;\">\n",
       "      <th></th>\n",
       "      <th>East</th>\n",
       "      <th>West</th>\n",
       "      <th>Total</th>\n",
       "    </tr>\n",
       "  </thead>\n",
       "  <tbody>\n",
       "    <tr>\n",
       "      <th>00:00:00</th>\n",
       "      <td>5.054816</td>\n",
       "      <td>6.795223</td>\n",
       "      <td>11.850039</td>\n",
       "    </tr>\n",
       "    <tr>\n",
       "      <th>01:00:00</th>\n",
       "      <td>2.825764</td>\n",
       "      <td>3.447925</td>\n",
       "      <td>6.273688</td>\n",
       "    </tr>\n",
       "    <tr>\n",
       "      <th>02:00:00</th>\n",
       "      <td>2.003923</td>\n",
       "      <td>2.125539</td>\n",
       "      <td>4.129463</td>\n",
       "    </tr>\n",
       "    <tr>\n",
       "      <th>03:00:00</th>\n",
       "      <td>1.567737</td>\n",
       "      <td>1.469851</td>\n",
       "      <td>3.037588</td>\n",
       "    </tr>\n",
       "    <tr>\n",
       "      <th>04:00:00</th>\n",
       "      <td>3.551292</td>\n",
       "      <td>3.142913</td>\n",
       "      <td>6.694205</td>\n",
       "    </tr>\n",
       "    <tr>\n",
       "      <th>05:00:00</th>\n",
       "      <td>16.352388</td>\n",
       "      <td>10.074393</td>\n",
       "      <td>26.426782</td>\n",
       "    </tr>\n",
       "    <tr>\n",
       "      <th>06:00:00</th>\n",
       "      <td>56.413469</td>\n",
       "      <td>36.033673</td>\n",
       "      <td>92.447142</td>\n",
       "    </tr>\n",
       "    <tr>\n",
       "      <th>07:00:00</th>\n",
       "      <td>147.527408</td>\n",
       "      <td>85.638998</td>\n",
       "      <td>233.166406</td>\n",
       "    </tr>\n",
       "    <tr>\n",
       "      <th>08:00:00</th>\n",
       "      <td>198.488254</td>\n",
       "      <td>131.081441</td>\n",
       "      <td>329.569695</td>\n",
       "    </tr>\n",
       "    <tr>\n",
       "      <th>09:00:00</th>\n",
       "      <td>106.688210</td>\n",
       "      <td>85.665492</td>\n",
       "      <td>192.353702</td>\n",
       "    </tr>\n",
       "    <tr>\n",
       "      <th>10:00:00</th>\n",
       "      <td>53.618880</td>\n",
       "      <td>47.167646</td>\n",
       "      <td>100.786526</td>\n",
       "    </tr>\n",
       "    <tr>\n",
       "      <th>11:00:00</th>\n",
       "      <td>46.444967</td>\n",
       "      <td>42.235801</td>\n",
       "      <td>88.680768</td>\n",
       "    </tr>\n",
       "    <tr>\n",
       "      <th>12:00:00</th>\n",
       "      <td>48.132002</td>\n",
       "      <td>45.685076</td>\n",
       "      <td>93.817078</td>\n",
       "    </tr>\n",
       "    <tr>\n",
       "      <th>13:00:00</th>\n",
       "      <td>50.407596</td>\n",
       "      <td>49.654268</td>\n",
       "      <td>100.061864</td>\n",
       "    </tr>\n",
       "    <tr>\n",
       "      <th>14:00:00</th>\n",
       "      <td>52.367267</td>\n",
       "      <td>56.210258</td>\n",
       "      <td>108.577525</td>\n",
       "    </tr>\n",
       "    <tr>\n",
       "      <th>15:00:00</th>\n",
       "      <td>61.866484</td>\n",
       "      <td>76.589272</td>\n",
       "      <td>138.455756</td>\n",
       "    </tr>\n",
       "    <tr>\n",
       "      <th>16:00:00</th>\n",
       "      <td>83.598277</td>\n",
       "      <td>147.673062</td>\n",
       "      <td>231.271339</td>\n",
       "    </tr>\n",
       "    <tr>\n",
       "      <th>17:00:00</th>\n",
       "      <td>114.570869</td>\n",
       "      <td>279.942835</td>\n",
       "      <td>394.513704</td>\n",
       "    </tr>\n",
       "    <tr>\n",
       "      <th>18:00:00</th>\n",
       "      <td>91.609632</td>\n",
       "      <td>178.035239</td>\n",
       "      <td>269.644871</td>\n",
       "    </tr>\n",
       "    <tr>\n",
       "      <th>19:00:00</th>\n",
       "      <td>50.561081</td>\n",
       "      <td>82.050901</td>\n",
       "      <td>132.611981</td>\n",
       "    </tr>\n",
       "    <tr>\n",
       "      <th>20:00:00</th>\n",
       "      <td>31.303446</td>\n",
       "      <td>45.308144</td>\n",
       "      <td>76.611590</td>\n",
       "    </tr>\n",
       "    <tr>\n",
       "      <th>21:00:00</th>\n",
       "      <td>21.606108</td>\n",
       "      <td>27.526233</td>\n",
       "      <td>49.132341</td>\n",
       "    </tr>\n",
       "    <tr>\n",
       "      <th>22:00:00</th>\n",
       "      <td>14.025842</td>\n",
       "      <td>18.394675</td>\n",
       "      <td>32.420517</td>\n",
       "    </tr>\n",
       "    <tr>\n",
       "      <th>23:00:00</th>\n",
       "      <td>8.806578</td>\n",
       "      <td>12.602193</td>\n",
       "      <td>21.408771</td>\n",
       "    </tr>\n",
       "  </tbody>\n",
       "</table>\n",
       "</div>"
      ],
      "text/plain": [
       "                East        West       Total\n",
       "00:00:00    5.054816    6.795223   11.850039\n",
       "01:00:00    2.825764    3.447925    6.273688\n",
       "02:00:00    2.003923    2.125539    4.129463\n",
       "03:00:00    1.567737    1.469851    3.037588\n",
       "04:00:00    3.551292    3.142913    6.694205\n",
       "05:00:00   16.352388   10.074393   26.426782\n",
       "06:00:00   56.413469   36.033673   92.447142\n",
       "07:00:00  147.527408   85.638998  233.166406\n",
       "08:00:00  198.488254  131.081441  329.569695\n",
       "09:00:00  106.688210   85.665492  192.353702\n",
       "10:00:00   53.618880   47.167646  100.786526\n",
       "11:00:00   46.444967   42.235801   88.680768\n",
       "12:00:00   48.132002   45.685076   93.817078\n",
       "13:00:00   50.407596   49.654268  100.061864\n",
       "14:00:00   52.367267   56.210258  108.577525\n",
       "15:00:00   61.866484   76.589272  138.455756\n",
       "16:00:00   83.598277  147.673062  231.271339\n",
       "17:00:00  114.570869  279.942835  394.513704\n",
       "18:00:00   91.609632  178.035239  269.644871\n",
       "19:00:00   50.561081   82.050901  132.611981\n",
       "20:00:00   31.303446   45.308144   76.611590\n",
       "21:00:00   21.606108   27.526233   49.132341\n",
       "22:00:00   14.025842   18.394675   32.420517\n",
       "23:00:00    8.806578   12.602193   21.408771"
      ]
     },
     "execution_count": 202,
     "metadata": {},
     "output_type": "execute_result"
    }
   ],
   "source": [
    "data.groupby(data.index.time).mean()"
   ]
  },
  {
   "cell_type": "code",
   "execution_count": 203,
   "metadata": {},
   "outputs": [
    {
     "data": {
      "text/html": [
       "<div>\n",
       "<style scoped>\n",
       "    .dataframe tbody tr th:only-of-type {\n",
       "        vertical-align: middle;\n",
       "    }\n",
       "\n",
       "    .dataframe tbody tr th {\n",
       "        vertical-align: top;\n",
       "    }\n",
       "\n",
       "    .dataframe thead th {\n",
       "        text-align: right;\n",
       "    }\n",
       "</style>\n",
       "<table border=\"1\" class=\"dataframe\">\n",
       "  <thead>\n",
       "    <tr style=\"text-align: right;\">\n",
       "      <th></th>\n",
       "      <th>East</th>\n",
       "      <th>West</th>\n",
       "      <th>Total</th>\n",
       "    </tr>\n",
       "    <tr>\n",
       "      <th>Date</th>\n",
       "      <th></th>\n",
       "      <th></th>\n",
       "      <th></th>\n",
       "    </tr>\n",
       "  </thead>\n",
       "  <tbody>\n",
       "    <tr>\n",
       "      <th>1</th>\n",
       "      <td>52.802209</td>\n",
       "      <td>60.824799</td>\n",
       "      <td>113.627008</td>\n",
       "    </tr>\n",
       "    <tr>\n",
       "      <th>2</th>\n",
       "      <td>52.996486</td>\n",
       "      <td>60.328815</td>\n",
       "      <td>113.325301</td>\n",
       "    </tr>\n",
       "    <tr>\n",
       "      <th>3</th>\n",
       "      <td>54.057540</td>\n",
       "      <td>61.489087</td>\n",
       "      <td>115.546627</td>\n",
       "    </tr>\n",
       "    <tr>\n",
       "      <th>4</th>\n",
       "      <td>54.570437</td>\n",
       "      <td>61.227183</td>\n",
       "      <td>115.797619</td>\n",
       "    </tr>\n",
       "    <tr>\n",
       "      <th>5</th>\n",
       "      <td>52.418155</td>\n",
       "      <td>60.730655</td>\n",
       "      <td>113.148810</td>\n",
       "    </tr>\n",
       "    <tr>\n",
       "      <th>6</th>\n",
       "      <td>55.815972</td>\n",
       "      <td>63.654266</td>\n",
       "      <td>119.470238</td>\n",
       "    </tr>\n",
       "    <tr>\n",
       "      <th>7</th>\n",
       "      <td>54.406250</td>\n",
       "      <td>61.864583</td>\n",
       "      <td>116.270833</td>\n",
       "    </tr>\n",
       "    <tr>\n",
       "      <th>8</th>\n",
       "      <td>54.536476</td>\n",
       "      <td>61.817370</td>\n",
       "      <td>116.353846</td>\n",
       "    </tr>\n",
       "    <tr>\n",
       "      <th>9</th>\n",
       "      <td>54.321092</td>\n",
       "      <td>63.720099</td>\n",
       "      <td>118.041191</td>\n",
       "    </tr>\n",
       "    <tr>\n",
       "      <th>10</th>\n",
       "      <td>53.683532</td>\n",
       "      <td>63.559524</td>\n",
       "      <td>117.243056</td>\n",
       "    </tr>\n",
       "    <tr>\n",
       "      <th>11</th>\n",
       "      <td>54.079404</td>\n",
       "      <td>64.375682</td>\n",
       "      <td>118.455087</td>\n",
       "    </tr>\n",
       "    <tr>\n",
       "      <th>12</th>\n",
       "      <td>54.298759</td>\n",
       "      <td>63.800496</td>\n",
       "      <td>118.099256</td>\n",
       "    </tr>\n",
       "    <tr>\n",
       "      <th>13</th>\n",
       "      <td>51.878908</td>\n",
       "      <td>60.556824</td>\n",
       "      <td>112.435732</td>\n",
       "    </tr>\n",
       "    <tr>\n",
       "      <th>14</th>\n",
       "      <td>52.647468</td>\n",
       "      <td>60.637041</td>\n",
       "      <td>113.284508</td>\n",
       "    </tr>\n",
       "    <tr>\n",
       "      <th>15</th>\n",
       "      <td>52.546627</td>\n",
       "      <td>60.711310</td>\n",
       "      <td>113.257937</td>\n",
       "    </tr>\n",
       "    <tr>\n",
       "      <th>16</th>\n",
       "      <td>54.136905</td>\n",
       "      <td>63.267361</td>\n",
       "      <td>117.404266</td>\n",
       "    </tr>\n",
       "    <tr>\n",
       "      <th>17</th>\n",
       "      <td>52.485615</td>\n",
       "      <td>61.079861</td>\n",
       "      <td>113.565476</td>\n",
       "    </tr>\n",
       "    <tr>\n",
       "      <th>18</th>\n",
       "      <td>53.326885</td>\n",
       "      <td>62.242063</td>\n",
       "      <td>115.568948</td>\n",
       "    </tr>\n",
       "    <tr>\n",
       "      <th>19</th>\n",
       "      <td>53.696925</td>\n",
       "      <td>63.169147</td>\n",
       "      <td>116.866071</td>\n",
       "    </tr>\n",
       "    <tr>\n",
       "      <th>20</th>\n",
       "      <td>51.770337</td>\n",
       "      <td>61.730159</td>\n",
       "      <td>113.500496</td>\n",
       "    </tr>\n",
       "    <tr>\n",
       "      <th>21</th>\n",
       "      <td>50.740318</td>\n",
       "      <td>58.659384</td>\n",
       "      <td>109.399702</td>\n",
       "    </tr>\n",
       "    <tr>\n",
       "      <th>22</th>\n",
       "      <td>51.073909</td>\n",
       "      <td>59.336806</td>\n",
       "      <td>110.410714</td>\n",
       "    </tr>\n",
       "    <tr>\n",
       "      <th>23</th>\n",
       "      <td>49.386409</td>\n",
       "      <td>57.636905</td>\n",
       "      <td>107.023313</td>\n",
       "    </tr>\n",
       "    <tr>\n",
       "      <th>24</th>\n",
       "      <td>50.896825</td>\n",
       "      <td>58.911706</td>\n",
       "      <td>109.808532</td>\n",
       "    </tr>\n",
       "    <tr>\n",
       "      <th>25</th>\n",
       "      <td>51.205357</td>\n",
       "      <td>59.406746</td>\n",
       "      <td>110.612103</td>\n",
       "    </tr>\n",
       "    <tr>\n",
       "      <th>26</th>\n",
       "      <td>52.572421</td>\n",
       "      <td>61.317956</td>\n",
       "      <td>113.890377</td>\n",
       "    </tr>\n",
       "    <tr>\n",
       "      <th>27</th>\n",
       "      <td>50.058036</td>\n",
       "      <td>58.865079</td>\n",
       "      <td>108.923115</td>\n",
       "    </tr>\n",
       "    <tr>\n",
       "      <th>28</th>\n",
       "      <td>51.176091</td>\n",
       "      <td>59.574901</td>\n",
       "      <td>110.750992</td>\n",
       "    </tr>\n",
       "    <tr>\n",
       "      <th>29</th>\n",
       "      <td>53.422009</td>\n",
       "      <td>62.661859</td>\n",
       "      <td>116.083868</td>\n",
       "    </tr>\n",
       "    <tr>\n",
       "      <th>30</th>\n",
       "      <td>55.983766</td>\n",
       "      <td>65.631494</td>\n",
       "      <td>121.615260</td>\n",
       "    </tr>\n",
       "    <tr>\n",
       "      <th>31</th>\n",
       "      <td>53.147959</td>\n",
       "      <td>63.111395</td>\n",
       "      <td>116.259354</td>\n",
       "    </tr>\n",
       "  </tbody>\n",
       "</table>\n",
       "</div>"
      ],
      "text/plain": [
       "           East       West       Total\n",
       "Date                                  \n",
       "1     52.802209  60.824799  113.627008\n",
       "2     52.996486  60.328815  113.325301\n",
       "3     54.057540  61.489087  115.546627\n",
       "4     54.570437  61.227183  115.797619\n",
       "5     52.418155  60.730655  113.148810\n",
       "6     55.815972  63.654266  119.470238\n",
       "7     54.406250  61.864583  116.270833\n",
       "8     54.536476  61.817370  116.353846\n",
       "9     54.321092  63.720099  118.041191\n",
       "10    53.683532  63.559524  117.243056\n",
       "11    54.079404  64.375682  118.455087\n",
       "12    54.298759  63.800496  118.099256\n",
       "13    51.878908  60.556824  112.435732\n",
       "14    52.647468  60.637041  113.284508\n",
       "15    52.546627  60.711310  113.257937\n",
       "16    54.136905  63.267361  117.404266\n",
       "17    52.485615  61.079861  113.565476\n",
       "18    53.326885  62.242063  115.568948\n",
       "19    53.696925  63.169147  116.866071\n",
       "20    51.770337  61.730159  113.500496\n",
       "21    50.740318  58.659384  109.399702\n",
       "22    51.073909  59.336806  110.410714\n",
       "23    49.386409  57.636905  107.023313\n",
       "24    50.896825  58.911706  109.808532\n",
       "25    51.205357  59.406746  110.612103\n",
       "26    52.572421  61.317956  113.890377\n",
       "27    50.058036  58.865079  108.923115\n",
       "28    51.176091  59.574901  110.750992\n",
       "29    53.422009  62.661859  116.083868\n",
       "30    55.983766  65.631494  121.615260\n",
       "31    53.147959  63.111395  116.259354"
      ]
     },
     "execution_count": 203,
     "metadata": {},
     "output_type": "execute_result"
    }
   ],
   "source": [
    "data.groupby(data.index.day).mean()"
   ]
  },
  {
   "cell_type": "code",
   "execution_count": 204,
   "metadata": {
    "collapsed": false,
    "jupyter": {
     "outputs_hidden": false
    }
   },
   "outputs": [
    {
     "data": {
      "image/png": "[encoded data removed]",
      "text/plain": [
       "<Figure size 432x288 with 1 Axes>"
      ]
     },
     "metadata": {},
     "output_type": "display_data"
    }
   ],
   "source": [
    "by_time = data.groupby(data.index.time).mean()\n",
    "hourly_ticks = 4 * 60 * 60 * np.arange(6)\n",
    "# 4 hours, 60 minutes, 60 seconds, put 6 range\n",
    "# hourly_ticks : separate aggregate for hours\n",
    "by_time.plot(xticks=hourly_ticks, style=[':', '--', '-']);"
   ]
  },
  {
   "cell_type": "markdown",
   "metadata": {},
   "source": [
    "The hourly traffic is a strongly bimodal distribution, with peaks around 8:00 in the morning and 5:00 in the evening.\n",
    "This is likely evidence of a strong component of commuter traffic crossing the bridge.\n",
    "This is further evidenced by the differences between the western sidewalk (generally used going toward downtown Seattle), which peaks more strongly in the morning, and the eastern sidewalk (generally used going away from downtown Seattle), which peaks more strongly in the evening.\n",
    "\n",
    "We also might be curious about how things change based on the day of the week. Again, we can do this with a simple groupby:"
   ]
  },
  {
   "cell_type": "code",
   "execution_count": 205,
   "metadata": {},
   "outputs": [
    {
     "data": {
      "text/html": [
       "<div>\n",
       "<style scoped>\n",
       "    .dataframe tbody tr th:only-of-type {\n",
       "        vertical-align: middle;\n",
       "    }\n",
       "\n",
       "    .dataframe tbody tr th {\n",
       "        vertical-align: top;\n",
       "    }\n",
       "\n",
       "    .dataframe thead th {\n",
       "        text-align: right;\n",
       "    }\n",
       "</style>\n",
       "<table border=\"1\" class=\"dataframe\">\n",
       "  <thead>\n",
       "    <tr style=\"text-align: right;\">\n",
       "      <th></th>\n",
       "      <th>East</th>\n",
       "      <th>West</th>\n",
       "      <th>Total</th>\n",
       "    </tr>\n",
       "    <tr>\n",
       "      <th>Date</th>\n",
       "      <th></th>\n",
       "      <th></th>\n",
       "      <th></th>\n",
       "    </tr>\n",
       "  </thead>\n",
       "  <tbody>\n",
       "    <tr>\n",
       "      <th>0</th>\n",
       "      <td>60.330251</td>\n",
       "      <td>73.444064</td>\n",
       "      <td>133.774315</td>\n",
       "    </tr>\n",
       "    <tr>\n",
       "      <th>1</th>\n",
       "      <td>64.858370</td>\n",
       "      <td>78.187199</td>\n",
       "      <td>143.045569</td>\n",
       "    </tr>\n",
       "    <tr>\n",
       "      <th>2</th>\n",
       "      <td>64.293493</td>\n",
       "      <td>77.515639</td>\n",
       "      <td>141.809132</td>\n",
       "    </tr>\n",
       "    <tr>\n",
       "      <th>3</th>\n",
       "      <td>61.463699</td>\n",
       "      <td>73.250342</td>\n",
       "      <td>134.714041</td>\n",
       "    </tr>\n",
       "    <tr>\n",
       "      <th>4</th>\n",
       "      <td>55.307719</td>\n",
       "      <td>66.122859</td>\n",
       "      <td>121.430578</td>\n",
       "    </tr>\n",
       "    <tr>\n",
       "      <th>5</th>\n",
       "      <td>32.577055</td>\n",
       "      <td>31.839498</td>\n",
       "      <td>64.416553</td>\n",
       "    </tr>\n",
       "    <tr>\n",
       "      <th>6</th>\n",
       "      <td>31.456768</td>\n",
       "      <td>29.787207</td>\n",
       "      <td>61.243975</td>\n",
       "    </tr>\n",
       "  </tbody>\n",
       "</table>\n",
       "</div>"
      ],
      "text/plain": [
       "           East       West       Total\n",
       "Date                                  \n",
       "0     60.330251  73.444064  133.774315\n",
       "1     64.858370  78.187199  143.045569\n",
       "2     64.293493  77.515639  141.809132\n",
       "3     61.463699  73.250342  134.714041\n",
       "4     55.307719  66.122859  121.430578\n",
       "5     32.577055  31.839498   64.416553\n",
       "6     31.456768  29.787207   61.243975"
      ]
     },
     "execution_count": 205,
     "metadata": {},
     "output_type": "execute_result"
    }
   ],
   "source": [
    "data.groupby(data.index.dayofweek).mean()"
   ]
  },
  {
   "cell_type": "code",
   "execution_count": 206,
   "metadata": {
    "collapsed": false,
    "jupyter": {
     "outputs_hidden": false
    }
   },
   "outputs": [
    {
     "data": {
      "image/png": "[encoded data removed]",
      "text/plain": [
       "<Figure size 432x288 with 1 Axes>"
      ]
     },
     "metadata": {},
     "output_type": "display_data"
    }
   ],
   "source": [
    "by_weekday = data.groupby(data.index.dayofweek).mean()\n",
    "by_weekday.index = ['Mon', 'Tues', 'Wed', 'Thurs', 'Fri', 'Sat', 'Sun']\n",
    "by_weekday.plot(style=[':', '--', '-']);"
   ]
  },
  {
   "cell_type": "markdown",
   "metadata": {},
   "source": [
    "Sun, Sat는 자전거 많이 타지 않음"
   ]
  },
  {
   "cell_type": "markdown",
   "metadata": {},
   "source": [
    "This shows a strong distinction between weekday and weekend totals, with around twice as many average riders crossing the bridge on Monday through Friday than on Saturday and Sunday.\n",
    "\n",
    "With this in mind, let's do a compound GroupBy and look at the hourly trend on weekdays versus weekends.\n",
    "We'll start by grouping by both a flag marking the weekend, and the time of day:"
   ]
  },
  {
   "cell_type": "code",
   "execution_count": 208,
   "metadata": {
    "collapsed": false,
    "jupyter": {
     "outputs_hidden": false
    }
   },
   "outputs": [],
   "source": [
    "weekend = np.where(data.index.weekday < 5, 'Weekday', 'Weekend')\n",
    "by_time = data.groupby([weekend, data.index.time]).mean()\n",
    "# weekday 시작은 0 부터 ~ ( 0 : Mon )\n",
    "# where ~ : condition\n",
    "# if it is true = Weekday, else 'Weekend'"
   ]
  },
  {
   "cell_type": "code",
   "execution_count": 209,
   "metadata": {},
   "outputs": [
    {
     "data": {
      "text/html": [
       "<div>\n",
       "<style scoped>\n",
       "    .dataframe tbody tr th:only-of-type {\n",
       "        vertical-align: middle;\n",
       "    }\n",
       "\n",
       "    .dataframe tbody tr th {\n",
       "        vertical-align: top;\n",
       "    }\n",
       "\n",
       "    .dataframe thead th {\n",
       "        text-align: right;\n",
       "    }\n",
       "</style>\n",
       "<table border=\"1\" class=\"dataframe\">\n",
       "  <thead>\n",
       "    <tr style=\"text-align: right;\">\n",
       "      <th></th>\n",
       "      <th></th>\n",
       "      <th>East</th>\n",
       "      <th>West</th>\n",
       "      <th>Total</th>\n",
       "    </tr>\n",
       "  </thead>\n",
       "  <tbody>\n",
       "    <tr>\n",
       "      <th rowspan=\"5\" valign=\"top\">Weekday</th>\n",
       "      <th>00:00:00</th>\n",
       "      <td>4.289474</td>\n",
       "      <td>5.638158</td>\n",
       "      <td>9.927632</td>\n",
       "    </tr>\n",
       "    <tr>\n",
       "      <th>01:00:00</th>\n",
       "      <td>2.231360</td>\n",
       "      <td>2.682566</td>\n",
       "      <td>4.913925</td>\n",
       "    </tr>\n",
       "    <tr>\n",
       "      <th>02:00:00</th>\n",
       "      <td>1.633224</td>\n",
       "      <td>1.652412</td>\n",
       "      <td>3.285636</td>\n",
       "    </tr>\n",
       "    <tr>\n",
       "      <th>03:00:00</th>\n",
       "      <td>1.459430</td>\n",
       "      <td>1.341009</td>\n",
       "      <td>2.800439</td>\n",
       "    </tr>\n",
       "    <tr>\n",
       "      <th>04:00:00</th>\n",
       "      <td>4.304276</td>\n",
       "      <td>3.456140</td>\n",
       "      <td>7.760417</td>\n",
       "    </tr>\n",
       "  </tbody>\n",
       "</table>\n",
       "</div>"
      ],
      "text/plain": [
       "                      East      West     Total\n",
       "Weekday 00:00:00  4.289474  5.638158  9.927632\n",
       "        01:00:00  2.231360  2.682566  4.913925\n",
       "        02:00:00  1.633224  1.652412  3.285636\n",
       "        03:00:00  1.459430  1.341009  2.800439\n",
       "        04:00:00  4.304276  3.456140  7.760417"
      ]
     },
     "execution_count": 209,
     "metadata": {},
     "output_type": "execute_result"
    }
   ],
   "source": [
    "by_time.head()\n",
    "# ax[0] : Weekday / ax[1] : Weekend"
   ]
  },
  {
   "cell_type": "markdown",
   "metadata": {},
   "source": [
    "Now we'll use some of the Matplotlib tools (using subplots) to plot two panels side by side:"
   ]
  },
  {
   "cell_type": "code",
   "execution_count": 213,
   "metadata": {
    "collapsed": false,
    "jupyter": {
     "outputs_hidden": false
    }
   },
   "outputs": [
    {
     "data": {
      "image/png": "[encoded data removed]",
      "text/plain": [
       "<Figure size 1008x360 with 2 Axes>"
      ]
     },
     "metadata": {},
     "output_type": "display_data"
    }
   ],
   "source": [
    "import matplotlib.pyplot as plt\n",
    "fig, ax = plt.subplots(1, 2, figsize=(14, 5)) # 1 row, 2 columns(그래프 전체가 1열 2행 안에 들어있음) / 가로 14 세로 5\n",
    "# ix : index , ax : data that you want to use\n",
    "by_time.loc['Weekday'].plot(ax=ax[0], title='Weekdays',\n",
    "                           xticks=hourly_ticks, style=[':', '--', '-']) #the first graph for weekdays\n",
    "by_time.loc['Weekend'].plot(ax=ax[1], title='Weekends',\n",
    "                           xticks=hourly_ticks, style=[':', '--', '-']); #the second graph for weekdends"
   ]
  },
  {
   "cell_type": "markdown",
   "metadata": {},
   "source": [
    "The result is very interesting: we see a bimodal commute pattern during the work week, and a unimodal recreational pattern during the weekends.\n",
    "It would be interesting to dig through this data in more detail, and examine the effect of weather, temperature, time of year, and other factors on people's commuting patterns; for further discussion, see my blog post [\"Is Seattle Really Seeing an Uptick In Cycling?\"](https://jakevdp.github.io/blog/2014/06/10/is-seattle-really-seeing-an-uptick-in-cycling/), which uses a subset of this data."
   ]
  },
  {
   "cell_type": "markdown",
   "metadata": {},
   "source": [
    "## Resampling & Rolling Windows (Self Study)\n",
    "\n",
    "The ability to use dates and times as indices to intuitively organize and access data is an important piece of the Pandas time series tools.\n",
    "The benefits of indexed data in general (automatic alignment during operations, intuitive data slicing and access, etc.) still apply, and Pandas provides several additional time series-specific operations.\n",
    "\n",
    "We will take a look at a few of those here, using some stock price data as an example.\n",
    "Because Pandas was developed largely in a finance context, it includes some very specific tools for financial data.\n",
    "For example, the accompanying ``pandas-datareader`` package (installable via ``conda install pandas-datareader`` or ``pip install pandas-datareader``), knows how to import financial data from a number of available sources, including Yahoo finance, Google Finance, and others.\n",
    "Here we will load Google's closing price history:"
   ]
  },
  {
   "cell_type": "code",
   "execution_count": 214,
   "metadata": {},
   "outputs": [
    {
     "name": "stdout",
     "output_type": "stream",
     "text": [
      "Requirement already satisfied: pandas-datareader in c:\\users\\82108\\anaconda3\\lib\\site-packages (0.9.0)\n",
      "Requirement already satisfied: pandas>=0.23 in c:\\users\\82108\\anaconda3\\lib\\site-packages (from pandas-datareader) (1.0.5)\n",
      "Requirement already satisfied: lxml in c:\\users\\82108\\anaconda3\\lib\\site-packages (from pandas-datareader) (4.5.2)\n",
      "Requirement already satisfied: requests>=2.19.0 in c:\\users\\82108\\anaconda3\\lib\\site-packages (from pandas-datareader) (2.24.0)\n",
      "Requirement already satisfied: python-dateutil>=2.6.1 in c:\\users\\82108\\anaconda3\\lib\\site-packages (from pandas>=0.23->pandas-datareader) (2.8.1)\n",
      "Requirement already satisfied: numpy>=1.13.3 in c:\\users\\82108\\anaconda3\\lib\\site-packages (from pandas>=0.23->pandas-datareader) (1.18.5)\n",
      "Requirement already satisfied: pytz>=2017.2 in c:\\users\\82108\\anaconda3\\lib\\site-packages (from pandas>=0.23->pandas-datareader) (2020.1)\n",
      "Requirement already satisfied: idna<3,>=2.5 in c:\\users\\82108\\anaconda3\\lib\\site-packages (from requests>=2.19.0->pandas-datareader) (2.10)\n",
      "Requirement already satisfied: urllib3!=1.25.0,!=1.25.1,<1.26,>=1.21.1 in c:\\users\\82108\\anaconda3\\lib\\site-packages (from requests>=2.19.0->pandas-datareader) (1.25.9)\n",
      "Requirement already satisfied: chardet<4,>=3.0.2 in c:\\users\\82108\\anaconda3\\lib\\site-packages (from requests>=2.19.0->pandas-datareader) (3.0.4)\n",
      "Requirement already satisfied: certifi>=2017.4.17 in c:\\users\\82108\\anaconda3\\lib\\site-packages (from requests>=2.19.0->pandas-datareader) (2020.6.20)\n",
      "Requirement already satisfied: six>=1.5 in c:\\users\\82108\\anaconda3\\lib\\site-packages (from python-dateutil>=2.6.1->pandas>=0.23->pandas-datareader) (1.15.0)\n"
     ]
    }
   ],
   "source": [
    "!pip install pandas-datareader\n",
    "# pip install : you install package in your laptop(!꼭 필요함)"
   ]
  },
  {
   "cell_type": "code",
   "execution_count": 215,
   "metadata": {
    "collapsed": false,
    "jupyter": {
     "outputs_hidden": false
    }
   },
   "outputs": [
    {
     "data": {
      "text/html": [
       "<div>\n",
       "<style scoped>\n",
       "    .dataframe tbody tr th:only-of-type {\n",
       "        vertical-align: middle;\n",
       "    }\n",
       "\n",
       "    .dataframe tbody tr th {\n",
       "        vertical-align: top;\n",
       "    }\n",
       "\n",
       "    .dataframe thead th {\n",
       "        text-align: right;\n",
       "    }\n",
       "</style>\n",
       "<table border=\"1\" class=\"dataframe\">\n",
       "  <thead>\n",
       "    <tr style=\"text-align: right;\">\n",
       "      <th></th>\n",
       "      <th>High</th>\n",
       "      <th>Low</th>\n",
       "      <th>Open</th>\n",
       "      <th>Close</th>\n",
       "      <th>Volume</th>\n",
       "      <th>Adj Close</th>\n",
       "    </tr>\n",
       "    <tr>\n",
       "      <th>Date</th>\n",
       "      <th></th>\n",
       "      <th></th>\n",
       "      <th></th>\n",
       "      <th></th>\n",
       "      <th></th>\n",
       "      <th></th>\n",
       "    </tr>\n",
       "  </thead>\n",
       "  <tbody>\n",
       "    <tr>\n",
       "      <th>2004-08-19</th>\n",
       "      <td>51.835709</td>\n",
       "      <td>47.800831</td>\n",
       "      <td>49.813286</td>\n",
       "      <td>49.982655</td>\n",
       "      <td>44871300.0</td>\n",
       "      <td>49.982655</td>\n",
       "    </tr>\n",
       "    <tr>\n",
       "      <th>2004-08-20</th>\n",
       "      <td>54.336334</td>\n",
       "      <td>50.062355</td>\n",
       "      <td>50.316402</td>\n",
       "      <td>53.952770</td>\n",
       "      <td>22942800.0</td>\n",
       "      <td>53.952770</td>\n",
       "    </tr>\n",
       "    <tr>\n",
       "      <th>2004-08-23</th>\n",
       "      <td>56.528118</td>\n",
       "      <td>54.321388</td>\n",
       "      <td>55.168217</td>\n",
       "      <td>54.495735</td>\n",
       "      <td>18342800.0</td>\n",
       "      <td>54.495735</td>\n",
       "    </tr>\n",
       "    <tr>\n",
       "      <th>2004-08-24</th>\n",
       "      <td>55.591629</td>\n",
       "      <td>51.591621</td>\n",
       "      <td>55.412300</td>\n",
       "      <td>52.239193</td>\n",
       "      <td>15319700.0</td>\n",
       "      <td>52.239193</td>\n",
       "    </tr>\n",
       "    <tr>\n",
       "      <th>2004-08-25</th>\n",
       "      <td>53.798351</td>\n",
       "      <td>51.746044</td>\n",
       "      <td>52.284027</td>\n",
       "      <td>52.802086</td>\n",
       "      <td>9232100.0</td>\n",
       "      <td>52.802086</td>\n",
       "    </tr>\n",
       "  </tbody>\n",
       "</table>\n",
       "</div>"
      ],
      "text/plain": [
       "                 High        Low       Open      Close      Volume  Adj Close\n",
       "Date                                                                         \n",
       "2004-08-19  51.835709  47.800831  49.813286  49.982655  44871300.0  49.982655\n",
       "2004-08-20  54.336334  50.062355  50.316402  53.952770  22942800.0  53.952770\n",
       "2004-08-23  56.528118  54.321388  55.168217  54.495735  18342800.0  54.495735\n",
       "2004-08-24  55.591629  51.591621  55.412300  52.239193  15319700.0  52.239193\n",
       "2004-08-25  53.798351  51.746044  52.284027  52.802086   9232100.0  52.802086"
      ]
     },
     "execution_count": 215,
     "metadata": {},
     "output_type": "execute_result"
    }
   ],
   "source": [
    "from pandas_datareader import data\n",
    "\n",
    "goog = data.DataReader('GOOG', start='2004', end='2016',\n",
    "                       data_source='yahoo')\n",
    "# data source from yahoo and it is about google finance\n",
    "goog.head()\n",
    "# High : highest price on that day\n",
    "# Low : Lowest ptice on that day\n",
    "# Open : price in the opening time\n",
    "# Close : price in the closing time\n",
    "# volume : how many stocks that has been around in that day\n",
    "# adj close : just price after closing"
   ]
  },
  {
   "cell_type": "markdown",
   "metadata": {},
   "source": [
    "For simplicity, we'll use just the closing price:"
   ]
  },
  {
   "cell_type": "code",
   "execution_count": 216,
   "metadata": {},
   "outputs": [],
   "source": [
    "goog = goog['Close']"
   ]
  },
  {
   "cell_type": "markdown",
   "metadata": {},
   "source": [
    "We can visualize this using the ``plot()`` method:"
   ]
  },
  {
   "cell_type": "code",
   "execution_count": 217,
   "metadata": {
    "collapsed": false,
    "jupyter": {
     "outputs_hidden": false
    }
   },
   "outputs": [],
   "source": [
    "%matplotlib inline\n",
    "import matplotlib.pyplot as plt\n",
    "import seaborn; seaborn.set()"
   ]
  },
  {
   "cell_type": "code",
   "execution_count": 218,
   "metadata": {
    "collapsed": false,
    "jupyter": {
     "outputs_hidden": false
    }
   },
   "outputs": [
    {
     "data": {
      "image/png": "[encoded data removed]",
      "text/plain": [
       "<Figure size 432x288 with 1 Axes>"
      ]
     },
     "metadata": {},
     "output_type": "display_data"
    }
   ],
   "source": [
    "goog.plot();\n",
    "# ploting for the stocks price\n",
    "# Explain :\n",
    "# in 2009, the stock price was decreasing and it increases till the year of 2016"
   ]
  },
  {
   "cell_type": "markdown",
   "metadata": {},
   "source": [
    "### Resampling and converting frequencies\n",
    "\n",
    "One common need for time series data is resampling at a higher or lower frequency.\n",
    "This can be done using the ``resample()`` method, or the much simpler ``asfreq()`` method.\n",
    "The primary difference between the two is that ``resample()`` is fundamentally a *data aggregation*, while ``asfreq()`` is fundamentally a *data selection*.\n",
    "\n",
    "Taking a look at the Google closing price, let's compare what the two return when we down-sample the data.\n",
    "Here we will resample the data at the end of business year:"
   ]
  },
  {
   "cell_type": "code",
   "execution_count": 220,
   "metadata": {
    "collapsed": false,
    "jupyter": {
     "outputs_hidden": false
    }
   },
   "outputs": [
    {
     "data": {
      "image/png": "[encoded data removed]",
      "text/plain": [
       "<Figure size 432x288 with 1 Axes>"
      ]
     },
     "metadata": {},
     "output_type": "display_data"
    }
   ],
   "source": [
    "goog.plot(alpha=0.5, style='-') # alpha : transparency\n",
    "goog.resample('BA').mean().plot(style=':') # data for resample\n",
    "# BA : Business Annual (year) -annually\n",
    "goog.asfreq('BA').plot(style='--'); # frequency ( 365 - ...)\n",
    "# frequency(how many happens) for every year (as.freq)\n",
    "plt.legend(['input', 'resample', 'asfreq'],\n",
    "           loc='upper left');\n",
    "# .legend : 범례 설정\n",
    "# input : the data you plot ( blue color )"
   ]
  },
  {
   "cell_type": "markdown",
   "metadata": {},
   "source": [
    "Notice the difference: at each point, ``resample`` reports the *average of the previous year*, while ``asfreq`` reports the *value at the end of the year*."
   ]
  },
  {
   "cell_type": "markdown",
   "metadata": {},
   "source": [
    "For up-sampling, ``resample()`` and ``asfreq()`` are largely equivalent, though resample has many more options available.\n",
    "In this case, the default for both methods is to leave the up-sampled points empty, that is, filled with NA values.\n",
    "Just as with the ``pd.fillna()`` function discussed previously, ``asfreq()`` accepts a ``method`` argument to specify how values are imputed.\n",
    "Here, we will resample the business day data at a daily frequency (i.e., including weekends):"
   ]
  },
  {
   "cell_type": "code",
   "execution_count": 105,
   "metadata": {
    "collapsed": false,
    "jupyter": {
     "outputs_hidden": false
    }
   },
   "outputs": [
    {
     "data": {
      "image/png": "[encoded data removed]",
      "text/plain": [
       "<Figure size 432x288 with 2 Axes>"
      ]
     },
     "metadata": {},
     "output_type": "display_data"
    }
   ],
   "source": [
    "fig, ax = plt.subplots(2, sharex=True) # make 2 rows\n",
    "data = goog.iloc[:10] # i am going to use 10 data\n",
    "\n",
    "data.asfreq('D').plot(ax=ax[0], marker='o') # 'D' : Daily\n",
    "# the first graph (1st row)\n",
    "data.asfreq('D', method='bfill').plot(ax=ax[1], style='-o')\n",
    "# blank 있는 이유 : weekend 제외했기 때문(첫번째 그래프에서)\n",
    "data.asfreq('D', method='ffill').plot(ax=ax[1], style='--o')\n",
    "ax[1].legend([\"back-fill\", \"forward-fill\"]);\n",
    "# back-fill : missing value를 그 앞의 value로 채움\n",
    "# forward-fill : missing value를 그 뒤의 value로 채움"
   ]
  },
  {
   "cell_type": "markdown",
   "metadata": {},
   "source": [
    "The top panel is the default: non-business days are left as NA values and do not appear on the plot.\n",
    "The bottom panel shows the differences between two strategies for filling the gaps: forward-filling and backward-filling."
   ]
  },
  {
   "cell_type": "code",
   "execution_count": 54,
   "metadata": {},
   "outputs": [],
   "source": [
    "monte = pd.Series(['Park','Lee',\"Kim\"])"
   ]
  },
  {
   "cell_type": "code",
   "execution_count": 57,
   "metadata": {},
   "outputs": [
    {
     "data": {
      "text/plain": [
       "0    [Park]\n",
       "1     [Lee]\n",
       "2     [Kim]\n",
       "dtype: object"
      ]
     },
     "execution_count": 57,
     "metadata": {},
     "output_type": "execute_result"
    }
   ],
   "source": [
    "monte.str.split()"
   ]
  },
  {
   "cell_type": "code",
   "execution_count": 135,
   "metadata": {},
   "outputs": [
    {
     "data": {
      "text/plain": [
       "Timestamp('2015-07-04 00:00:00')"
      ]
     },
     "execution_count": 135,
     "metadata": {},
     "output_type": "execute_result"
    }
   ],
   "source": [
    "import pandas as pd\n",
    "date = pd.to_datetime(\"4th of July, 2015\")\n",
    "date"
   ]
  },
  {
   "cell_type": "markdown",
   "metadata": {},
   "source": [
    "여기서 두문제 나오니까 복습 철저히 하기 (time series에서)"
   ]
  }
 ],
 "metadata": {
  "kernelspec": {
   "display_name": "Python 3",
   "language": "python",
   "name": "python3"
  },
  "language_info": {
   "codemirror_mode": {
    "name": "ipython",
    "version": 3
   },
   "file_extension": ".py",
   "mimetype": "text/x-python",
   "name": "python",
   "nbconvert_exporter": "python",
   "pygments_lexer": "ipython3",
   "version": "3.8.3"
  }
 },
 "nbformat": 4,
 "nbformat_minor": 4
}
