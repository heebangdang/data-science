{
 "cells": [
  {
   "cell_type": "code",
   "execution_count": 1,
   "metadata": {},
   "outputs": [],
   "source": [
    "import matplotlib.pyplot as plt #import the matplotlib\n",
    "%matplotlib inline \n",
    "import numpy as np\n",
    "import pandas as pd"
   ]
  },
  {
   "cell_type": "code",
   "execution_count": 228,
   "metadata": {},
   "outputs": [],
   "source": [
    "data = pd.read_csv('data/PizzaResto.csv', sep = \",\")"
   ]
  },
  {
   "cell_type": "code",
   "execution_count": 207,
   "metadata": {},
   "outputs": [
    {
     "data": {
      "text/html": [
       "<div>\n",
       "<style scoped>\n",
       "    .dataframe tbody tr th:only-of-type {\n",
       "        vertical-align: middle;\n",
       "    }\n",
       "\n",
       "    .dataframe tbody tr th {\n",
       "        vertical-align: top;\n",
       "    }\n",
       "\n",
       "    .dataframe thead th {\n",
       "        text-align: right;\n",
       "    }\n",
       "</style>\n",
       "<table border=\"1\" class=\"dataframe\">\n",
       "  <thead>\n",
       "    <tr style=\"text-align: right;\">\n",
       "      <th></th>\n",
       "      <th>Rating</th>\n",
       "      <th>CostPerSlice</th>\n",
       "      <th>EmployeeNumber</th>\n",
       "      <th>HeatSource</th>\n",
       "      <th>BrickOven</th>\n",
       "      <th>Neighborhood</th>\n",
       "    </tr>\n",
       "  </thead>\n",
       "  <tbody>\n",
       "    <tr>\n",
       "      <th>0</th>\n",
       "      <td>0.03</td>\n",
       "      <td>1.75</td>\n",
       "      <td>2</td>\n",
       "      <td>Gas</td>\n",
       "      <td>False</td>\n",
       "      <td>LittleItaly</td>\n",
       "    </tr>\n",
       "    <tr>\n",
       "      <th>1</th>\n",
       "      <td>4.89</td>\n",
       "      <td>2.75</td>\n",
       "      <td>4</td>\n",
       "      <td>Coal</td>\n",
       "      <td>True</td>\n",
       "      <td>SoHo</td>\n",
       "    </tr>\n",
       "    <tr>\n",
       "      <th>2</th>\n",
       "      <td>4.73</td>\n",
       "      <td>4.00</td>\n",
       "      <td>5</td>\n",
       "      <td>Wood</td>\n",
       "      <td>True</td>\n",
       "      <td>LittleItaly</td>\n",
       "    </tr>\n",
       "    <tr>\n",
       "      <th>3</th>\n",
       "      <td>0.13</td>\n",
       "      <td>1.75</td>\n",
       "      <td>3</td>\n",
       "      <td>Gas</td>\n",
       "      <td>False</td>\n",
       "      <td>LittleItaly</td>\n",
       "    </tr>\n",
       "    <tr>\n",
       "      <th>4</th>\n",
       "      <td>2.45</td>\n",
       "      <td>2.25</td>\n",
       "      <td>3</td>\n",
       "      <td>Wood</td>\n",
       "      <td>True</td>\n",
       "      <td>Chinatown</td>\n",
       "    </tr>\n",
       "    <tr>\n",
       "      <th>...</th>\n",
       "      <td>...</td>\n",
       "      <td>...</td>\n",
       "      <td>...</td>\n",
       "      <td>...</td>\n",
       "      <td>...</td>\n",
       "      <td>...</td>\n",
       "    </tr>\n",
       "    <tr>\n",
       "      <th>195</th>\n",
       "      <td>0.88</td>\n",
       "      <td>2.25</td>\n",
       "      <td>3</td>\n",
       "      <td>Wood</td>\n",
       "      <td>True</td>\n",
       "      <td>Chinatown</td>\n",
       "    </tr>\n",
       "    <tr>\n",
       "      <th>196</th>\n",
       "      <td>4.27</td>\n",
       "      <td>1.75</td>\n",
       "      <td>2</td>\n",
       "      <td>Gas</td>\n",
       "      <td>False</td>\n",
       "      <td>EVillage</td>\n",
       "    </tr>\n",
       "    <tr>\n",
       "      <th>197</th>\n",
       "      <td>3.56</td>\n",
       "      <td>1.25</td>\n",
       "      <td>3</td>\n",
       "      <td>Coal</td>\n",
       "      <td>True</td>\n",
       "      <td>LES</td>\n",
       "    </tr>\n",
       "    <tr>\n",
       "      <th>198</th>\n",
       "      <td>0.67</td>\n",
       "      <td>3.00</td>\n",
       "      <td>3</td>\n",
       "      <td>Gas</td>\n",
       "      <td>False</td>\n",
       "      <td>LittleItaly</td>\n",
       "    </tr>\n",
       "    <tr>\n",
       "      <th>199</th>\n",
       "      <td>4.95</td>\n",
       "      <td>3.25</td>\n",
       "      <td>4</td>\n",
       "      <td>Wood</td>\n",
       "      <td>True</td>\n",
       "      <td>SoHo</td>\n",
       "    </tr>\n",
       "  </tbody>\n",
       "</table>\n",
       "<p>200 rows × 6 columns</p>\n",
       "</div>"
      ],
      "text/plain": [
       "     Rating  CostPerSlice  EmployeeNumber HeatSource  BrickOven Neighborhood\n",
       "0      0.03          1.75               2        Gas      False  LittleItaly\n",
       "1      4.89          2.75               4       Coal       True         SoHo\n",
       "2      4.73          4.00               5       Wood       True  LittleItaly\n",
       "3      0.13          1.75               3        Gas      False  LittleItaly\n",
       "4      2.45          2.25               3       Wood       True    Chinatown\n",
       "..      ...           ...             ...        ...        ...          ...\n",
       "195    0.88          2.25               3       Wood       True    Chinatown\n",
       "196    4.27          1.75               2        Gas      False     EVillage\n",
       "197    3.56          1.25               3       Coal       True          LES\n",
       "198    0.67          3.00               3        Gas      False  LittleItaly\n",
       "199    4.95          3.25               4       Wood       True         SoHo\n",
       "\n",
       "[200 rows x 6 columns]"
      ]
     },
     "execution_count": 207,
     "metadata": {},
     "output_type": "execute_result"
    }
   ],
   "source": [
    "data"
   ]
  },
  {
   "cell_type": "markdown",
   "metadata": {},
   "source": [
    "1"
   ]
  },
  {
   "cell_type": "code",
   "execution_count": 54,
   "metadata": {},
   "outputs": [
    {
     "data": {
      "image/png": "[encoded data removed]",
      "text/plain": [
       "<Figure size 432x288 with 1 Axes>"
      ]
     },
     "metadata": {
      "needs_background": "light"
     },
     "output_type": "display_data"
    }
   ],
   "source": [
    "plt.scatter(data['Rating'], data['CostPerSlice']) \n",
    "plt.title(\"Rating vs CostPerSlice\")\n",
    "plt.xlabel(\"Rating\")\n",
    "plt.ylabel(\"CostPerSlice\")\n",
    "plt.show()"
   ]
  },
  {
   "cell_type": "code",
   "execution_count": 11,
   "metadata": {},
   "outputs": [],
   "source": [
    "# It is sparse data, so 'CostPerSlice' is not affect to 'Rating'"
   ]
  },
  {
   "cell_type": "code",
   "execution_count": 55,
   "metadata": {},
   "outputs": [
    {
     "data": {
      "image/png": "[encoded data removed]",
      "text/plain": [
       "<Figure size 432x288 with 1 Axes>"
      ]
     },
     "metadata": {
      "needs_background": "light"
     },
     "output_type": "display_data"
    }
   ],
   "source": [
    "plt.scatter(data['Rating'], data['EmployeeNumber']) \n",
    "plt.title(\"Rating vs EmployeeNumber\")\n",
    "plt.xlabel(\"Rating\")\n",
    "plt.ylabel(\"EmployeeNumber\")\n",
    "plt.show()"
   ]
  },
  {
   "cell_type": "code",
   "execution_count": 15,
   "metadata": {},
   "outputs": [],
   "source": [
    "# It is sparse too, so 'EmployeeNumber' is not affect to Raing"
   ]
  },
  {
   "cell_type": "markdown",
   "metadata": {},
   "source": [
    "2"
   ]
  },
  {
   "cell_type": "code",
   "execution_count": 56,
   "metadata": {},
   "outputs": [
    {
     "data": {
      "text/plain": [
       "3.2222999999999997"
      ]
     },
     "execution_count": 56,
     "metadata": {},
     "output_type": "execute_result"
    }
   ],
   "source": [
    "a = data['Rating'].mean()\n",
    "a"
   ]
  },
  {
   "cell_type": "code",
   "execution_count": 21,
   "metadata": {},
   "outputs": [],
   "source": [
    "# average of 'Rating' is 3.2, so it is no equals to 2.5"
   ]
  },
  {
   "cell_type": "code",
   "execution_count": 57,
   "metadata": {},
   "outputs": [
    {
     "data": {
      "text/plain": [
       "2.5845"
      ]
     },
     "execution_count": 57,
     "metadata": {},
     "output_type": "execute_result"
    }
   ],
   "source": [
    "b = data['CostPerSlice'].mean()\n",
    "b"
   ]
  },
  {
   "cell_type": "code",
   "execution_count": 23,
   "metadata": {},
   "outputs": [],
   "source": [
    "# average of 'CostPerSlice' is 2.5, so it is equals to 2.5"
   ]
  },
  {
   "cell_type": "markdown",
   "metadata": {},
   "source": [
    "3"
   ]
  },
  {
   "cell_type": "code",
   "execution_count": 58,
   "metadata": {},
   "outputs": [
    {
     "data": {
      "text/html": [
       "<div>\n",
       "<style scoped>\n",
       "    .dataframe tbody tr th:only-of-type {\n",
       "        vertical-align: middle;\n",
       "    }\n",
       "\n",
       "    .dataframe tbody tr th {\n",
       "        vertical-align: top;\n",
       "    }\n",
       "\n",
       "    .dataframe thead th {\n",
       "        text-align: right;\n",
       "    }\n",
       "</style>\n",
       "<table border=\"1\" class=\"dataframe\">\n",
       "  <thead>\n",
       "    <tr style=\"text-align: right;\">\n",
       "      <th></th>\n",
       "      <th>Rating</th>\n",
       "      <th>CostPerSlice</th>\n",
       "      <th>EmployeeNumber</th>\n",
       "      <th>BrickOven</th>\n",
       "    </tr>\n",
       "    <tr>\n",
       "      <th>Neighborhood</th>\n",
       "      <th></th>\n",
       "      <th></th>\n",
       "      <th></th>\n",
       "      <th></th>\n",
       "    </tr>\n",
       "  </thead>\n",
       "  <tbody>\n",
       "    <tr>\n",
       "      <th>Chinatown</th>\n",
       "      <td>0.841429</td>\n",
       "      <td>2.796429</td>\n",
       "      <td>3.500000</td>\n",
       "      <td>0.714286</td>\n",
       "    </tr>\n",
       "    <tr>\n",
       "      <th>EVillage</th>\n",
       "      <td>4.709792</td>\n",
       "      <td>2.614583</td>\n",
       "      <td>3.750000</td>\n",
       "      <td>0.270833</td>\n",
       "    </tr>\n",
       "    <tr>\n",
       "      <th>LES</th>\n",
       "      <td>2.840857</td>\n",
       "      <td>2.492857</td>\n",
       "      <td>3.314286</td>\n",
       "      <td>0.342857</td>\n",
       "    </tr>\n",
       "    <tr>\n",
       "      <th>LittleItaly</th>\n",
       "      <td>1.212558</td>\n",
       "      <td>2.465116</td>\n",
       "      <td>3.162791</td>\n",
       "      <td>0.348837</td>\n",
       "    </tr>\n",
       "    <tr>\n",
       "      <th>SoHo</th>\n",
       "      <td>4.250667</td>\n",
       "      <td>2.650000</td>\n",
       "      <td>3.550000</td>\n",
       "      <td>0.300000</td>\n",
       "    </tr>\n",
       "  </tbody>\n",
       "</table>\n",
       "</div>"
      ],
      "text/plain": [
       "                Rating  CostPerSlice  EmployeeNumber  BrickOven\n",
       "Neighborhood                                                   \n",
       "Chinatown     0.841429      2.796429        3.500000   0.714286\n",
       "EVillage      4.709792      2.614583        3.750000   0.270833\n",
       "LES           2.840857      2.492857        3.314286   0.342857\n",
       "LittleItaly   1.212558      2.465116        3.162791   0.348837\n",
       "SoHo          4.250667      2.650000        3.550000   0.300000"
      ]
     },
     "execution_count": 58,
     "metadata": {},
     "output_type": "execute_result"
    }
   ],
   "source": [
    "data.groupby(['Neighborhood']).aggregate('mean')"
   ]
  },
  {
   "cell_type": "code",
   "execution_count": 34,
   "metadata": {},
   "outputs": [],
   "source": [
    "# Evillage is high 'Rating' in Neighborhood"
   ]
  },
  {
   "cell_type": "code",
   "execution_count": 59,
   "metadata": {},
   "outputs": [
    {
     "data": {
      "text/html": [
       "<div>\n",
       "<style scoped>\n",
       "    .dataframe tbody tr th:only-of-type {\n",
       "        vertical-align: middle;\n",
       "    }\n",
       "\n",
       "    .dataframe tbody tr th {\n",
       "        vertical-align: top;\n",
       "    }\n",
       "\n",
       "    .dataframe thead th {\n",
       "        text-align: right;\n",
       "    }\n",
       "</style>\n",
       "<table border=\"1\" class=\"dataframe\">\n",
       "  <thead>\n",
       "    <tr style=\"text-align: right;\">\n",
       "      <th></th>\n",
       "      <th>Rating</th>\n",
       "      <th>CostPerSlice</th>\n",
       "      <th>EmployeeNumber</th>\n",
       "      <th>HeatSource</th>\n",
       "      <th>BrickOven</th>\n",
       "    </tr>\n",
       "    <tr>\n",
       "      <th>Neighborhood</th>\n",
       "      <th></th>\n",
       "      <th></th>\n",
       "      <th></th>\n",
       "      <th></th>\n",
       "      <th></th>\n",
       "    </tr>\n",
       "  </thead>\n",
       "  <tbody>\n",
       "    <tr>\n",
       "      <th>Chinatown</th>\n",
       "      <td>2.45</td>\n",
       "      <td>4.05</td>\n",
       "      <td>5</td>\n",
       "      <td>Wood</td>\n",
       "      <td>True</td>\n",
       "    </tr>\n",
       "    <tr>\n",
       "      <th>EVillage</th>\n",
       "      <td>5.00</td>\n",
       "      <td>4.50</td>\n",
       "      <td>5</td>\n",
       "      <td>Wood</td>\n",
       "      <td>True</td>\n",
       "    </tr>\n",
       "    <tr>\n",
       "      <th>LES</th>\n",
       "      <td>4.99</td>\n",
       "      <td>4.50</td>\n",
       "      <td>5</td>\n",
       "      <td>Wood</td>\n",
       "      <td>True</td>\n",
       "    </tr>\n",
       "    <tr>\n",
       "      <th>LittleItaly</th>\n",
       "      <td>4.78</td>\n",
       "      <td>5.25</td>\n",
       "      <td>6</td>\n",
       "      <td>Wood</td>\n",
       "      <td>True</td>\n",
       "    </tr>\n",
       "    <tr>\n",
       "      <th>SoHo</th>\n",
       "      <td>5.00</td>\n",
       "      <td>4.75</td>\n",
       "      <td>6</td>\n",
       "      <td>Wood</td>\n",
       "      <td>True</td>\n",
       "    </tr>\n",
       "  </tbody>\n",
       "</table>\n",
       "</div>"
      ],
      "text/plain": [
       "              Rating  CostPerSlice  EmployeeNumber HeatSource  BrickOven\n",
       "Neighborhood                                                            \n",
       "Chinatown       2.45          4.05               5       Wood       True\n",
       "EVillage        5.00          4.50               5       Wood       True\n",
       "LES             4.99          4.50               5       Wood       True\n",
       "LittleItaly     4.78          5.25               6       Wood       True\n",
       "SoHo            5.00          4.75               6       Wood       True"
      ]
     },
     "execution_count": 59,
     "metadata": {},
     "output_type": "execute_result"
    }
   ],
   "source": [
    "data.groupby(['Neighborhood']).aggregate('max')"
   ]
  },
  {
   "cell_type": "code",
   "execution_count": 36,
   "metadata": {},
   "outputs": [],
   "source": [
    "# SoHo is high 'Rating' in Neighborhood"
   ]
  },
  {
   "cell_type": "code",
   "execution_count": 60,
   "metadata": {},
   "outputs": [
    {
     "data": {
      "text/html": [
       "<div>\n",
       "<style scoped>\n",
       "    .dataframe tbody tr th:only-of-type {\n",
       "        vertical-align: middle;\n",
       "    }\n",
       "\n",
       "    .dataframe tbody tr th {\n",
       "        vertical-align: top;\n",
       "    }\n",
       "\n",
       "    .dataframe thead th {\n",
       "        text-align: right;\n",
       "    }\n",
       "</style>\n",
       "<table border=\"1\" class=\"dataframe\">\n",
       "  <thead>\n",
       "    <tr style=\"text-align: right;\">\n",
       "      <th></th>\n",
       "      <th>Rating</th>\n",
       "      <th>CostPerSlice</th>\n",
       "      <th>EmployeeNumber</th>\n",
       "      <th>BrickOven</th>\n",
       "    </tr>\n",
       "    <tr>\n",
       "      <th>Neighborhood</th>\n",
       "      <th></th>\n",
       "      <th></th>\n",
       "      <th></th>\n",
       "      <th></th>\n",
       "    </tr>\n",
       "  </thead>\n",
       "  <tbody>\n",
       "    <tr>\n",
       "      <th>Chinatown</th>\n",
       "      <td>0.385</td>\n",
       "      <td>2.475</td>\n",
       "      <td>3</td>\n",
       "      <td>True</td>\n",
       "    </tr>\n",
       "    <tr>\n",
       "      <th>EVillage</th>\n",
       "      <td>4.920</td>\n",
       "      <td>2.500</td>\n",
       "      <td>4</td>\n",
       "      <td>False</td>\n",
       "    </tr>\n",
       "    <tr>\n",
       "      <th>LES</th>\n",
       "      <td>3.030</td>\n",
       "      <td>2.500</td>\n",
       "      <td>3</td>\n",
       "      <td>False</td>\n",
       "    </tr>\n",
       "    <tr>\n",
       "      <th>LittleItaly</th>\n",
       "      <td>0.650</td>\n",
       "      <td>2.500</td>\n",
       "      <td>3</td>\n",
       "      <td>False</td>\n",
       "    </tr>\n",
       "    <tr>\n",
       "      <th>SoHo</th>\n",
       "      <td>4.625</td>\n",
       "      <td>2.750</td>\n",
       "      <td>4</td>\n",
       "      <td>False</td>\n",
       "    </tr>\n",
       "  </tbody>\n",
       "</table>\n",
       "</div>"
      ],
      "text/plain": [
       "              Rating  CostPerSlice  EmployeeNumber  BrickOven\n",
       "Neighborhood                                                 \n",
       "Chinatown      0.385         2.475               3       True\n",
       "EVillage       4.920         2.500               4      False\n",
       "LES            3.030         2.500               3      False\n",
       "LittleItaly    0.650         2.500               3      False\n",
       "SoHo           4.625         2.750               4      False"
      ]
     },
     "execution_count": 60,
     "metadata": {},
     "output_type": "execute_result"
    }
   ],
   "source": [
    "data.groupby(['Neighborhood']).aggregate('median')"
   ]
  },
  {
   "cell_type": "code",
   "execution_count": 38,
   "metadata": {},
   "outputs": [],
   "source": [
    "# EVillage is high Rating in Neighborhood"
   ]
  },
  {
   "cell_type": "code",
   "execution_count": 61,
   "metadata": {},
   "outputs": [
    {
     "data": {
      "text/html": [
       "<div>\n",
       "<style scoped>\n",
       "    .dataframe tbody tr th:only-of-type {\n",
       "        vertical-align: middle;\n",
       "    }\n",
       "\n",
       "    .dataframe tbody tr th {\n",
       "        vertical-align: top;\n",
       "    }\n",
       "\n",
       "    .dataframe thead th {\n",
       "        text-align: right;\n",
       "    }\n",
       "</style>\n",
       "<table border=\"1\" class=\"dataframe\">\n",
       "  <thead>\n",
       "    <tr style=\"text-align: right;\">\n",
       "      <th></th>\n",
       "      <th>Rating</th>\n",
       "      <th>CostPerSlice</th>\n",
       "      <th>EmployeeNumber</th>\n",
       "    </tr>\n",
       "    <tr>\n",
       "      <th>BrickOven</th>\n",
       "      <th></th>\n",
       "      <th></th>\n",
       "      <th></th>\n",
       "    </tr>\n",
       "  </thead>\n",
       "  <tbody>\n",
       "    <tr>\n",
       "      <th>False</th>\n",
       "      <td>3.142652</td>\n",
       "      <td>2.549242</td>\n",
       "      <td>3.409091</td>\n",
       "    </tr>\n",
       "    <tr>\n",
       "      <th>True</th>\n",
       "      <td>3.376912</td>\n",
       "      <td>2.652941</td>\n",
       "      <td>3.588235</td>\n",
       "    </tr>\n",
       "  </tbody>\n",
       "</table>\n",
       "</div>"
      ],
      "text/plain": [
       "             Rating  CostPerSlice  EmployeeNumber\n",
       "BrickOven                                        \n",
       "False      3.142652      2.549242        3.409091\n",
       "True       3.376912      2.652941        3.588235"
      ]
     },
     "execution_count": 61,
     "metadata": {},
     "output_type": "execute_result"
    }
   ],
   "source": [
    "data.groupby(['BrickOven']).aggregate('mean')"
   ]
  },
  {
   "cell_type": "code",
   "execution_count": 46,
   "metadata": {},
   "outputs": [],
   "source": [
    "# In mean values, If use BrickOven, 'Rating' is decreased"
   ]
  },
  {
   "cell_type": "code",
   "execution_count": 62,
   "metadata": {},
   "outputs": [
    {
     "data": {
      "text/html": [
       "<div>\n",
       "<style scoped>\n",
       "    .dataframe tbody tr th:only-of-type {\n",
       "        vertical-align: middle;\n",
       "    }\n",
       "\n",
       "    .dataframe tbody tr th {\n",
       "        vertical-align: top;\n",
       "    }\n",
       "\n",
       "    .dataframe thead th {\n",
       "        text-align: right;\n",
       "    }\n",
       "</style>\n",
       "<table border=\"1\" class=\"dataframe\">\n",
       "  <thead>\n",
       "    <tr style=\"text-align: right;\">\n",
       "      <th></th>\n",
       "      <th>Rating</th>\n",
       "      <th>CostPerSlice</th>\n",
       "      <th>EmployeeNumber</th>\n",
       "      <th>HeatSource</th>\n",
       "      <th>Neighborhood</th>\n",
       "    </tr>\n",
       "    <tr>\n",
       "      <th>BrickOven</th>\n",
       "      <th></th>\n",
       "      <th></th>\n",
       "      <th></th>\n",
       "      <th></th>\n",
       "      <th></th>\n",
       "    </tr>\n",
       "  </thead>\n",
       "  <tbody>\n",
       "    <tr>\n",
       "      <th>False</th>\n",
       "      <td>5.0</td>\n",
       "      <td>4.75</td>\n",
       "      <td>6</td>\n",
       "      <td>Gas</td>\n",
       "      <td>SoHo</td>\n",
       "    </tr>\n",
       "    <tr>\n",
       "      <th>True</th>\n",
       "      <td>5.0</td>\n",
       "      <td>5.25</td>\n",
       "      <td>6</td>\n",
       "      <td>Wood</td>\n",
       "      <td>SoHo</td>\n",
       "    </tr>\n",
       "  </tbody>\n",
       "</table>\n",
       "</div>"
      ],
      "text/plain": [
       "           Rating  CostPerSlice  EmployeeNumber HeatSource Neighborhood\n",
       "BrickOven                                                              \n",
       "False         5.0          4.75               6        Gas         SoHo\n",
       "True          5.0          5.25               6       Wood         SoHo"
      ]
     },
     "execution_count": 62,
     "metadata": {},
     "output_type": "execute_result"
    }
   ],
   "source": [
    "data.groupby(['BrickOven']).aggregate('max')"
   ]
  },
  {
   "cell_type": "code",
   "execution_count": 49,
   "metadata": {},
   "outputs": [],
   "source": [
    "# In max values, if use BrickOven, 'Rating' is same."
   ]
  },
  {
   "cell_type": "code",
   "execution_count": 63,
   "metadata": {},
   "outputs": [
    {
     "data": {
      "text/html": [
       "<div>\n",
       "<style scoped>\n",
       "    .dataframe tbody tr th:only-of-type {\n",
       "        vertical-align: middle;\n",
       "    }\n",
       "\n",
       "    .dataframe tbody tr th {\n",
       "        vertical-align: top;\n",
       "    }\n",
       "\n",
       "    .dataframe thead th {\n",
       "        text-align: right;\n",
       "    }\n",
       "</style>\n",
       "<table border=\"1\" class=\"dataframe\">\n",
       "  <thead>\n",
       "    <tr style=\"text-align: right;\">\n",
       "      <th></th>\n",
       "      <th>Rating</th>\n",
       "      <th>CostPerSlice</th>\n",
       "      <th>EmployeeNumber</th>\n",
       "    </tr>\n",
       "    <tr>\n",
       "      <th>BrickOven</th>\n",
       "      <th></th>\n",
       "      <th></th>\n",
       "      <th></th>\n",
       "    </tr>\n",
       "  </thead>\n",
       "  <tbody>\n",
       "    <tr>\n",
       "      <th>False</th>\n",
       "      <td>3.930</td>\n",
       "      <td>2.5</td>\n",
       "      <td>3.0</td>\n",
       "    </tr>\n",
       "    <tr>\n",
       "      <th>True</th>\n",
       "      <td>4.345</td>\n",
       "      <td>2.6</td>\n",
       "      <td>3.5</td>\n",
       "    </tr>\n",
       "  </tbody>\n",
       "</table>\n",
       "</div>"
      ],
      "text/plain": [
       "           Rating  CostPerSlice  EmployeeNumber\n",
       "BrickOven                                      \n",
       "False       3.930           2.5             3.0\n",
       "True        4.345           2.6             3.5"
      ]
     },
     "execution_count": 63,
     "metadata": {},
     "output_type": "execute_result"
    }
   ],
   "source": [
    "data.groupby(['BrickOven']).aggregate('median')"
   ]
  },
  {
   "cell_type": "code",
   "execution_count": null,
   "metadata": {},
   "outputs": [],
   "source": [
    "# In median values, if use BrickOven, 'Rating' is increased "
   ]
  },
  {
   "cell_type": "markdown",
   "metadata": {},
   "source": [
    "4"
   ]
  },
  {
   "cell_type": "code",
   "execution_count": 170,
   "metadata": {},
   "outputs": [],
   "source": [
    "import statsmodels.formula.api as smf\n",
    "from sklearn.linear_model import LinearRegression"
   ]
  },
  {
   "cell_type": "code",
   "execution_count": 171,
   "metadata": {},
   "outputs": [
    {
     "data": {
      "text/plain": [
       "0.13731990654101267"
      ]
     },
     "execution_count": 171,
     "metadata": {},
     "output_type": "execute_result"
    }
   ],
   "source": [
    "feature_cols = ['CostPerSlice', 'EmployeeNumber']\n",
    "X = data[feature_cols]\n",
    "y = data.Rating\n",
    "\n",
    "# instantiate, fit\n",
    "lm = smf.ols(formula ='Rating ~ CostPerSlice+EmployeeNumber', data=data).fit()\n",
    "lm.rsquared"
   ]
  },
  {
   "cell_type": "code",
   "execution_count": 172,
   "metadata": {},
   "outputs": [],
   "source": [
    "# rsquared is 0.812"
   ]
  },
  {
   "cell_type": "code",
   "execution_count": 173,
   "metadata": {},
   "outputs": [
    {
     "data": {
      "text/html": [
       "<div>\n",
       "<style scoped>\n",
       "    .dataframe tbody tr th:only-of-type {\n",
       "        vertical-align: middle;\n",
       "    }\n",
       "\n",
       "    .dataframe tbody tr th {\n",
       "        vertical-align: top;\n",
       "    }\n",
       "\n",
       "    .dataframe thead th {\n",
       "        text-align: right;\n",
       "    }\n",
       "</style>\n",
       "<table border=\"1\" class=\"dataframe\">\n",
       "  <thead>\n",
       "    <tr style=\"text-align: right;\">\n",
       "      <th></th>\n",
       "      <th>Rating</th>\n",
       "      <th>CostPerSlice</th>\n",
       "      <th>EmployeeNumber</th>\n",
       "      <th>HeatSource</th>\n",
       "      <th>BrickOven</th>\n",
       "      <th>Neighborhood</th>\n",
       "      <th>Area_EVillage</th>\n",
       "      <th>Area_LES</th>\n",
       "      <th>Area_LittleItaly</th>\n",
       "      <th>Area_SoHo</th>\n",
       "    </tr>\n",
       "  </thead>\n",
       "  <tbody>\n",
       "    <tr>\n",
       "      <th>0</th>\n",
       "      <td>0.03</td>\n",
       "      <td>1.75</td>\n",
       "      <td>2</td>\n",
       "      <td>Gas</td>\n",
       "      <td>False</td>\n",
       "      <td>LittleItaly</td>\n",
       "      <td>0</td>\n",
       "      <td>0</td>\n",
       "      <td>1</td>\n",
       "      <td>0</td>\n",
       "    </tr>\n",
       "    <tr>\n",
       "      <th>1</th>\n",
       "      <td>4.89</td>\n",
       "      <td>2.75</td>\n",
       "      <td>4</td>\n",
       "      <td>Coal</td>\n",
       "      <td>True</td>\n",
       "      <td>SoHo</td>\n",
       "      <td>0</td>\n",
       "      <td>0</td>\n",
       "      <td>0</td>\n",
       "      <td>1</td>\n",
       "    </tr>\n",
       "    <tr>\n",
       "      <th>2</th>\n",
       "      <td>4.73</td>\n",
       "      <td>4.00</td>\n",
       "      <td>5</td>\n",
       "      <td>Wood</td>\n",
       "      <td>True</td>\n",
       "      <td>LittleItaly</td>\n",
       "      <td>0</td>\n",
       "      <td>0</td>\n",
       "      <td>1</td>\n",
       "      <td>0</td>\n",
       "    </tr>\n",
       "    <tr>\n",
       "      <th>3</th>\n",
       "      <td>0.13</td>\n",
       "      <td>1.75</td>\n",
       "      <td>3</td>\n",
       "      <td>Gas</td>\n",
       "      <td>False</td>\n",
       "      <td>LittleItaly</td>\n",
       "      <td>0</td>\n",
       "      <td>0</td>\n",
       "      <td>1</td>\n",
       "      <td>0</td>\n",
       "    </tr>\n",
       "    <tr>\n",
       "      <th>4</th>\n",
       "      <td>2.45</td>\n",
       "      <td>2.25</td>\n",
       "      <td>3</td>\n",
       "      <td>Wood</td>\n",
       "      <td>True</td>\n",
       "      <td>Chinatown</td>\n",
       "      <td>0</td>\n",
       "      <td>0</td>\n",
       "      <td>0</td>\n",
       "      <td>0</td>\n",
       "    </tr>\n",
       "  </tbody>\n",
       "</table>\n",
       "</div>"
      ],
      "text/plain": [
       "   Rating  CostPerSlice  EmployeeNumber HeatSource  BrickOven Neighborhood  \\\n",
       "0    0.03          1.75               2        Gas      False  LittleItaly   \n",
       "1    4.89          2.75               4       Coal       True         SoHo   \n",
       "2    4.73          4.00               5       Wood       True  LittleItaly   \n",
       "3    0.13          1.75               3        Gas      False  LittleItaly   \n",
       "4    2.45          2.25               3       Wood       True    Chinatown   \n",
       "\n",
       "   Area_EVillage  Area_LES  Area_LittleItaly  Area_SoHo  \n",
       "0              0         0                 1          0  \n",
       "1              0         0                 0          1  \n",
       "2              0         0                 1          0  \n",
       "3              0         0                 1          0  \n",
       "4              0         0                 0          0  "
      ]
     },
     "execution_count": 173,
     "metadata": {},
     "output_type": "execute_result"
    }
   ],
   "source": [
    "area_dummies = pd.get_dummies(data.Neighborhood, prefix='Area').iloc[:, 1:] # prefix : 앞부분(단어의) # iloc[:, 1:] : 모든 index, 1열의 모든 행을 get dummies로 만들어라\n",
    "# data.Area : 이 한 열만 가져오는 것\n",
    "\n",
    "# concatenate the dummy variable columns onto the original DataFrame (axis=0 means rows, axis=1 means columns)\n",
    "data = pd.concat([data, area_dummies], axis=1) # concat : 데이터 프레임 결합\n",
    "data.head()"
   ]
  },
  {
   "cell_type": "code",
   "execution_count": 174,
   "metadata": {},
   "outputs": [
    {
     "data": {
      "text/plain": [
       "0.7275100869736973"
      ]
     },
     "execution_count": 174,
     "metadata": {},
     "output_type": "execute_result"
    }
   ],
   "source": [
    "feature_cols = ['CostPerSlice', 'EmployeeNumber']\n",
    "X = data[feature_cols]\n",
    "y = data.Rating\n",
    "\n",
    "# instantiate, fit\n",
    "lm = smf.ols(formula='Rating ~ CostPerSlice + EmployeeNumber + Area_EVillage + Area_LES + Area_LittleItaly+ Area_SoHo', data=data).fit()\n",
    "lm.rsquared"
   ]
  },
  {
   "cell_type": "code",
   "execution_count": 175,
   "metadata": {},
   "outputs": [],
   "source": [
    "from sklearn.model_selection import train_test_split\n",
    "X_train, X_test, y_train, y_test = train_test_split(X, y, random_state=1)"
   ]
  },
  {
   "cell_type": "code",
   "execution_count": 176,
   "metadata": {},
   "outputs": [
    {
     "data": {
      "text/plain": [
       "DecisionTreeRegressor(random_state=1)"
      ]
     },
     "execution_count": 176,
     "metadata": {},
     "output_type": "execute_result"
    }
   ],
   "source": [
    "from sklearn.tree import DecisionTreeRegressor\n",
    "treereg = DecisionTreeRegressor(random_state=1)\n",
    "treereg.fit(X_train, y_train)"
   ]
  },
  {
   "cell_type": "code",
   "execution_count": 177,
   "metadata": {},
   "outputs": [],
   "source": [
    "preds = treereg.predict(X_test)"
   ]
  },
  {
   "cell_type": "code",
   "execution_count": 178,
   "metadata": {},
   "outputs": [
    {
     "data": {
      "text/plain": [
       "1.6941818901544892"
      ]
     },
     "execution_count": 178,
     "metadata": {},
     "output_type": "execute_result"
    }
   ],
   "source": [
    "from sklearn import metrics\n",
    "import numpy as np\n",
    "np.sqrt(metrics.mean_squared_error(y_test, preds))"
   ]
  },
  {
   "cell_type": "code",
   "execution_count": 179,
   "metadata": {},
   "outputs": [],
   "source": [
    "from sklearn.model_selection import cross_val_score"
   ]
  },
  {
   "cell_type": "code",
   "execution_count": 180,
   "metadata": {},
   "outputs": [
    {
     "data": {
      "text/plain": [
       "1.7756700816622273"
      ]
     },
     "execution_count": 180,
     "metadata": {},
     "output_type": "execute_result"
    }
   ],
   "source": [
    "treereg = DecisionTreeRegressor(max_depth=2, random_state=1)\n",
    "scores = cross_val_score(treereg, X, y, cv=3, scoring='neg_mean_squared_error') #RMSE #cv(cross validatopm):3 # 평균 제곱 오차 : 오차의 제곱에 대한 평균\n",
    "np.mean(np.sqrt(-scores)) "
   ]
  },
  {
   "cell_type": "code",
   "execution_count": 181,
   "metadata": {},
   "outputs": [
    {
     "data": {
      "text/plain": [
       "1.7715401134132212"
      ]
     },
     "execution_count": 181,
     "metadata": {},
     "output_type": "execute_result"
    }
   ],
   "source": [
    "treereg = DecisionTreeRegressor(max_depth=3, random_state=1)\n",
    "scores = cross_val_score(treereg, X, y, cv=3, scoring='neg_mean_squared_error') #RMSE #cv(cross validatopm):3 # 평균 제곱 오차 : 오차의 제곱에 대한 평균\n",
    "np.mean(np.sqrt(-scores)) "
   ]
  },
  {
   "cell_type": "code",
   "execution_count": 183,
   "metadata": {},
   "outputs": [
    {
     "data": {
      "text/plain": [
       "1.8511408363777964"
      ]
     },
     "execution_count": 183,
     "metadata": {},
     "output_type": "execute_result"
    }
   ],
   "source": [
    "treereg = DecisionTreeRegressor(max_depth=4, random_state=1)\n",
    "scores = cross_val_score(treereg, X, y, cv=3, scoring='neg_mean_squared_error') #RMSE #cv(cross validatopm):3 # 평균 제곱 오차 : 오차의 제곱에 대한 평균\n",
    "np.mean(np.sqrt(-scores)) "
   ]
  },
  {
   "cell_type": "code",
   "execution_count": 185,
   "metadata": {},
   "outputs": [],
   "source": [
    "# best rquared is if max_depth is 3, which is 1.7715"
   ]
  },
  {
   "cell_type": "markdown",
   "metadata": {},
   "source": [
    "5"
   ]
  },
  {
   "cell_type": "code",
   "execution_count": 231,
   "metadata": {},
   "outputs": [],
   "source": [
    "data['rate'] = np.where(data['Rating']<=3,\n",
    "'low', 'high')"
   ]
  },
  {
   "cell_type": "code",
   "execution_count": 232,
   "metadata": {},
   "outputs": [
    {
     "data": {
      "text/html": [
       "<div>\n",
       "<style scoped>\n",
       "    .dataframe tbody tr th:only-of-type {\n",
       "        vertical-align: middle;\n",
       "    }\n",
       "\n",
       "    .dataframe tbody tr th {\n",
       "        vertical-align: top;\n",
       "    }\n",
       "\n",
       "    .dataframe thead th {\n",
       "        text-align: right;\n",
       "    }\n",
       "</style>\n",
       "<table border=\"1\" class=\"dataframe\">\n",
       "  <thead>\n",
       "    <tr style=\"text-align: right;\">\n",
       "      <th></th>\n",
       "      <th>Rating</th>\n",
       "      <th>CostPerSlice</th>\n",
       "      <th>EmployeeNumber</th>\n",
       "      <th>HeatSource</th>\n",
       "      <th>BrickOven</th>\n",
       "      <th>Neighborhood</th>\n",
       "      <th>rate</th>\n",
       "    </tr>\n",
       "  </thead>\n",
       "  <tbody>\n",
       "    <tr>\n",
       "      <th>0</th>\n",
       "      <td>0.03</td>\n",
       "      <td>1.75</td>\n",
       "      <td>2</td>\n",
       "      <td>Gas</td>\n",
       "      <td>False</td>\n",
       "      <td>LittleItaly</td>\n",
       "      <td>low</td>\n",
       "    </tr>\n",
       "    <tr>\n",
       "      <th>1</th>\n",
       "      <td>4.89</td>\n",
       "      <td>2.75</td>\n",
       "      <td>4</td>\n",
       "      <td>Coal</td>\n",
       "      <td>True</td>\n",
       "      <td>SoHo</td>\n",
       "      <td>high</td>\n",
       "    </tr>\n",
       "    <tr>\n",
       "      <th>2</th>\n",
       "      <td>4.73</td>\n",
       "      <td>4.00</td>\n",
       "      <td>5</td>\n",
       "      <td>Wood</td>\n",
       "      <td>True</td>\n",
       "      <td>LittleItaly</td>\n",
       "      <td>high</td>\n",
       "    </tr>\n",
       "    <tr>\n",
       "      <th>3</th>\n",
       "      <td>0.13</td>\n",
       "      <td>1.75</td>\n",
       "      <td>3</td>\n",
       "      <td>Gas</td>\n",
       "      <td>False</td>\n",
       "      <td>LittleItaly</td>\n",
       "      <td>low</td>\n",
       "    </tr>\n",
       "    <tr>\n",
       "      <th>4</th>\n",
       "      <td>2.45</td>\n",
       "      <td>2.25</td>\n",
       "      <td>3</td>\n",
       "      <td>Wood</td>\n",
       "      <td>True</td>\n",
       "      <td>Chinatown</td>\n",
       "      <td>low</td>\n",
       "    </tr>\n",
       "    <tr>\n",
       "      <th>...</th>\n",
       "      <td>...</td>\n",
       "      <td>...</td>\n",
       "      <td>...</td>\n",
       "      <td>...</td>\n",
       "      <td>...</td>\n",
       "      <td>...</td>\n",
       "      <td>...</td>\n",
       "    </tr>\n",
       "    <tr>\n",
       "      <th>195</th>\n",
       "      <td>0.88</td>\n",
       "      <td>2.25</td>\n",
       "      <td>3</td>\n",
       "      <td>Wood</td>\n",
       "      <td>True</td>\n",
       "      <td>Chinatown</td>\n",
       "      <td>low</td>\n",
       "    </tr>\n",
       "    <tr>\n",
       "      <th>196</th>\n",
       "      <td>4.27</td>\n",
       "      <td>1.75</td>\n",
       "      <td>2</td>\n",
       "      <td>Gas</td>\n",
       "      <td>False</td>\n",
       "      <td>EVillage</td>\n",
       "      <td>high</td>\n",
       "    </tr>\n",
       "    <tr>\n",
       "      <th>197</th>\n",
       "      <td>3.56</td>\n",
       "      <td>1.25</td>\n",
       "      <td>3</td>\n",
       "      <td>Coal</td>\n",
       "      <td>True</td>\n",
       "      <td>LES</td>\n",
       "      <td>high</td>\n",
       "    </tr>\n",
       "    <tr>\n",
       "      <th>198</th>\n",
       "      <td>0.67</td>\n",
       "      <td>3.00</td>\n",
       "      <td>3</td>\n",
       "      <td>Gas</td>\n",
       "      <td>False</td>\n",
       "      <td>LittleItaly</td>\n",
       "      <td>low</td>\n",
       "    </tr>\n",
       "    <tr>\n",
       "      <th>199</th>\n",
       "      <td>4.95</td>\n",
       "      <td>3.25</td>\n",
       "      <td>4</td>\n",
       "      <td>Wood</td>\n",
       "      <td>True</td>\n",
       "      <td>SoHo</td>\n",
       "      <td>high</td>\n",
       "    </tr>\n",
       "  </tbody>\n",
       "</table>\n",
       "<p>200 rows × 7 columns</p>\n",
       "</div>"
      ],
      "text/plain": [
       "     Rating  CostPerSlice  EmployeeNumber HeatSource  BrickOven Neighborhood  \\\n",
       "0      0.03          1.75               2        Gas      False  LittleItaly   \n",
       "1      4.89          2.75               4       Coal       True         SoHo   \n",
       "2      4.73          4.00               5       Wood       True  LittleItaly   \n",
       "3      0.13          1.75               3        Gas      False  LittleItaly   \n",
       "4      2.45          2.25               3       Wood       True    Chinatown   \n",
       "..      ...           ...             ...        ...        ...          ...   \n",
       "195    0.88          2.25               3       Wood       True    Chinatown   \n",
       "196    4.27          1.75               2        Gas      False     EVillage   \n",
       "197    3.56          1.25               3       Coal       True          LES   \n",
       "198    0.67          3.00               3        Gas      False  LittleItaly   \n",
       "199    4.95          3.25               4       Wood       True         SoHo   \n",
       "\n",
       "     rate  \n",
       "0     low  \n",
       "1    high  \n",
       "2    high  \n",
       "3     low  \n",
       "4     low  \n",
       "..    ...  \n",
       "195   low  \n",
       "196  high  \n",
       "197  high  \n",
       "198   low  \n",
       "199  high  \n",
       "\n",
       "[200 rows x 7 columns]"
      ]
     },
     "execution_count": 232,
     "metadata": {},
     "output_type": "execute_result"
    }
   ],
   "source": [
    "data"
   ]
  },
  {
   "cell_type": "code",
   "execution_count": 233,
   "metadata": {},
   "outputs": [
    {
     "data": {
      "text/plain": [
       "Rating            0\n",
       "CostPerSlice      0\n",
       "EmployeeNumber    0\n",
       "HeatSource        0\n",
       "BrickOven         0\n",
       "Neighborhood      0\n",
       "rate              0\n",
       "dtype: int64"
      ]
     },
     "execution_count": 233,
     "metadata": {},
     "output_type": "execute_result"
    }
   ],
   "source": [
    "data.isnull().sum()"
   ]
  },
  {
   "cell_type": "code",
   "execution_count": 234,
   "metadata": {},
   "outputs": [
    {
     "data": {
      "text/html": [
       "<div>\n",
       "<style scoped>\n",
       "    .dataframe tbody tr th:only-of-type {\n",
       "        vertical-align: middle;\n",
       "    }\n",
       "\n",
       "    .dataframe tbody tr th {\n",
       "        vertical-align: top;\n",
       "    }\n",
       "\n",
       "    .dataframe thead th {\n",
       "        text-align: right;\n",
       "    }\n",
       "</style>\n",
       "<table border=\"1\" class=\"dataframe\">\n",
       "  <thead>\n",
       "    <tr style=\"text-align: right;\">\n",
       "      <th></th>\n",
       "      <th>RATE_high</th>\n",
       "      <th>RATE_low</th>\n",
       "    </tr>\n",
       "  </thead>\n",
       "  <tbody>\n",
       "    <tr>\n",
       "      <th>0</th>\n",
       "      <td>0</td>\n",
       "      <td>1</td>\n",
       "    </tr>\n",
       "    <tr>\n",
       "      <th>1</th>\n",
       "      <td>1</td>\n",
       "      <td>0</td>\n",
       "    </tr>\n",
       "    <tr>\n",
       "      <th>2</th>\n",
       "      <td>1</td>\n",
       "      <td>0</td>\n",
       "    </tr>\n",
       "    <tr>\n",
       "      <th>3</th>\n",
       "      <td>0</td>\n",
       "      <td>1</td>\n",
       "    </tr>\n",
       "    <tr>\n",
       "      <th>4</th>\n",
       "      <td>0</td>\n",
       "      <td>1</td>\n",
       "    </tr>\n",
       "    <tr>\n",
       "      <th>5</th>\n",
       "      <td>1</td>\n",
       "      <td>0</td>\n",
       "    </tr>\n",
       "    <tr>\n",
       "      <th>6</th>\n",
       "      <td>0</td>\n",
       "      <td>1</td>\n",
       "    </tr>\n",
       "    <tr>\n",
       "      <th>7</th>\n",
       "      <td>1</td>\n",
       "      <td>0</td>\n",
       "    </tr>\n",
       "    <tr>\n",
       "      <th>8</th>\n",
       "      <td>1</td>\n",
       "      <td>0</td>\n",
       "    </tr>\n",
       "    <tr>\n",
       "      <th>9</th>\n",
       "      <td>0</td>\n",
       "      <td>1</td>\n",
       "    </tr>\n",
       "  </tbody>\n",
       "</table>\n",
       "</div>"
      ],
      "text/plain": [
       "   RATE_high  RATE_low\n",
       "0          0         1\n",
       "1          1         0\n",
       "2          1         0\n",
       "3          0         1\n",
       "4          0         1\n",
       "5          1         0\n",
       "6          0         1\n",
       "7          1         0\n",
       "8          1         0\n",
       "9          0         1"
      ]
     },
     "execution_count": 234,
     "metadata": {},
     "output_type": "execute_result"
    }
   ],
   "source": [
    "pd.get_dummies(data.rate, prefix='RATE').head(10)"
   ]
  },
  {
   "cell_type": "code",
   "execution_count": 235,
   "metadata": {},
   "outputs": [],
   "source": [
    "rate_dummies = pd.get_dummies(data.rate, prefix='RATE').iloc[:, 1:]\n",
    "\n",
    "# concatenate the two dummy variable columns onto the original DataFrame\n",
    "# note: axis=0 means rows, axis=1 means columns\n",
    "data = pd.concat([data, rate_dummies], axis=1)"
   ]
  },
  {
   "cell_type": "code",
   "execution_count": 236,
   "metadata": {},
   "outputs": [
    {
     "data": {
      "text/html": [
       "<div>\n",
       "<style scoped>\n",
       "    .dataframe tbody tr th:only-of-type {\n",
       "        vertical-align: middle;\n",
       "    }\n",
       "\n",
       "    .dataframe tbody tr th {\n",
       "        vertical-align: top;\n",
       "    }\n",
       "\n",
       "    .dataframe thead th {\n",
       "        text-align: right;\n",
       "    }\n",
       "</style>\n",
       "<table border=\"1\" class=\"dataframe\">\n",
       "  <thead>\n",
       "    <tr style=\"text-align: right;\">\n",
       "      <th></th>\n",
       "      <th>Rating</th>\n",
       "      <th>CostPerSlice</th>\n",
       "      <th>EmployeeNumber</th>\n",
       "      <th>HeatSource</th>\n",
       "      <th>BrickOven</th>\n",
       "      <th>Neighborhood</th>\n",
       "      <th>rate</th>\n",
       "      <th>RATE_low</th>\n",
       "    </tr>\n",
       "  </thead>\n",
       "  <tbody>\n",
       "    <tr>\n",
       "      <th>0</th>\n",
       "      <td>0.03</td>\n",
       "      <td>1.75</td>\n",
       "      <td>2</td>\n",
       "      <td>Gas</td>\n",
       "      <td>False</td>\n",
       "      <td>LittleItaly</td>\n",
       "      <td>low</td>\n",
       "      <td>1</td>\n",
       "    </tr>\n",
       "    <tr>\n",
       "      <th>1</th>\n",
       "      <td>4.89</td>\n",
       "      <td>2.75</td>\n",
       "      <td>4</td>\n",
       "      <td>Coal</td>\n",
       "      <td>True</td>\n",
       "      <td>SoHo</td>\n",
       "      <td>high</td>\n",
       "      <td>0</td>\n",
       "    </tr>\n",
       "    <tr>\n",
       "      <th>2</th>\n",
       "      <td>4.73</td>\n",
       "      <td>4.00</td>\n",
       "      <td>5</td>\n",
       "      <td>Wood</td>\n",
       "      <td>True</td>\n",
       "      <td>LittleItaly</td>\n",
       "      <td>high</td>\n",
       "      <td>0</td>\n",
       "    </tr>\n",
       "    <tr>\n",
       "      <th>3</th>\n",
       "      <td>0.13</td>\n",
       "      <td>1.75</td>\n",
       "      <td>3</td>\n",
       "      <td>Gas</td>\n",
       "      <td>False</td>\n",
       "      <td>LittleItaly</td>\n",
       "      <td>low</td>\n",
       "      <td>1</td>\n",
       "    </tr>\n",
       "    <tr>\n",
       "      <th>4</th>\n",
       "      <td>2.45</td>\n",
       "      <td>2.25</td>\n",
       "      <td>3</td>\n",
       "      <td>Wood</td>\n",
       "      <td>True</td>\n",
       "      <td>Chinatown</td>\n",
       "      <td>low</td>\n",
       "      <td>1</td>\n",
       "    </tr>\n",
       "    <tr>\n",
       "      <th>...</th>\n",
       "      <td>...</td>\n",
       "      <td>...</td>\n",
       "      <td>...</td>\n",
       "      <td>...</td>\n",
       "      <td>...</td>\n",
       "      <td>...</td>\n",
       "      <td>...</td>\n",
       "      <td>...</td>\n",
       "    </tr>\n",
       "    <tr>\n",
       "      <th>195</th>\n",
       "      <td>0.88</td>\n",
       "      <td>2.25</td>\n",
       "      <td>3</td>\n",
       "      <td>Wood</td>\n",
       "      <td>True</td>\n",
       "      <td>Chinatown</td>\n",
       "      <td>low</td>\n",
       "      <td>1</td>\n",
       "    </tr>\n",
       "    <tr>\n",
       "      <th>196</th>\n",
       "      <td>4.27</td>\n",
       "      <td>1.75</td>\n",
       "      <td>2</td>\n",
       "      <td>Gas</td>\n",
       "      <td>False</td>\n",
       "      <td>EVillage</td>\n",
       "      <td>high</td>\n",
       "      <td>0</td>\n",
       "    </tr>\n",
       "    <tr>\n",
       "      <th>197</th>\n",
       "      <td>3.56</td>\n",
       "      <td>1.25</td>\n",
       "      <td>3</td>\n",
       "      <td>Coal</td>\n",
       "      <td>True</td>\n",
       "      <td>LES</td>\n",
       "      <td>high</td>\n",
       "      <td>0</td>\n",
       "    </tr>\n",
       "    <tr>\n",
       "      <th>198</th>\n",
       "      <td>0.67</td>\n",
       "      <td>3.00</td>\n",
       "      <td>3</td>\n",
       "      <td>Gas</td>\n",
       "      <td>False</td>\n",
       "      <td>LittleItaly</td>\n",
       "      <td>low</td>\n",
       "      <td>1</td>\n",
       "    </tr>\n",
       "    <tr>\n",
       "      <th>199</th>\n",
       "      <td>4.95</td>\n",
       "      <td>3.25</td>\n",
       "      <td>4</td>\n",
       "      <td>Wood</td>\n",
       "      <td>True</td>\n",
       "      <td>SoHo</td>\n",
       "      <td>high</td>\n",
       "      <td>0</td>\n",
       "    </tr>\n",
       "  </tbody>\n",
       "</table>\n",
       "<p>200 rows × 8 columns</p>\n",
       "</div>"
      ],
      "text/plain": [
       "     Rating  CostPerSlice  EmployeeNumber HeatSource  BrickOven Neighborhood  \\\n",
       "0      0.03          1.75               2        Gas      False  LittleItaly   \n",
       "1      4.89          2.75               4       Coal       True         SoHo   \n",
       "2      4.73          4.00               5       Wood       True  LittleItaly   \n",
       "3      0.13          1.75               3        Gas      False  LittleItaly   \n",
       "4      2.45          2.25               3       Wood       True    Chinatown   \n",
       "..      ...           ...             ...        ...        ...          ...   \n",
       "195    0.88          2.25               3       Wood       True    Chinatown   \n",
       "196    4.27          1.75               2        Gas      False     EVillage   \n",
       "197    3.56          1.25               3       Coal       True          LES   \n",
       "198    0.67          3.00               3        Gas      False  LittleItaly   \n",
       "199    4.95          3.25               4       Wood       True         SoHo   \n",
       "\n",
       "     rate  RATE_low  \n",
       "0     low         1  \n",
       "1    high         0  \n",
       "2    high         0  \n",
       "3     low         1  \n",
       "4     low         1  \n",
       "..    ...       ...  \n",
       "195   low         1  \n",
       "196  high         0  \n",
       "197  high         0  \n",
       "198   low         1  \n",
       "199  high         0  \n",
       "\n",
       "[200 rows x 8 columns]"
      ]
     },
     "execution_count": 236,
     "metadata": {},
     "output_type": "execute_result"
    }
   ],
   "source": [
    "data"
   ]
  },
  {
   "cell_type": "code",
   "execution_count": 237,
   "metadata": {},
   "outputs": [],
   "source": [
    "feature_cols = ['CostPerSlice', 'EmployeeNumber']\n",
    "\n",
    "# define X and y\n",
    "X = data[feature_cols]\n",
    "y = data.RATE_low"
   ]
  },
  {
   "cell_type": "code",
   "execution_count": 238,
   "metadata": {},
   "outputs": [
    {
     "data": {
      "text/plain": [
       "DecisionTreeClassifier(max_depth=3, random_state=1)"
      ]
     },
     "execution_count": 238,
     "metadata": {},
     "output_type": "execute_result"
    }
   ],
   "source": [
    "from sklearn.tree import DecisionTreeClassifier\n",
    "treeclf = DecisionTreeClassifier(max_depth=3, random_state=1)\n",
    "treeclf.fit(X, y)"
   ]
  },
  {
   "cell_type": "code",
   "execution_count": 239,
   "metadata": {},
   "outputs": [
    {
     "data": {
      "text/html": [
       "<div>\n",
       "<style scoped>\n",
       "    .dataframe tbody tr th:only-of-type {\n",
       "        vertical-align: middle;\n",
       "    }\n",
       "\n",
       "    .dataframe tbody tr th {\n",
       "        vertical-align: top;\n",
       "    }\n",
       "\n",
       "    .dataframe thead th {\n",
       "        text-align: right;\n",
       "    }\n",
       "</style>\n",
       "<table border=\"1\" class=\"dataframe\">\n",
       "  <thead>\n",
       "    <tr style=\"text-align: right;\">\n",
       "      <th></th>\n",
       "      <th>feature</th>\n",
       "      <th>importance</th>\n",
       "    </tr>\n",
       "  </thead>\n",
       "  <tbody>\n",
       "    <tr>\n",
       "      <th>0</th>\n",
       "      <td>CostPerSlice</td>\n",
       "      <td>0.578171</td>\n",
       "    </tr>\n",
       "    <tr>\n",
       "      <th>1</th>\n",
       "      <td>EmployeeNumber</td>\n",
       "      <td>0.421829</td>\n",
       "    </tr>\n",
       "  </tbody>\n",
       "</table>\n",
       "</div>"
      ],
      "text/plain": [
       "          feature  importance\n",
       "0    CostPerSlice    0.578171\n",
       "1  EmployeeNumber    0.421829"
      ]
     },
     "execution_count": 239,
     "metadata": {},
     "output_type": "execute_result"
    }
   ],
   "source": [
    "pd.DataFrame({'feature':feature_cols, 'importance':treeclf.feature_importances_})"
   ]
  },
  {
   "cell_type": "code",
   "execution_count": 240,
   "metadata": {},
   "outputs": [],
   "source": [
    "X_train, X_test, y_train, y_test = train_test_split(X, y, test_size=0.3, random_state=1) "
   ]
  },
  {
   "cell_type": "code",
   "execution_count": 241,
   "metadata": {},
   "outputs": [],
   "source": [
    "treeclf2 = DecisionTreeClassifier()\n",
    "\n",
    "# Train Decision Tree Classifer\n",
    "treeclf2 = treeclf2.fit(X_train,y_train)\n",
    "\n",
    "#Predict the response for test dataset\n",
    "y_pred = treeclf2.predict(X_test)"
   ]
  },
  {
   "cell_type": "code",
   "execution_count": 242,
   "metadata": {},
   "outputs": [
    {
     "name": "stdout",
     "output_type": "stream",
     "text": [
      "Accuracy: 0.6\n"
     ]
    }
   ],
   "source": [
    "print(\"Accuracy:\",metrics.accuracy_score(y_test, y_pred))"
   ]
  },
  {
   "cell_type": "code",
   "execution_count": 243,
   "metadata": {},
   "outputs": [
    {
     "name": "stdout",
     "output_type": "stream",
     "text": [
      "Accuracy of Decision Tree classifier on training set: 0.76\n",
      "Accuracy of Decision Tree classifier on test set: 0.60\n"
     ]
    }
   ],
   "source": [
    "from sklearn.tree import DecisionTreeClassifier\n",
    "clf = DecisionTreeClassifier().fit(X_train, y_train)\n",
    "print('Accuracy of Decision Tree classifier on training set: {:.2f}'\n",
    "     .format(clf.score(X_train, y_train)))\n",
    "print('Accuracy of Decision Tree classifier on test set: {:.2f}'\n",
    "     .format(clf.score(X_test, y_test)))"
   ]
  },
  {
   "cell_type": "markdown",
   "metadata": {},
   "source": [
    "6"
   ]
  },
  {
   "cell_type": "code",
   "execution_count": null,
   "metadata": {},
   "outputs": [],
   "source": [
    "features = ['Rating','EmployeeNumber','CostPerSlice']\n",
    "\n",
    "# Separating out the features\n",
    "x = df.loc[:, features].values # array # feature에 있는 값 반환 # df : 여기에 내 데이터 넣어주기\n",
    "# Separating out the target\n",
    "y = df.loc[:,['target']].values"
   ]
  },
  {
   "cell_type": "code",
   "execution_count": 248,
   "metadata": {},
   "outputs": [],
   "source": [
    "import pandas as pd\n",
    "import numpy as np\n",
    "import matplotlib.pyplot as plt\n",
    "%matplotlib inline\n",
    "\n",
    "from sklearn.cluster import KMeans #library for K-Means Clustering\n",
    "from sklearn import datasets"
   ]
  },
  {
   "cell_type": "code",
   "execution_count": 249,
   "metadata": {},
   "outputs": [],
   "source": [
    "d = data[['Rating','EmployeeNumber','CostPerSlice']].values"
   ]
  },
  {
   "cell_type": "code",
   "execution_count": 251,
   "metadata": {},
   "outputs": [],
   "source": [
    "est = KMeans(n_clusters=3, init='k-means++')#generate a k-means model. you can change from 'random' to 'k-means++' for (sometimes) a better result\n",
    "# est는 클러스터 3개짜리의 데이터 분석하는 것\n",
    "est.fit(d) #fit into the data d -> est에 data d를 넣음\n",
    "y_kmeans = est.predict(d) #"
   ]
  },
  {
   "cell_type": "code",
   "execution_count": 252,
   "metadata": {},
   "outputs": [
    {
     "data": {
      "text/plain": [
       "276.8733186810876"
      ]
     },
     "execution_count": 252,
     "metadata": {},
     "output_type": "execute_result"
    }
   ],
   "source": [
    "est.fit_predict(d) # 클러스터를 만들고 소속 정보를 얻기 위해 fit_predict 메서드를 사용\n",
    "inertia = est.inertia_ # 클러스터의 수가 증가할수록, inertia는 감소-> inertia : error\n",
    "inertia"
   ]
  },
  {
   "cell_type": "code",
   "execution_count": 256,
   "metadata": {},
   "outputs": [
    {
     "ename": "AttributeError",
     "evalue": "'DataFrame' object has no attribute 'data'",
     "output_type": "error",
     "traceback": [
      "\u001b[1;31m---------------------------------------------------------------------------\u001b[0m",
      "\u001b[1;31mAttributeError\u001b[0m                            Traceback (most recent call last)",
      "\u001b[1;32m<ipython-input-256-e4da89e84b13>\u001b[0m in \u001b[0;36m<module>\u001b[1;34m\u001b[0m\n\u001b[0;32m      2\u001b[0m \u001b[0mplt\u001b[0m\u001b[1;33m.\u001b[0m\u001b[0mfigure\u001b[0m\u001b[1;33m(\u001b[0m\u001b[1;33m)\u001b[0m\u001b[1;33m\u001b[0m\u001b[1;33m\u001b[0m\u001b[0m\n\u001b[0;32m      3\u001b[0m \u001b[0mplt\u001b[0m\u001b[1;33m.\u001b[0m\u001b[0mscatter\u001b[0m\u001b[1;33m(\u001b[0m\u001b[0md\u001b[0m\u001b[1;33m[\u001b[0m\u001b[1;33m:\u001b[0m\u001b[1;33m,\u001b[0m \u001b[1;36m2\u001b[0m\u001b[1;33m]\u001b[0m\u001b[1;33m,\u001b[0m \u001b[0md\u001b[0m\u001b[1;33m[\u001b[0m\u001b[1;33m:\u001b[0m\u001b[1;33m,\u001b[0m \u001b[1;36m0\u001b[0m\u001b[1;33m]\u001b[0m\u001b[1;33m,\u001b[0m \u001b[0mc\u001b[0m\u001b[1;33m=\u001b[0m\u001b[0mcolors\u001b[0m\u001b[1;33m[\u001b[0m\u001b[0my_kmeans\u001b[0m\u001b[1;33m]\u001b[0m\u001b[1;33m,\u001b[0m \u001b[0ms\u001b[0m\u001b[1;33m=\u001b[0m\u001b[1;36m50\u001b[0m\u001b[1;33m)\u001b[0m \u001b[1;31m#column2: sepal length(x축), column0:petal length(y축) -> 종류는 3개\u001b[0m\u001b[1;33m\u001b[0m\u001b[1;33m\u001b[0m\u001b[0m\n\u001b[1;32m----> 4\u001b[1;33m \u001b[0mplt\u001b[0m\u001b[1;33m.\u001b[0m\u001b[0mxlabel\u001b[0m\u001b[1;33m(\u001b[0m\u001b[0mdata\u001b[0m\u001b[1;33m.\u001b[0m\u001b[0mdata\u001b[0m\u001b[1;33m[\u001b[0m\u001b[1;36m2\u001b[0m\u001b[1;33m]\u001b[0m\u001b[1;33m)\u001b[0m \u001b[1;31m# petal length\u001b[0m\u001b[1;33m\u001b[0m\u001b[1;33m\u001b[0m\u001b[0m\n\u001b[0m\u001b[0;32m      5\u001b[0m \u001b[0mplt\u001b[0m\u001b[1;33m.\u001b[0m\u001b[0mylabel\u001b[0m\u001b[1;33m(\u001b[0m\u001b[0mdata\u001b[0m\u001b[1;33m.\u001b[0m\u001b[0mdata\u001b[0m\u001b[1;33m[\u001b[0m\u001b[1;36m0\u001b[0m\u001b[1;33m]\u001b[0m\u001b[1;33m)\u001b[0m\u001b[1;33m\u001b[0m\u001b[1;33m\u001b[0m\u001b[0m\n",
      "\u001b[1;32m~\\anaconda3\\lib\\site-packages\\pandas\\core\\generic.py\u001b[0m in \u001b[0;36m__getattr__\u001b[1;34m(self, name)\u001b[0m\n\u001b[0;32m   5137\u001b[0m             \u001b[1;32mif\u001b[0m \u001b[0mself\u001b[0m\u001b[1;33m.\u001b[0m\u001b[0m_info_axis\u001b[0m\u001b[1;33m.\u001b[0m\u001b[0m_can_hold_identifiers_and_holds_name\u001b[0m\u001b[1;33m(\u001b[0m\u001b[0mname\u001b[0m\u001b[1;33m)\u001b[0m\u001b[1;33m:\u001b[0m\u001b[1;33m\u001b[0m\u001b[1;33m\u001b[0m\u001b[0m\n\u001b[0;32m   5138\u001b[0m                 \u001b[1;32mreturn\u001b[0m \u001b[0mself\u001b[0m\u001b[1;33m[\u001b[0m\u001b[0mname\u001b[0m\u001b[1;33m]\u001b[0m\u001b[1;33m\u001b[0m\u001b[1;33m\u001b[0m\u001b[0m\n\u001b[1;32m-> 5139\u001b[1;33m             \u001b[1;32mreturn\u001b[0m \u001b[0mobject\u001b[0m\u001b[1;33m.\u001b[0m\u001b[0m__getattribute__\u001b[0m\u001b[1;33m(\u001b[0m\u001b[0mself\u001b[0m\u001b[1;33m,\u001b[0m \u001b[0mname\u001b[0m\u001b[1;33m)\u001b[0m\u001b[1;33m\u001b[0m\u001b[1;33m\u001b[0m\u001b[0m\n\u001b[0m\u001b[0;32m   5140\u001b[0m \u001b[1;33m\u001b[0m\u001b[0m\n\u001b[0;32m   5141\u001b[0m     \u001b[1;32mdef\u001b[0m \u001b[0m__setattr__\u001b[0m\u001b[1;33m(\u001b[0m\u001b[0mself\u001b[0m\u001b[1;33m,\u001b[0m \u001b[0mname\u001b[0m\u001b[1;33m:\u001b[0m \u001b[0mstr\u001b[0m\u001b[1;33m,\u001b[0m \u001b[0mvalue\u001b[0m\u001b[1;33m)\u001b[0m \u001b[1;33m->\u001b[0m \u001b[1;32mNone\u001b[0m\u001b[1;33m:\u001b[0m\u001b[1;33m\u001b[0m\u001b[1;33m\u001b[0m\u001b[0m\n",
      "\u001b[1;31mAttributeError\u001b[0m: 'DataFrame' object has no attribute 'data'"
     ]
    },
    {
     "data": {
      "image/png": "[encoded data removed]",
      "text/plain": [
       "<Figure size 432x288 with 1 Axes>"
      ]
     },
     "metadata": {
      "needs_background": "light"
     },
     "output_type": "display_data"
    }
   ],
   "source": [
    "colors = np.array(['red','blue','yellow']) #red:group 1, blue:group 2, yellow:group 0\n",
    "plt.figure()\n",
    "plt.scatter(d[:, 2], d[:, 0], c=colors[y_kmeans], s=50) #column2: sepal length(x축), column0:petal length(y축) -> 종류는 3개\n",
    "plt.xlabel(data.d[2]) # petal length\n",
    "plt.ylabel(data.d[0])"
   ]
  },
  {
   "cell_type": "code",
   "execution_count": null,
   "metadata": {},
   "outputs": [],
   "source": []
  }
 ],
 "metadata": {
  "kernelspec": {
   "display_name": "Python 3",
   "language": "python",
   "name": "python3"
  },
  "language_info": {
   "codemirror_mode": {
    "name": "ipython",
    "version": 3
   },
   "file_extension": ".py",
   "mimetype": "text/x-python",
   "name": "python",
   "nbconvert_exporter": "python",
   "pygments_lexer": "ipython3",
   "version": "3.8.3"
  }
 },
 "nbformat": 4,
 "nbformat_minor": 4
}
